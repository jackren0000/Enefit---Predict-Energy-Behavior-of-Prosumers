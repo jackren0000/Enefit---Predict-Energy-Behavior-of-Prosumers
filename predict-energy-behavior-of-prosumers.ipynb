{
 "cells": [
  {
   "cell_type": "code",
   "execution_count": 1,
   "id": "038f8200",
   "metadata": {
    "_cell_guid": "b1076dfc-b9ad-4769-8c92-a6c4dae69d19",
    "_uuid": "8f2839f25d086af736a60e9eeb907d3b93b6e0e5",
    "execution": {
     "iopub.execute_input": "2024-01-08T17:33:16.461847Z",
     "iopub.status.busy": "2024-01-08T17:33:16.461062Z",
     "iopub.status.idle": "2024-01-08T17:33:20.593726Z",
     "shell.execute_reply": "2024-01-08T17:33:20.592113Z"
    },
    "papermill": {
     "duration": 4.139943,
     "end_time": "2024-01-08T17:33:20.596489",
     "exception": false,
     "start_time": "2024-01-08T17:33:16.456546",
     "status": "completed"
    },
    "tags": []
   },
   "outputs": [],
   "source": [
    "## import libraries\n",
    "import os\n",
    "import pandas as pd\n",
    "import numpy as np\n",
    "import matplotlib.pyplot as plt\n",
    "import seaborn as sns\n",
    "# date and time utilities from the standard library\n",
    "from datetime import datetime, date, timedelta\n",
    "from sklearn.metrics import mean_absolute_error\n",
    "from lightgbm import LGBMRegressor\n",
    "# library to suppress warnings for cleaner output\n",
    "import warnings\n",
    "warnings.filterwarnings('ignore')\n",
    "\n",
    "# custom library \n",
    "# import enefit"
   ]
  },
  {
   "cell_type": "code",
   "execution_count": 2,
   "id": "38760f03",
   "metadata": {
    "execution": {
     "iopub.execute_input": "2024-01-08T17:33:20.602848Z",
     "iopub.status.busy": "2024-01-08T17:33:20.602437Z",
     "iopub.status.idle": "2024-01-08T17:33:20.607424Z",
     "shell.execute_reply": "2024-01-08T17:33:20.606163Z"
    },
    "papermill": {
     "duration": 0.010907,
     "end_time": "2024-01-08T17:33:20.609787",
     "exception": false,
     "start_time": "2024-01-08T17:33:20.598880",
     "status": "completed"
    },
    "tags": []
   },
   "outputs": [],
   "source": [
    "# update data directory path\n",
    "DATA_DIR = '/kaggle/input/predict-energy-behavior-of-prosumers'"
   ]
  },
  {
   "cell_type": "code",
   "execution_count": 3,
   "id": "1fa85960",
   "metadata": {
    "execution": {
     "iopub.execute_input": "2024-01-08T17:33:20.615747Z",
     "iopub.status.busy": "2024-01-08T17:33:20.615307Z",
     "iopub.status.idle": "2024-01-08T17:33:20.636204Z",
     "shell.execute_reply": "2024-01-08T17:33:20.634367Z"
    },
    "papermill": {
     "duration": 0.027266,
     "end_time": "2024-01-08T17:33:20.639237",
     "exception": false,
     "start_time": "2024-01-08T17:33:20.611971",
     "status": "completed"
    },
    "tags": []
   },
   "outputs": [
    {
     "name": "stdout",
     "output_type": "stream",
     "text": [
      "/kaggle/input/predict-energy-behavior-of-prosumers/client.csv\n",
      "/kaggle/input/predict-energy-behavior-of-prosumers/gas_prices.csv\n",
      "/kaggle/input/predict-energy-behavior-of-prosumers/electricity_prices.csv\n",
      "/kaggle/input/predict-energy-behavior-of-prosumers/weather_station_to_county_mapping.csv\n",
      "/kaggle/input/predict-energy-behavior-of-prosumers/public_timeseries_testing_util.py\n",
      "/kaggle/input/predict-energy-behavior-of-prosumers/historical_weather.csv\n",
      "/kaggle/input/predict-energy-behavior-of-prosumers/county_id_to_name_map.json\n",
      "/kaggle/input/predict-energy-behavior-of-prosumers/train.csv\n",
      "/kaggle/input/predict-energy-behavior-of-prosumers/forecast_weather.csv\n",
      "/kaggle/input/predict-energy-behavior-of-prosumers/example_test_files/sample_submission.csv\n",
      "/kaggle/input/predict-energy-behavior-of-prosumers/example_test_files/client.csv\n",
      "/kaggle/input/predict-energy-behavior-of-prosumers/example_test_files/gas_prices.csv\n",
      "/kaggle/input/predict-energy-behavior-of-prosumers/example_test_files/electricity_prices.csv\n",
      "/kaggle/input/predict-energy-behavior-of-prosumers/example_test_files/historical_weather.csv\n",
      "/kaggle/input/predict-energy-behavior-of-prosumers/example_test_files/revealed_targets.csv\n",
      "/kaggle/input/predict-energy-behavior-of-prosumers/example_test_files/test.csv\n",
      "/kaggle/input/predict-energy-behavior-of-prosumers/example_test_files/forecast_weather.csv\n",
      "/kaggle/input/predict-energy-behavior-of-prosumers/enefit/competition.cpython-310-x86_64-linux-gnu.so\n",
      "/kaggle/input/predict-energy-behavior-of-prosumers/enefit/__init__.py\n"
     ]
    }
   ],
   "source": [
    "## get the full path of all files\n",
    "# walk through the every directory inside DATA_DIR \n",
    "for dirpath, dirnames, filenames in os.walk(DATA_DIR):\n",
    "    # within each directory, iterate over every filename\n",
    "    for filename in filenames:\n",
    "        # join the directory path and filename\n",
    "        print(os.path.join(dirpath, filename))"
   ]
  },
  {
   "cell_type": "code",
   "execution_count": null,
   "id": "cbc0fa64",
   "metadata": {
    "papermill": {
     "duration": 0.001988,
     "end_time": "2024-01-08T17:33:20.643664",
     "exception": false,
     "start_time": "2024-01-08T17:33:20.641676",
     "status": "completed"
    },
    "tags": []
   },
   "outputs": [],
   "source": []
  }
 ],
 "metadata": {
  "kaggle": {
   "accelerator": "none",
   "dataSources": [
    {
     "datasetId": 4278088,
     "sourceId": 7364268,
     "sourceType": "datasetVersion"
    }
   ],
   "dockerImageVersionId": 30626,
   "isGpuEnabled": false,
   "isInternetEnabled": true,
   "language": "python",
   "sourceType": "notebook"
  },
  "kernelspec": {
   "display_name": "Python 3",
   "language": "python",
   "name": "python3"
  },
  "language_info": {
   "codemirror_mode": {
    "name": "ipython",
    "version": 3
   },
   "file_extension": ".py",
   "mimetype": "text/x-python",
   "name": "python",
   "nbconvert_exporter": "python",
   "pygments_lexer": "ipython3",
   "version": "3.10.12"
  },
  "papermill": {
   "default_parameters": {},
   "duration": 9.577019,
   "end_time": "2024-01-08T17:33:21.468691",
   "environment_variables": {},
   "exception": null,
   "input_path": "__notebook__.ipynb",
   "output_path": "__notebook__.ipynb",
   "parameters": {},
   "start_time": "2024-01-08T17:33:11.891672",
   "version": "2.4.0"
  }
 },
 "nbformat": 4,
 "nbformat_minor": 5
}
