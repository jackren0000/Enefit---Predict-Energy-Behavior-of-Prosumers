{
 "cells": [
  {
   "cell_type": "code",
   "execution_count": 1,
   "id": "b458fd93",
   "metadata": {
    "_cell_guid": "b1076dfc-b9ad-4769-8c92-a6c4dae69d19",
    "_uuid": "8f2839f25d086af736a60e9eeb907d3b93b6e0e5",
    "execution": {
     "iopub.execute_input": "2024-01-08T17:26:46.188612Z",
     "iopub.status.busy": "2024-01-08T17:26:46.187877Z",
     "iopub.status.idle": "2024-01-08T17:26:50.246925Z",
     "shell.execute_reply": "2024-01-08T17:26:50.245388Z"
    },
    "papermill": {
     "duration": 4.06776,
     "end_time": "2024-01-08T17:26:50.250521",
     "exception": false,
     "start_time": "2024-01-08T17:26:46.182761",
     "status": "completed"
    },
    "tags": []
   },
   "outputs": [],
   "source": [
    "## import libraries\n",
    "import os \n",
    "import pandas as pd\n",
    "import numpy as np\n",
    "import matplotlib.pyplot as plt\n",
    "import seaborn as sns\n",
    "from datetime import datetime, date, timedelta\n",
    "# import enefit\n",
    "from sklearn.metrics import mean_absolute_error\n",
    "from lightgbm import LGBMRegressor\n",
    "import warnings\n",
    "warnings.filterwarnings('ignore')"
   ]
  },
  {
   "cell_type": "code",
   "execution_count": 2,
   "id": "68feb2da",
   "metadata": {
    "execution": {
     "iopub.execute_input": "2024-01-08T17:26:50.261678Z",
     "iopub.status.busy": "2024-01-08T17:26:50.260443Z",
     "iopub.status.idle": "2024-01-08T17:26:50.266033Z",
     "shell.execute_reply": "2024-01-08T17:26:50.265048Z"
    },
    "papermill": {
     "duration": 0.013528,
     "end_time": "2024-01-08T17:26:50.268601",
     "exception": false,
     "start_time": "2024-01-08T17:26:50.255073",
     "status": "completed"
    },
    "tags": []
   },
   "outputs": [],
   "source": [
    "# update data directory path\n",
    "DATA_DIR = '/kaggle/input/predict-energy-behavior-of-prosumers'"
   ]
  },
  {
   "cell_type": "code",
   "execution_count": 3,
   "id": "95213759",
   "metadata": {
    "execution": {
     "iopub.execute_input": "2024-01-08T17:26:50.276529Z",
     "iopub.status.busy": "2024-01-08T17:26:50.276117Z",
     "iopub.status.idle": "2024-01-08T17:26:50.303095Z",
     "shell.execute_reply": "2024-01-08T17:26:50.301346Z"
    },
    "papermill": {
     "duration": 0.034441,
     "end_time": "2024-01-08T17:26:50.305962",
     "exception": false,
     "start_time": "2024-01-08T17:26:50.271521",
     "status": "completed"
    },
    "tags": []
   },
   "outputs": [
    {
     "name": "stdout",
     "output_type": "stream",
     "text": [
      "/kaggle/input/predict-energy-behavior-of-prosumers/client.csv\n",
      "/kaggle/input/predict-energy-behavior-of-prosumers/gas_prices.csv\n",
      "/kaggle/input/predict-energy-behavior-of-prosumers/electricity_prices.csv\n",
      "/kaggle/input/predict-energy-behavior-of-prosumers/weather_station_to_county_mapping.csv\n",
      "/kaggle/input/predict-energy-behavior-of-prosumers/public_timeseries_testing_util.py\n",
      "/kaggle/input/predict-energy-behavior-of-prosumers/historical_weather.csv\n",
      "/kaggle/input/predict-energy-behavior-of-prosumers/county_id_to_name_map.json\n",
      "/kaggle/input/predict-energy-behavior-of-prosumers/train.csv\n",
      "/kaggle/input/predict-energy-behavior-of-prosumers/forecast_weather.csv\n",
      "/kaggle/input/predict-energy-behavior-of-prosumers/example_test_files/sample_submission.csv\n",
      "/kaggle/input/predict-energy-behavior-of-prosumers/example_test_files/client.csv\n",
      "/kaggle/input/predict-energy-behavior-of-prosumers/example_test_files/gas_prices.csv\n",
      "/kaggle/input/predict-energy-behavior-of-prosumers/example_test_files/electricity_prices.csv\n",
      "/kaggle/input/predict-energy-behavior-of-prosumers/example_test_files/historical_weather.csv\n",
      "/kaggle/input/predict-energy-behavior-of-prosumers/example_test_files/revealed_targets.csv\n",
      "/kaggle/input/predict-energy-behavior-of-prosumers/example_test_files/test.csv\n",
      "/kaggle/input/predict-energy-behavior-of-prosumers/example_test_files/forecast_weather.csv\n",
      "/kaggle/input/predict-energy-behavior-of-prosumers/enefit/competition.cpython-310-x86_64-linux-gnu.so\n",
      "/kaggle/input/predict-energy-behavior-of-prosumers/enefit/__init__.py\n"
     ]
    }
   ],
   "source": [
    "## get the full path of all files\n",
    "# walk through the every directory inside DATA_DIR \n",
    "for dirpath, dirnames, filenames in os.walk(DATA_DIR):\n",
    "    # within each directory, iterate over every filename\n",
    "    for filename in filenames:\n",
    "        # join the directory path and filename\n",
    "        print(os.path.join(dirpath, filename))"
   ]
  },
  {
   "cell_type": "code",
   "execution_count": null,
   "id": "7580a784",
   "metadata": {
    "papermill": {
     "duration": 0.00246,
     "end_time": "2024-01-08T17:26:50.311279",
     "exception": false,
     "start_time": "2024-01-08T17:26:50.308819",
     "status": "completed"
    },
    "tags": []
   },
   "outputs": [],
   "source": []
  }
 ],
 "metadata": {
  "kaggle": {
   "accelerator": "none",
   "dataSources": [
    {
     "datasetId": 4278088,
     "sourceId": 7364268,
     "sourceType": "datasetVersion"
    }
   ],
   "dockerImageVersionId": 30626,
   "isGpuEnabled": false,
   "isInternetEnabled": true,
   "language": "python",
   "sourceType": "notebook"
  },
  "kernelspec": {
   "display_name": "Python 3",
   "language": "python",
   "name": "python3"
  },
  "language_info": {
   "codemirror_mode": {
    "name": "ipython",
    "version": 3
   },
   "file_extension": ".py",
   "mimetype": "text/x-python",
   "name": "python",
   "nbconvert_exporter": "python",
   "pygments_lexer": "ipython3",
   "version": "3.10.12"
  },
  "papermill": {
   "default_parameters": {},
   "duration": 8.601312,
   "end_time": "2024-01-08T17:26:51.136291",
   "environment_variables": {},
   "exception": null,
   "input_path": "__notebook__.ipynb",
   "output_path": "__notebook__.ipynb",
   "parameters": {},
   "start_time": "2024-01-08T17:26:42.534979",
   "version": "2.4.0"
  }
 },
 "nbformat": 4,
 "nbformat_minor": 5
}
