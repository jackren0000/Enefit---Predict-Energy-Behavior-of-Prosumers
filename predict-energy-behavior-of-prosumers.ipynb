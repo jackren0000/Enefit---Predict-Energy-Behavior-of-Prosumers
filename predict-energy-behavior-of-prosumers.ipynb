{
 "cells": [
  {
   "cell_type": "code",
   "execution_count": 1,
   "id": "62b866d6",
   "metadata": {
    "_cell_guid": "b1076dfc-b9ad-4769-8c92-a6c4dae69d19",
    "_uuid": "8f2839f25d086af736a60e9eeb907d3b93b6e0e5",
    "execution": {
     "iopub.execute_input": "2024-01-08T18:15:15.593331Z",
     "iopub.status.busy": "2024-01-08T18:15:15.592904Z",
     "iopub.status.idle": "2024-01-08T18:15:19.290372Z",
     "shell.execute_reply": "2024-01-08T18:15:19.289148Z"
    },
    "papermill": {
     "duration": 3.706624,
     "end_time": "2024-01-08T18:15:19.293280",
     "exception": false,
     "start_time": "2024-01-08T18:15:15.586656",
     "status": "completed"
    },
    "tags": []
   },
   "outputs": [],
   "source": [
    "## import libraries\n",
    "import os\n",
    "import pandas as pd\n",
    "import numpy as np\n",
    "import matplotlib.pyplot as plt\n",
    "import seaborn as sns\n",
    "# date and time utilities from the standard library\n",
    "from datetime import datetime, date, timedelta\n",
    "from sklearn.metrics import mean_absolute_error\n",
    "from lightgbm import LGBMRegressor\n",
    "# library to suppress warnings for cleaner output\n",
    "import warnings\n",
    "warnings.filterwarnings('ignore')\n",
    "\n",
    "# custom library \n",
    "# import enefit"
   ]
  },
  {
   "cell_type": "code",
   "execution_count": 2,
   "id": "19bbf332",
   "metadata": {
    "execution": {
     "iopub.execute_input": "2024-01-08T18:15:19.304085Z",
     "iopub.status.busy": "2024-01-08T18:15:19.303681Z",
     "iopub.status.idle": "2024-01-08T18:15:19.308422Z",
     "shell.execute_reply": "2024-01-08T18:15:19.307323Z"
    },
    "papermill": {
     "duration": 0.012644,
     "end_time": "2024-01-08T18:15:19.310670",
     "exception": false,
     "start_time": "2024-01-08T18:15:19.298026",
     "status": "completed"
    },
    "tags": []
   },
   "outputs": [],
   "source": [
    "# update data directory path\n",
    "DATA_DIR = '/kaggle/input/predict-energy-behavior-of-prosumers'"
   ]
  },
  {
   "cell_type": "code",
   "execution_count": 3,
   "id": "651cf195",
   "metadata": {
    "execution": {
     "iopub.execute_input": "2024-01-08T18:15:19.321772Z",
     "iopub.status.busy": "2024-01-08T18:15:19.320838Z",
     "iopub.status.idle": "2024-01-08T18:15:19.339837Z",
     "shell.execute_reply": "2024-01-08T18:15:19.338707Z"
    },
    "papermill": {
     "duration": 0.027121,
     "end_time": "2024-01-08T18:15:19.342417",
     "exception": false,
     "start_time": "2024-01-08T18:15:19.315296",
     "status": "completed"
    },
    "tags": []
   },
   "outputs": [
    {
     "name": "stdout",
     "output_type": "stream",
     "text": [
      "/kaggle/input/predict-energy-behavior-of-prosumers/client.csv\n",
      "/kaggle/input/predict-energy-behavior-of-prosumers/gas_prices.csv\n",
      "/kaggle/input/predict-energy-behavior-of-prosumers/electricity_prices.csv\n",
      "/kaggle/input/predict-energy-behavior-of-prosumers/weather_station_to_county_mapping.csv\n",
      "/kaggle/input/predict-energy-behavior-of-prosumers/public_timeseries_testing_util.py\n",
      "/kaggle/input/predict-energy-behavior-of-prosumers/historical_weather.csv\n",
      "/kaggle/input/predict-energy-behavior-of-prosumers/county_id_to_name_map.json\n",
      "/kaggle/input/predict-energy-behavior-of-prosumers/train.csv\n",
      "/kaggle/input/predict-energy-behavior-of-prosumers/forecast_weather.csv\n",
      "/kaggle/input/predict-energy-behavior-of-prosumers/example_test_files/sample_submission.csv\n",
      "/kaggle/input/predict-energy-behavior-of-prosumers/example_test_files/client.csv\n",
      "/kaggle/input/predict-energy-behavior-of-prosumers/example_test_files/gas_prices.csv\n",
      "/kaggle/input/predict-energy-behavior-of-prosumers/example_test_files/electricity_prices.csv\n",
      "/kaggle/input/predict-energy-behavior-of-prosumers/example_test_files/historical_weather.csv\n",
      "/kaggle/input/predict-energy-behavior-of-prosumers/example_test_files/revealed_targets.csv\n",
      "/kaggle/input/predict-energy-behavior-of-prosumers/example_test_files/test.csv\n",
      "/kaggle/input/predict-energy-behavior-of-prosumers/example_test_files/forecast_weather.csv\n",
      "/kaggle/input/predict-energy-behavior-of-prosumers/enefit/competition.cpython-310-x86_64-linux-gnu.so\n",
      "/kaggle/input/predict-energy-behavior-of-prosumers/enefit/__init__.py\n"
     ]
    }
   ],
   "source": [
    "## get the full path of all files\n",
    "# walk through the every directory inside DATA_DIR \n",
    "for dirpath, dirnames, filenames in os.walk(DATA_DIR):\n",
    "    # within each directory, iterate over every filename\n",
    "    for filename in filenames:\n",
    "        # join the directory path and filename\n",
    "        print(os.path.join(dirpath, filename))"
   ]
  },
  {
   "cell_type": "code",
   "execution_count": 4,
   "id": "ba52403d",
   "metadata": {
    "execution": {
     "iopub.execute_input": "2024-01-08T18:15:19.353385Z",
     "iopub.status.busy": "2024-01-08T18:15:19.352654Z",
     "iopub.status.idle": "2024-01-08T18:15:47.201856Z",
     "shell.execute_reply": "2024-01-08T18:15:47.200714Z"
    },
    "papermill": {
     "duration": 27.858279,
     "end_time": "2024-01-08T18:15:47.205157",
     "exception": false,
     "start_time": "2024-01-08T18:15:19.346878",
     "status": "completed"
    },
    "tags": []
   },
   "outputs": [],
   "source": [
    "# read the CSV files into DataFrames\n",
    "train = pd.read_csv(os.path.join(DATA_DIR, \"train.csv\"))\n",
    "gas_df = pd.read_csv(os.path.join(DATA_DIR, \"gas_prices.csv\"))\n",
    "electricity_df = pd.read_csv(os.path.join(DATA_DIR, \"electricity_prices.csv\"))\n",
    "client_df = pd.read_csv(os.path.join(DATA_DIR, \"client.csv\"))\n",
    "fw_df = pd.read_csv(os.path.join(DATA_DIR, \"forecast_weather.csv\"))\n",
    "hw_df = pd.read_csv(os.path.join(DATA_DIR, \"historical_weather.csv\"))\n",
    "\n",
    "# read a file from a different directory\n",
    "# locations = pd.read_csv(\"/kaggle/input/fabiendaniels-mapping-locations-and-county-codes/county_lon_lats.csv\")"
   ]
  },
  {
   "cell_type": "code",
   "execution_count": 5,
   "id": "484e6202",
   "metadata": {
    "execution": {
     "iopub.execute_input": "2024-01-08T18:15:47.216751Z",
     "iopub.status.busy": "2024-01-08T18:15:47.216255Z",
     "iopub.status.idle": "2024-01-08T18:15:47.246646Z",
     "shell.execute_reply": "2024-01-08T18:15:47.245494Z"
    },
    "papermill": {
     "duration": 0.039502,
     "end_time": "2024-01-08T18:15:47.249238",
     "exception": false,
     "start_time": "2024-01-08T18:15:47.209736",
     "status": "completed"
    },
    "tags": []
   },
   "outputs": [
    {
     "data": {
      "text/html": [
       "<div>\n",
       "<style scoped>\n",
       "    .dataframe tbody tr th:only-of-type {\n",
       "        vertical-align: middle;\n",
       "    }\n",
       "\n",
       "    .dataframe tbody tr th {\n",
       "        vertical-align: top;\n",
       "    }\n",
       "\n",
       "    .dataframe thead th {\n",
       "        text-align: right;\n",
       "    }\n",
       "</style>\n",
       "<table border=\"1\" class=\"dataframe\">\n",
       "  <thead>\n",
       "    <tr style=\"text-align: right;\">\n",
       "      <th></th>\n",
       "      <th>county</th>\n",
       "      <th>is_business</th>\n",
       "      <th>product_type</th>\n",
       "      <th>target</th>\n",
       "      <th>is_consumption</th>\n",
       "      <th>datetime</th>\n",
       "      <th>data_block_id</th>\n",
       "      <th>row_id</th>\n",
       "      <th>prediction_unit_id</th>\n",
       "    </tr>\n",
       "  </thead>\n",
       "  <tbody>\n",
       "    <tr>\n",
       "      <th>0</th>\n",
       "      <td>0</td>\n",
       "      <td>0</td>\n",
       "      <td>1</td>\n",
       "      <td>0.713</td>\n",
       "      <td>0</td>\n",
       "      <td>2021-09-01 00:00:00</td>\n",
       "      <td>0</td>\n",
       "      <td>0</td>\n",
       "      <td>0</td>\n",
       "    </tr>\n",
       "    <tr>\n",
       "      <th>1</th>\n",
       "      <td>0</td>\n",
       "      <td>0</td>\n",
       "      <td>1</td>\n",
       "      <td>96.590</td>\n",
       "      <td>1</td>\n",
       "      <td>2021-09-01 00:00:00</td>\n",
       "      <td>0</td>\n",
       "      <td>1</td>\n",
       "      <td>0</td>\n",
       "    </tr>\n",
       "    <tr>\n",
       "      <th>2</th>\n",
       "      <td>0</td>\n",
       "      <td>0</td>\n",
       "      <td>2</td>\n",
       "      <td>0.000</td>\n",
       "      <td>0</td>\n",
       "      <td>2021-09-01 00:00:00</td>\n",
       "      <td>0</td>\n",
       "      <td>2</td>\n",
       "      <td>1</td>\n",
       "    </tr>\n",
       "    <tr>\n",
       "      <th>3</th>\n",
       "      <td>0</td>\n",
       "      <td>0</td>\n",
       "      <td>2</td>\n",
       "      <td>17.314</td>\n",
       "      <td>1</td>\n",
       "      <td>2021-09-01 00:00:00</td>\n",
       "      <td>0</td>\n",
       "      <td>3</td>\n",
       "      <td>1</td>\n",
       "    </tr>\n",
       "    <tr>\n",
       "      <th>4</th>\n",
       "      <td>0</td>\n",
       "      <td>0</td>\n",
       "      <td>3</td>\n",
       "      <td>2.904</td>\n",
       "      <td>0</td>\n",
       "      <td>2021-09-01 00:00:00</td>\n",
       "      <td>0</td>\n",
       "      <td>4</td>\n",
       "      <td>2</td>\n",
       "    </tr>\n",
       "  </tbody>\n",
       "</table>\n",
       "</div>"
      ],
      "text/plain": [
       "   county  is_business  product_type  target  is_consumption  \\\n",
       "0       0            0             1   0.713               0   \n",
       "1       0            0             1  96.590               1   \n",
       "2       0            0             2   0.000               0   \n",
       "3       0            0             2  17.314               1   \n",
       "4       0            0             3   2.904               0   \n",
       "\n",
       "              datetime  data_block_id  row_id  prediction_unit_id  \n",
       "0  2021-09-01 00:00:00              0       0                   0  \n",
       "1  2021-09-01 00:00:00              0       1                   0  \n",
       "2  2021-09-01 00:00:00              0       2                   1  \n",
       "3  2021-09-01 00:00:00              0       3                   1  \n",
       "4  2021-09-01 00:00:00              0       4                   2  "
      ]
     },
     "execution_count": 5,
     "metadata": {},
     "output_type": "execute_result"
    }
   ],
   "source": [
    "train.head()"
   ]
  },
  {
   "cell_type": "code",
   "execution_count": 6,
   "id": "f05368a9",
   "metadata": {
    "execution": {
     "iopub.execute_input": "2024-01-08T18:15:47.260547Z",
     "iopub.status.busy": "2024-01-08T18:15:47.260096Z",
     "iopub.status.idle": "2024-01-08T18:15:47.715608Z",
     "shell.execute_reply": "2024-01-08T18:15:47.714423Z"
    },
    "papermill": {
     "duration": 0.464109,
     "end_time": "2024-01-08T18:15:47.718149",
     "exception": false,
     "start_time": "2024-01-08T18:15:47.254040",
     "status": "completed"
    },
    "tags": []
   },
   "outputs": [
    {
     "data": {
      "text/html": [
       "<div>\n",
       "<style scoped>\n",
       "    .dataframe tbody tr th:only-of-type {\n",
       "        vertical-align: middle;\n",
       "    }\n",
       "\n",
       "    .dataframe tbody tr th {\n",
       "        vertical-align: top;\n",
       "    }\n",
       "\n",
       "    .dataframe thead th {\n",
       "        text-align: right;\n",
       "    }\n",
       "</style>\n",
       "<table border=\"1\" class=\"dataframe\">\n",
       "  <thead>\n",
       "    <tr style=\"text-align: right;\">\n",
       "      <th></th>\n",
       "      <th>count</th>\n",
       "      <th>mean</th>\n",
       "      <th>std</th>\n",
       "      <th>min</th>\n",
       "      <th>25%</th>\n",
       "      <th>50%</th>\n",
       "      <th>75%</th>\n",
       "      <th>max</th>\n",
       "    </tr>\n",
       "  </thead>\n",
       "  <tbody>\n",
       "    <tr>\n",
       "      <th>county</th>\n",
       "      <td>2018352.0</td>\n",
       "      <td>7.297034e+00</td>\n",
       "      <td>4.780990</td>\n",
       "      <td>0.0</td>\n",
       "      <td>3.000</td>\n",
       "      <td>7.000</td>\n",
       "      <td>1.100000e+01</td>\n",
       "      <td>15.000</td>\n",
       "    </tr>\n",
       "    <tr>\n",
       "      <th>is_business</th>\n",
       "      <td>2018352.0</td>\n",
       "      <td>5.368261e-01</td>\n",
       "      <td>0.498642</td>\n",
       "      <td>0.0</td>\n",
       "      <td>0.000</td>\n",
       "      <td>1.000</td>\n",
       "      <td>1.000000e+00</td>\n",
       "      <td>1.000</td>\n",
       "    </tr>\n",
       "    <tr>\n",
       "      <th>product_type</th>\n",
       "      <td>2018352.0</td>\n",
       "      <td>1.898927e+00</td>\n",
       "      <td>1.081766</td>\n",
       "      <td>0.0</td>\n",
       "      <td>1.000</td>\n",
       "      <td>2.000</td>\n",
       "      <td>3.000000e+00</td>\n",
       "      <td>3.000</td>\n",
       "    </tr>\n",
       "    <tr>\n",
       "      <th>target</th>\n",
       "      <td>2017824.0</td>\n",
       "      <td>2.748556e+02</td>\n",
       "      <td>909.502378</td>\n",
       "      <td>0.0</td>\n",
       "      <td>0.378</td>\n",
       "      <td>31.133</td>\n",
       "      <td>1.802062e+02</td>\n",
       "      <td>15480.274</td>\n",
       "    </tr>\n",
       "    <tr>\n",
       "      <th>is_consumption</th>\n",
       "      <td>2018352.0</td>\n",
       "      <td>5.000000e-01</td>\n",
       "      <td>0.500000</td>\n",
       "      <td>0.0</td>\n",
       "      <td>0.000</td>\n",
       "      <td>0.500</td>\n",
       "      <td>1.000000e+00</td>\n",
       "      <td>1.000</td>\n",
       "    </tr>\n",
       "    <tr>\n",
       "      <th>data_block_id</th>\n",
       "      <td>2018352.0</td>\n",
       "      <td>3.218746e+02</td>\n",
       "      <td>182.634314</td>\n",
       "      <td>0.0</td>\n",
       "      <td>166.000</td>\n",
       "      <td>323.000</td>\n",
       "      <td>4.790000e+02</td>\n",
       "      <td>637.000</td>\n",
       "    </tr>\n",
       "    <tr>\n",
       "      <th>row_id</th>\n",
       "      <td>2018352.0</td>\n",
       "      <td>1.009176e+06</td>\n",
       "      <td>582648.179597</td>\n",
       "      <td>0.0</td>\n",
       "      <td>504587.750</td>\n",
       "      <td>1009175.500</td>\n",
       "      <td>1.513763e+06</td>\n",
       "      <td>2018351.000</td>\n",
       "    </tr>\n",
       "    <tr>\n",
       "      <th>prediction_unit_id</th>\n",
       "      <td>2018352.0</td>\n",
       "      <td>3.304538e+01</td>\n",
       "      <td>19.590594</td>\n",
       "      <td>0.0</td>\n",
       "      <td>16.000</td>\n",
       "      <td>33.000</td>\n",
       "      <td>5.000000e+01</td>\n",
       "      <td>68.000</td>\n",
       "    </tr>\n",
       "  </tbody>\n",
       "</table>\n",
       "</div>"
      ],
      "text/plain": [
       "                        count          mean            std  min         25%  \\\n",
       "county              2018352.0  7.297034e+00       4.780990  0.0       3.000   \n",
       "is_business         2018352.0  5.368261e-01       0.498642  0.0       0.000   \n",
       "product_type        2018352.0  1.898927e+00       1.081766  0.0       1.000   \n",
       "target              2017824.0  2.748556e+02     909.502378  0.0       0.378   \n",
       "is_consumption      2018352.0  5.000000e-01       0.500000  0.0       0.000   \n",
       "data_block_id       2018352.0  3.218746e+02     182.634314  0.0     166.000   \n",
       "row_id              2018352.0  1.009176e+06  582648.179597  0.0  504587.750   \n",
       "prediction_unit_id  2018352.0  3.304538e+01      19.590594  0.0      16.000   \n",
       "\n",
       "                            50%           75%          max  \n",
       "county                    7.000  1.100000e+01       15.000  \n",
       "is_business               1.000  1.000000e+00        1.000  \n",
       "product_type              2.000  3.000000e+00        3.000  \n",
       "target                   31.133  1.802062e+02    15480.274  \n",
       "is_consumption            0.500  1.000000e+00        1.000  \n",
       "data_block_id           323.000  4.790000e+02      637.000  \n",
       "row_id              1009175.500  1.513763e+06  2018351.000  \n",
       "prediction_unit_id       33.000  5.000000e+01       68.000  "
      ]
     },
     "execution_count": 6,
     "metadata": {},
     "output_type": "execute_result"
    }
   ],
   "source": [
    "train.describe().T"
   ]
  },
  {
   "cell_type": "code",
   "execution_count": 7,
   "id": "8bf13009",
   "metadata": {
    "execution": {
     "iopub.execute_input": "2024-01-08T18:15:47.731743Z",
     "iopub.status.busy": "2024-01-08T18:15:47.731265Z",
     "iopub.status.idle": "2024-01-08T18:15:47.745176Z",
     "shell.execute_reply": "2024-01-08T18:15:47.744025Z"
    },
    "papermill": {
     "duration": 0.023918,
     "end_time": "2024-01-08T18:15:47.747975",
     "exception": false,
     "start_time": "2024-01-08T18:15:47.724057",
     "status": "completed"
    },
    "tags": []
   },
   "outputs": [
    {
     "data": {
      "text/html": [
       "<div>\n",
       "<style scoped>\n",
       "    .dataframe tbody tr th:only-of-type {\n",
       "        vertical-align: middle;\n",
       "    }\n",
       "\n",
       "    .dataframe tbody tr th {\n",
       "        vertical-align: top;\n",
       "    }\n",
       "\n",
       "    .dataframe thead th {\n",
       "        text-align: right;\n",
       "    }\n",
       "</style>\n",
       "<table border=\"1\" class=\"dataframe\">\n",
       "  <thead>\n",
       "    <tr style=\"text-align: right;\">\n",
       "      <th></th>\n",
       "      <th>forecast_date</th>\n",
       "      <th>lowest_price_per_mwh</th>\n",
       "      <th>highest_price_per_mwh</th>\n",
       "      <th>origin_date</th>\n",
       "      <th>data_block_id</th>\n",
       "    </tr>\n",
       "  </thead>\n",
       "  <tbody>\n",
       "    <tr>\n",
       "      <th>0</th>\n",
       "      <td>2021-09-01</td>\n",
       "      <td>45.23</td>\n",
       "      <td>46.32</td>\n",
       "      <td>2021-08-31</td>\n",
       "      <td>1</td>\n",
       "    </tr>\n",
       "    <tr>\n",
       "      <th>1</th>\n",
       "      <td>2021-09-02</td>\n",
       "      <td>45.62</td>\n",
       "      <td>46.29</td>\n",
       "      <td>2021-09-01</td>\n",
       "      <td>2</td>\n",
       "    </tr>\n",
       "    <tr>\n",
       "      <th>2</th>\n",
       "      <td>2021-09-03</td>\n",
       "      <td>45.85</td>\n",
       "      <td>46.40</td>\n",
       "      <td>2021-09-02</td>\n",
       "      <td>3</td>\n",
       "    </tr>\n",
       "    <tr>\n",
       "      <th>3</th>\n",
       "      <td>2021-09-04</td>\n",
       "      <td>46.30</td>\n",
       "      <td>46.80</td>\n",
       "      <td>2021-09-03</td>\n",
       "      <td>4</td>\n",
       "    </tr>\n",
       "    <tr>\n",
       "      <th>4</th>\n",
       "      <td>2021-09-05</td>\n",
       "      <td>46.30</td>\n",
       "      <td>46.58</td>\n",
       "      <td>2021-09-04</td>\n",
       "      <td>5</td>\n",
       "    </tr>\n",
       "  </tbody>\n",
       "</table>\n",
       "</div>"
      ],
      "text/plain": [
       "  forecast_date  lowest_price_per_mwh  highest_price_per_mwh origin_date  \\\n",
       "0    2021-09-01                 45.23                  46.32  2021-08-31   \n",
       "1    2021-09-02                 45.62                  46.29  2021-09-01   \n",
       "2    2021-09-03                 45.85                  46.40  2021-09-02   \n",
       "3    2021-09-04                 46.30                  46.80  2021-09-03   \n",
       "4    2021-09-05                 46.30                  46.58  2021-09-04   \n",
       "\n",
       "   data_block_id  \n",
       "0              1  \n",
       "1              2  \n",
       "2              3  \n",
       "3              4  \n",
       "4              5  "
      ]
     },
     "execution_count": 7,
     "metadata": {},
     "output_type": "execute_result"
    }
   ],
   "source": [
    "gas_df.head()"
   ]
  },
  {
   "cell_type": "markdown",
   "id": "8f4060a6",
   "metadata": {
    "papermill": {
     "duration": 0.004923,
     "end_time": "2024-01-08T18:15:47.758460",
     "exception": false,
     "start_time": "2024-01-08T18:15:47.753537",
     "status": "completed"
    },
    "tags": []
   },
   "source": [
    "Preprocessing Data"
   ]
  },
  {
   "cell_type": "code",
   "execution_count": 8,
   "id": "2eff8044",
   "metadata": {
    "execution": {
     "iopub.execute_input": "2024-01-08T18:15:47.771087Z",
     "iopub.status.busy": "2024-01-08T18:15:47.770272Z",
     "iopub.status.idle": "2024-01-08T18:15:47.778611Z",
     "shell.execute_reply": "2024-01-08T18:15:47.777407Z"
    },
    "papermill": {
     "duration": 0.017708,
     "end_time": "2024-01-08T18:15:47.781285",
     "exception": false,
     "start_time": "2024-01-08T18:15:47.763577",
     "status": "completed"
    },
    "tags": []
   },
   "outputs": [
    {
     "data": {
      "text/plain": [
       "\"'\\n# drop missing values of target \\ndata.dropna(subset=['target'], inplace=True)\\n\\n# convert datetime to UTC\\ndata['datetime'] = pd.to_datetime(data['datetime'], utc=True)\\n\\n# rename 'forecast_date' column to 'datetime' for consistency before merging\\nelectricity = electricity.rename(columns={'forecast_date': 'datetime'}) \\n\\n# convert datetime to UTC\\nelectricity['datetime'] = pd.to_datetime(electricity['datetime'], utc=True)\\n\\n# reduce 'block_id' in the 'client' DataFrame by 2 to match 'train' DataFrame\\nclient['data_block_id'] -= 2\\n\\n# remove the 'Unnamed: 0' column from the 'locations' DataFrame\\nlocations.drop('Unnamed: 0', axis=1, inplace=True)\\n\\n# round 'latitude' and 'longitude' to 1 decimal place\\n\""
      ]
     },
     "execution_count": 8,
     "metadata": {},
     "output_type": "execute_result"
    }
   ],
   "source": [
    "''''\n",
    "# drop missing values of target \n",
    "data.dropna(subset=['target'], inplace=True)\n",
    "\n",
    "# convert datetime to UTC\n",
    "data['datetime'] = pd.to_datetime(data['datetime'], utc=True)\n",
    "\n",
    "# rename 'forecast_date' column to 'datetime' for consistency before merging\n",
    "electricity = electricity.rename(columns={'forecast_date': 'datetime'}) \n",
    "\n",
    "# convert datetime to UTC\n",
    "electricity['datetime'] = pd.to_datetime(electricity['datetime'], utc=True)\n",
    "\n",
    "# reduce 'block_id' in the 'client' DataFrame by 2 to match 'train' DataFrame\n",
    "client['data_block_id'] -= 2\n",
    "\n",
    "# remove the 'Unnamed: 0' column from the 'locations' DataFrame\n",
    "locations.drop('Unnamed: 0', axis=1, inplace=True)\n",
    "\n",
    "# round 'latitude' and 'longitude' to 1 decimal place\n",
    "'''\n"
   ]
  },
  {
   "cell_type": "code",
   "execution_count": 9,
   "id": "d755d590",
   "metadata": {
    "execution": {
     "iopub.execute_input": "2024-01-08T18:15:47.793763Z",
     "iopub.status.busy": "2024-01-08T18:15:47.793332Z",
     "iopub.status.idle": "2024-01-08T18:15:47.798306Z",
     "shell.execute_reply": "2024-01-08T18:15:47.797032Z"
    },
    "papermill": {
     "duration": 0.014653,
     "end_time": "2024-01-08T18:15:47.801395",
     "exception": false,
     "start_time": "2024-01-08T18:15:47.786742",
     "status": "completed"
    },
    "tags": []
   },
   "outputs": [],
   "source": [
    "# def preTrain(data, client, histweather)"
   ]
  }
 ],
 "metadata": {
  "kaggle": {
   "accelerator": "none",
   "dataSources": [
    {
     "datasetId": 4278088,
     "sourceId": 7364268,
     "sourceType": "datasetVersion"
    }
   ],
   "dockerImageVersionId": 30626,
   "isGpuEnabled": false,
   "isInternetEnabled": true,
   "language": "python",
   "sourceType": "notebook"
  },
  "kernelspec": {
   "display_name": "Python 3",
   "language": "python",
   "name": "python3"
  },
  "language_info": {
   "codemirror_mode": {
    "name": "ipython",
    "version": 3
   },
   "file_extension": ".py",
   "mimetype": "text/x-python",
   "name": "python",
   "nbconvert_exporter": "python",
   "pygments_lexer": "ipython3",
   "version": "3.10.12"
  },
  "papermill": {
   "default_parameters": {},
   "duration": 36.559067,
   "end_time": "2024-01-08T18:15:48.629034",
   "environment_variables": {},
   "exception": null,
   "input_path": "__notebook__.ipynb",
   "output_path": "__notebook__.ipynb",
   "parameters": {},
   "start_time": "2024-01-08T18:15:12.069967",
   "version": "2.4.0"
  }
 },
 "nbformat": 4,
 "nbformat_minor": 5
}
