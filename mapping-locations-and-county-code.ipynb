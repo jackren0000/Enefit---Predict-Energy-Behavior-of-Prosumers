{
 "cells": [
  {
   "cell_type": "code",
   "execution_count": 1,
   "id": "d29fb81e",
   "metadata": {
    "_cell_guid": "b1076dfc-b9ad-4769-8c92-a6c4dae69d19",
    "_uuid": "8f2839f25d086af736a60e9eeb907d3b93b6e0e5",
    "execution": {
     "iopub.execute_input": "2024-01-09T18:14:46.502326Z",
     "iopub.status.busy": "2024-01-09T18:14:46.501750Z",
     "iopub.status.idle": "2024-01-09T18:14:47.587509Z",
     "shell.execute_reply": "2024-01-09T18:14:47.586306Z"
    },
    "papermill": {
     "duration": 1.094091,
     "end_time": "2024-01-09T18:14:47.590494",
     "exception": false,
     "start_time": "2024-01-09T18:14:46.496403",
     "status": "completed"
    },
    "tags": []
   },
   "outputs": [],
   "source": [
    "#### import libraries\n",
    "import pandas as pd\n",
    "from pathlib import Path\n",
    "import json\n",
    "# geopy is a Python library for locating the coordinates of \n",
    "# addresses, cities, countries, and landmarks across the globe\n",
    "# using different geocoding services and Nominatim is one of those services.\n",
    "from geopy.geocoders import Nominatim"
   ]
  },
  {
   "cell_type": "code",
   "execution_count": 2,
   "id": "51fd7427",
   "metadata": {
    "execution": {
     "iopub.execute_input": "2024-01-09T18:14:47.599396Z",
     "iopub.status.busy": "2024-01-09T18:14:47.598189Z",
     "iopub.status.idle": "2024-01-09T18:15:17.141380Z",
     "shell.execute_reply": "2024-01-09T18:15:17.140363Z"
    },
    "papermill": {
     "duration": 29.550701,
     "end_time": "2024-01-09T18:15:17.144488",
     "exception": false,
     "start_time": "2024-01-09T18:14:47.593787",
     "status": "completed"
    },
    "tags": []
   },
   "outputs": [],
   "source": [
    "#### load all CSV files\n",
    "folder_path = '/kaggle/input/predict-energy-behavior-of-prosumers'\n",
    "# look for all files in the folder ending with \"\".csv\"\n",
    "csv_files = Path(folder_path).glob(\"*.csv\")\n",
    "\n",
    "# initialize an empty dictionary to store the DataFrames\n",
    "dataframes = {}\n",
    "\n",
    "# loop through each CSV file found\n",
    "for csv_file in csv_files:\n",
    "    # create a variable name based on the file name (without the folder path and the \".csv\" part)\n",
    "    variable_name = csv_file.stem\n",
    "    \n",
    "    # read the CSV file and assign its DataFrame to the dictionary with the key\n",
    "    dataframes[variable_name] = pd.read_csv(csv_file)"
   ]
  },
  {
   "cell_type": "code",
   "execution_count": 3,
   "id": "82c9190a",
   "metadata": {
    "execution": {
     "iopub.execute_input": "2024-01-09T18:15:17.152269Z",
     "iopub.status.busy": "2024-01-09T18:15:17.151852Z",
     "iopub.status.idle": "2024-01-09T18:15:17.161331Z",
     "shell.execute_reply": "2024-01-09T18:15:17.160279Z"
    },
    "papermill": {
     "duration": 0.016352,
     "end_time": "2024-01-09T18:15:17.163959",
     "exception": false,
     "start_time": "2024-01-09T18:15:17.147607",
     "status": "completed"
    },
    "tags": []
   },
   "outputs": [
    {
     "name": "stdout",
     "output_type": "stream",
     "text": [
      "{'0': 'HARJUMAA', '1': 'HIIUMAA', '2': 'IDA-VIRUMAA', '3': 'JÄRVAMAA', '4': 'JÕGEVAMAA', '5': 'LÄÄNE-VIRUMAA', '6': 'LÄÄNEMAA', '7': 'PÄRNUMAA', '8': 'PÕLVAMAA', '9': 'RAPLAMAA', '10': 'SAAREMAA', '11': 'TARTUMAA', '12': 'UNKNOWN', '13': 'VALGAMAA', '14': 'VILJANDIMAA', '15': 'VÕRUMAA'}\n"
     ]
    }
   ],
   "source": [
    "#### load the JSON file\n",
    "# open the JSON file for reading\n",
    "# with statement ensures the file is properly closed after its suite finishes\n",
    "with open('/kaggle/input/predict-energy-behavior-of-prosumers/county_id_to_name_map.json') as f:\n",
    "    # load the JSON data into a Python dictionary\n",
    "    county_codes = json.load(f)\n",
    "\n",
    "print(county_codes)"
   ]
  },
  {
   "cell_type": "code",
   "execution_count": 4,
   "id": "6910cd75",
   "metadata": {
    "execution": {
     "iopub.execute_input": "2024-01-09T18:15:17.172040Z",
     "iopub.status.busy": "2024-01-09T18:15:17.171629Z",
     "iopub.status.idle": "2024-01-09T18:15:17.178200Z",
     "shell.execute_reply": "2024-01-09T18:15:17.177052Z"
    },
    "papermill": {
     "duration": 0.014009,
     "end_time": "2024-01-09T18:15:17.181178",
     "exception": false,
     "start_time": "2024-01-09T18:15:17.167169",
     "status": "completed"
    },
    "tags": []
   },
   "outputs": [
    {
     "name": "stdout",
     "output_type": "stream",
     "text": [
      "{'harju': '0', 'hiiu': '1', 'ida-viru': '2', 'järv': '3', 'jõgev': '4', 'lääne-viru': '5', 'lääne': '6', 'pärnu': '7', 'põlv': '8', 'rapl': '9', 'saare': '10', 'tartu': '11', 'unknown': '12', 'valg': '13', 'viljandi': '14', 'võru': '15'}\n"
     ]
    }
   ],
   "source": [
    "#### clean the JSON file\n",
    "# initialize an empty dictionary\n",
    "parsed_counties = {}\n",
    "\n",
    "# loop through each pair in the original dictionary\n",
    "for code, name in county_codes.items():\n",
    "    # process the name, make it lowercase and remove trailing 'maa'\n",
    "    processed_name = name.lower().rstrip('maa')\n",
    "    # assign the new name to the code in the new dictionary\n",
    "    parsed_counties[processed_name] = code\n",
    "    \n",
    "print(parsed_counties)"
   ]
  },
  {
   "cell_type": "code",
   "execution_count": 5,
   "id": "2b97e99c",
   "metadata": {
    "execution": {
     "iopub.execute_input": "2024-01-09T18:15:17.189298Z",
     "iopub.status.busy": "2024-01-09T18:15:17.188919Z",
     "iopub.status.idle": "2024-01-09T18:15:17.211391Z",
     "shell.execute_reply": "2024-01-09T18:15:17.210399Z"
    },
    "papermill": {
     "duration": 0.029687,
     "end_time": "2024-01-09T18:15:17.214019",
     "exception": false,
     "start_time": "2024-01-09T18:15:17.184332",
     "status": "completed"
    },
    "tags": []
   },
   "outputs": [],
   "source": [
    "#### map codes and locations\n",
    "name_mapping = {\n",
    "    \"valga\": \"valg\",\n",
    "    \"põlva\": \"põlv\",\n",
    "    \"jõgeva\": \"jõgev\",\n",
    "    \"rapla\": \"rapl\",\n",
    "    \"järva\": \"järv\"\n",
    "}\n",
    "\n",
    "# initialize the geocoder once, outside the loop\n",
    "geoLoc = Nominatim(user_agent='GetLoc')\n",
    "\n",
    "# loop through each row with unique latitude and longitude values\n",
    "#for coords in forecast_weather[['latitude', 'longitude']].drop_duplicates()"
   ]
  }
 ],
 "metadata": {
  "kaggle": {
   "accelerator": "none",
   "dataSources": [
    {
     "datasetId": 4278088,
     "sourceId": 7364268,
     "sourceType": "datasetVersion"
    }
   ],
   "dockerImageVersionId": 30626,
   "isGpuEnabled": false,
   "isInternetEnabled": true,
   "language": "python",
   "sourceType": "notebook"
  },
  "kernelspec": {
   "display_name": "Python 3",
   "language": "python",
   "name": "python3"
  },
  "language_info": {
   "codemirror_mode": {
    "name": "ipython",
    "version": 3
   },
   "file_extension": ".py",
   "mimetype": "text/x-python",
   "name": "python",
   "nbconvert_exporter": "python",
   "pygments_lexer": "ipython3",
   "version": "3.10.12"
  },
  "papermill": {
   "default_parameters": {},
   "duration": 35.870597,
   "end_time": "2024-01-09T18:15:17.839546",
   "environment_variables": {},
   "exception": null,
   "input_path": "__notebook__.ipynb",
   "output_path": "__notebook__.ipynb",
   "parameters": {},
   "start_time": "2024-01-09T18:14:41.968949",
   "version": "2.4.0"
  }
 },
 "nbformat": 4,
 "nbformat_minor": 5
}
