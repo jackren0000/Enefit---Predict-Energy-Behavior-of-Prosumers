{
 "cells": [
  {
   "cell_type": "code",
   "execution_count": 1,
   "id": "dadcdf81",
   "metadata": {
    "_cell_guid": "b1076dfc-b9ad-4769-8c92-a6c4dae69d19",
    "_uuid": "8f2839f25d086af736a60e9eeb907d3b93b6e0e5",
    "execution": {
     "iopub.execute_input": "2024-01-10T05:47:57.249509Z",
     "iopub.status.busy": "2024-01-10T05:47:57.248789Z",
     "iopub.status.idle": "2024-01-10T05:47:57.842382Z",
     "shell.execute_reply": "2024-01-10T05:47:57.841417Z"
    },
    "papermill": {
     "duration": 0.600803,
     "end_time": "2024-01-10T05:47:57.844944",
     "exception": false,
     "start_time": "2024-01-10T05:47:57.244141",
     "status": "completed"
    },
    "tags": []
   },
   "outputs": [],
   "source": [
    "#### import libraries\n",
    "import pandas as pd\n",
    "from pathlib import Path\n",
    "import json\n",
    "# geopy is a Python library for locating the coordinates of \n",
    "# addresses, cities, countries, and landmarks across the globe\n",
    "# using different geocoding services and Nominatim is one of those services.\n",
    "from geopy.geocoders import Nominatim"
   ]
  },
  {
   "cell_type": "code",
   "execution_count": 2,
   "id": "195cb5b9",
   "metadata": {
    "execution": {
     "iopub.execute_input": "2024-01-10T05:47:57.852188Z",
     "iopub.status.busy": "2024-01-10T05:47:57.851678Z",
     "iopub.status.idle": "2024-01-10T05:48:25.902231Z",
     "shell.execute_reply": "2024-01-10T05:48:25.900941Z"
    },
    "papermill": {
     "duration": 28.057329,
     "end_time": "2024-01-10T05:48:25.905088",
     "exception": false,
     "start_time": "2024-01-10T05:47:57.847759",
     "status": "completed"
    },
    "tags": []
   },
   "outputs": [],
   "source": [
    "#### load all CSV files\n",
    "folder_path = '/kaggle/input/predict-energy-behavior-of-prosumers'\n",
    "# look for all files in the folder ending with \"\".csv\"\n",
    "csv_files = Path(folder_path).glob(\"*.csv\")\n",
    "\n",
    "# initialize an empty dictionary to store the DataFrames\n",
    "dataframes = {}\n",
    "\n",
    "# loop through each CSV file found\n",
    "for csv_file in csv_files:\n",
    "    # create a variable name based on the file name (without the folder path and the \".csv\" part)\n",
    "    variable_name = csv_file.stem\n",
    "    \n",
    "    # read the CSV file and assign its DataFrame to the dictionary with the key\n",
    "    dataframes[variable_name] = pd.read_csv(csv_file)"
   ]
  },
  {
   "cell_type": "code",
   "execution_count": 3,
   "id": "1c0f3473",
   "metadata": {
    "execution": {
     "iopub.execute_input": "2024-01-10T05:48:25.912133Z",
     "iopub.status.busy": "2024-01-10T05:48:25.911730Z",
     "iopub.status.idle": "2024-01-10T05:48:25.924717Z",
     "shell.execute_reply": "2024-01-10T05:48:25.923183Z"
    },
    "papermill": {
     "duration": 0.019324,
     "end_time": "2024-01-10T05:48:25.927091",
     "exception": false,
     "start_time": "2024-01-10T05:48:25.907767",
     "status": "completed"
    },
    "tags": []
   },
   "outputs": [
    {
     "name": "stdout",
     "output_type": "stream",
     "text": [
      "{'0': 'HARJUMAA', '1': 'HIIUMAA', '2': 'IDA-VIRUMAA', '3': 'JÄRVAMAA', '4': 'JÕGEVAMAA', '5': 'LÄÄNE-VIRUMAA', '6': 'LÄÄNEMAA', '7': 'PÄRNUMAA', '8': 'PÕLVAMAA', '9': 'RAPLAMAA', '10': 'SAAREMAA', '11': 'TARTUMAA', '12': 'UNKNOWN', '13': 'VALGAMAA', '14': 'VILJANDIMAA', '15': 'VÕRUMAA'}\n"
     ]
    }
   ],
   "source": [
    "#### load the JSON file\n",
    "# open the JSON file for reading\n",
    "# with statement ensures the file is properly closed after its suite finishes\n",
    "with open('/kaggle/input/predict-energy-behavior-of-prosumers/county_id_to_name_map.json') as f:\n",
    "    # load the JSON data into a Python dictionary\n",
    "    county_codes = json.load(f)\n",
    "\n",
    "print(county_codes)"
   ]
  },
  {
   "cell_type": "code",
   "execution_count": 4,
   "id": "64e9f82e",
   "metadata": {
    "execution": {
     "iopub.execute_input": "2024-01-10T05:48:25.934689Z",
     "iopub.status.busy": "2024-01-10T05:48:25.934278Z",
     "iopub.status.idle": "2024-01-10T05:48:25.940416Z",
     "shell.execute_reply": "2024-01-10T05:48:25.939238Z"
    },
    "papermill": {
     "duration": 0.013091,
     "end_time": "2024-01-10T05:48:25.943197",
     "exception": false,
     "start_time": "2024-01-10T05:48:25.930106",
     "status": "completed"
    },
    "tags": []
   },
   "outputs": [
    {
     "name": "stdout",
     "output_type": "stream",
     "text": [
      "{'harju': '0', 'hiiu': '1', 'ida-viru': '2', 'järv': '3', 'jõgev': '4', 'lääne-viru': '5', 'lääne': '6', 'pärnu': '7', 'põlv': '8', 'rapl': '9', 'saare': '10', 'tartu': '11', 'unknown': '12', 'valg': '13', 'viljandi': '14', 'võru': '15'}\n"
     ]
    }
   ],
   "source": [
    "#### clean the JSON file\n",
    "# initialize an empty dictionary\n",
    "parsed_counties = {}\n",
    "\n",
    "# loop through each pair in the original dictionary\n",
    "for code, name in county_codes.items():\n",
    "    # process the name, make it lowercase and remove trailing 'maa'\n",
    "    processed_name = name.lower().rstrip('maa')\n",
    "    # assign the new name to the code in the new dictionary\n",
    "    parsed_counties[processed_name] = code\n",
    "    \n",
    "print(parsed_counties)"
   ]
  },
  {
   "cell_type": "code",
   "execution_count": 5,
   "id": "c8a6861a",
   "metadata": {
    "execution": {
     "iopub.execute_input": "2024-01-10T05:48:25.950841Z",
     "iopub.status.busy": "2024-01-10T05:48:25.950420Z",
     "iopub.status.idle": "2024-01-10T05:48:25.972257Z",
     "shell.execute_reply": "2024-01-10T05:48:25.971203Z"
    },
    "papermill": {
     "duration": 0.028247,
     "end_time": "2024-01-10T05:48:25.974305",
     "exception": false,
     "start_time": "2024-01-10T05:48:25.946058",
     "status": "completed"
    },
    "tags": []
   },
   "outputs": [
    {
     "data": {
      "text/plain": [
       "\"# loop through each row with unique latitude and longitude values\\nfor coords in forecast_weather[['latitude', 'longitude']].drop_duplicates().itertuples(index=False):\\n    # get latitude and longitude\\n    lat, lon = coords[0], coords[1]\\n    \\n    # get the location information for the current coordinates\\n    locname = geoLoc.reverse((lat, lon), exactly_one=True)\\n    \\n    # if a location is found and it's in Estonia, process and output the information\\n    if locname and locname.raw.get('address', {}).get('county') == 'Eesti':\\n        county_name = locname.raw['address'].get('county', '')\\n\""
      ]
     },
     "execution_count": 5,
     "metadata": {},
     "output_type": "execute_result"
    }
   ],
   "source": [
    "#### map codes and locations\n",
    "name_mapping = {\n",
    "    \"valga\": \"valg\",\n",
    "    \"põlva\": \"põlv\",\n",
    "    \"jõgeva\": \"jõgev\",\n",
    "    \"rapla\": \"rapl\",\n",
    "    \"järva\": \"järv\"\n",
    "}\n",
    "\n",
    "# initialize the geocoder once, outside the loop\n",
    "geoLoc = Nominatim(user_agent='GetLoc')\n",
    "\n",
    "'''# loop through each row with unique latitude and longitude values\n",
    "for coords in forecast_weather[['latitude', 'longitude']].drop_duplicates().itertuples(index=False):\n",
    "    # get latitude and longitude\n",
    "    lat, lon = coords[0], coords[1]\n",
    "    \n",
    "    # get the location information for the current coordinates\n",
    "    locname = geoLoc.reverse((lat, lon), exactly_one=True)\n",
    "    \n",
    "    # if a location is found and it's in Estonia, process and output the information\n",
    "    if locname and locname.raw.get('address', {}).get('county') == 'Eesti':\n",
    "        county_name = locname.raw['address'].get('county', '')\n",
    "'''"
   ]
  },
  {
   "cell_type": "code",
   "execution_count": null,
   "id": "0cb5f8d5",
   "metadata": {
    "papermill": {
     "duration": 0.002558,
     "end_time": "2024-01-10T05:48:25.979714",
     "exception": false,
     "start_time": "2024-01-10T05:48:25.977156",
     "status": "completed"
    },
    "tags": []
   },
   "outputs": [],
   "source": []
  }
 ],
 "metadata": {
  "kaggle": {
   "accelerator": "none",
   "dataSources": [
    {
     "datasetId": 4278088,
     "sourceId": 7364268,
     "sourceType": "datasetVersion"
    }
   ],
   "dockerImageVersionId": 30626,
   "isGpuEnabled": false,
   "isInternetEnabled": true,
   "language": "python",
   "sourceType": "notebook"
  },
  "kernelspec": {
   "display_name": "Python 3",
   "language": "python",
   "name": "python3"
  },
  "language_info": {
   "codemirror_mode": {
    "name": "ipython",
    "version": 3
   },
   "file_extension": ".py",
   "mimetype": "text/x-python",
   "name": "python",
   "nbconvert_exporter": "python",
   "pygments_lexer": "ipython3",
   "version": "3.10.12"
  },
  "papermill": {
   "default_parameters": {},
   "duration": 32.487982,
   "end_time": "2024-01-10T05:48:26.603324",
   "environment_variables": {},
   "exception": null,
   "input_path": "__notebook__.ipynb",
   "output_path": "__notebook__.ipynb",
   "parameters": {},
   "start_time": "2024-01-10T05:47:54.115342",
   "version": "2.4.0"
  }
 },
 "nbformat": 4,
 "nbformat_minor": 5
}
