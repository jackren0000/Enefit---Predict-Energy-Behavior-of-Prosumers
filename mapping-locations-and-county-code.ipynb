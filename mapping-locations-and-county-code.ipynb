{
 "cells": [
  {
   "cell_type": "markdown",
   "id": "c213ec0d",
   "metadata": {
    "papermill": {
     "duration": 0.004415,
     "end_time": "2024-01-11T11:04:28.298239",
     "exception": false,
     "start_time": "2024-01-11T11:04:28.293824",
     "status": "completed"
    },
    "tags": []
   },
   "source": [
    "### This file maps the locations listed in forecast_weather.csv to their corresponding counties."
   ]
  },
  {
   "cell_type": "code",
   "execution_count": 1,
   "id": "785f17ae",
   "metadata": {
    "_cell_guid": "b1076dfc-b9ad-4769-8c92-a6c4dae69d19",
    "_uuid": "8f2839f25d086af736a60e9eeb907d3b93b6e0e5",
    "execution": {
     "iopub.execute_input": "2024-01-11T11:04:28.308138Z",
     "iopub.status.busy": "2024-01-11T11:04:28.307425Z",
     "iopub.status.idle": "2024-01-11T11:04:29.570298Z",
     "shell.execute_reply": "2024-01-11T11:04:29.568809Z"
    },
    "papermill": {
     "duration": 1.270913,
     "end_time": "2024-01-11T11:04:29.573071",
     "exception": false,
     "start_time": "2024-01-11T11:04:28.302158",
     "status": "completed"
    },
    "tags": []
   },
   "outputs": [],
   "source": [
    "#### import libraries\n",
    "import pandas as pd\n",
    "from pathlib import Path\n",
    "import json\n",
    "# geopy is a Python library for locating the coordinates of addresses\n",
    "# import Nominatim class from geopy library to use for geocoding \n",
    "# addresses into latitude and longitude.\n",
    "from geopy.geocoders import Nominatim"
   ]
  },
  {
   "cell_type": "code",
   "execution_count": 2,
   "id": "16908e4f",
   "metadata": {
    "execution": {
     "iopub.execute_input": "2024-01-11T11:04:29.583167Z",
     "iopub.status.busy": "2024-01-11T11:04:29.582583Z",
     "iopub.status.idle": "2024-01-11T11:04:59.930070Z",
     "shell.execute_reply": "2024-01-11T11:04:59.928661Z"
    },
    "papermill": {
     "duration": 30.360211,
     "end_time": "2024-01-11T11:04:59.937274",
     "exception": false,
     "start_time": "2024-01-11T11:04:29.577063",
     "status": "completed"
    },
    "tags": []
   },
   "outputs": [
    {
     "name": "stdout",
     "output_type": "stream",
     "text": [
      "dict_keys(['client', 'gas_prices', 'electricity_prices', 'weather_station_to_county_mapping', 'historical_weather', 'train', 'forecast_weather'])\n"
     ]
    }
   ],
   "source": [
    "#### load all CSV files\n",
    "folder_path = '/kaggle/input/predict-energy-behavior-of-prosumers'\n",
    "# look for all files in the folder ending with \"\".csv\"\n",
    "csv_files = Path(folder_path).glob(\"*.csv\")\n",
    "\n",
    "# initialize an empty dictionary to store the DataFrames\n",
    "files = {}\n",
    "\n",
    "# loop through each CSV file found\n",
    "for csv_file in csv_files:\n",
    "    # create a variable name based on the file name (without the folder path and the \".csv\" part)\n",
    "    variable_name = csv_file.stem\n",
    "    \n",
    "    # read the CSV file and assign its DataFrame to the dictionary with the key\n",
    "    files[variable_name] = pd.read_csv(csv_file)\n",
    "    \n",
    "print(files.keys())"
   ]
  },
  {
   "cell_type": "code",
   "execution_count": 3,
   "id": "37bd228c",
   "metadata": {
    "execution": {
     "iopub.execute_input": "2024-01-11T11:04:59.948394Z",
     "iopub.status.busy": "2024-01-11T11:04:59.948001Z",
     "iopub.status.idle": "2024-01-11T11:04:59.965262Z",
     "shell.execute_reply": "2024-01-11T11:04:59.964301Z"
    },
    "papermill": {
     "duration": 0.02579,
     "end_time": "2024-01-11T11:04:59.967488",
     "exception": false,
     "start_time": "2024-01-11T11:04:59.941698",
     "status": "completed"
    },
    "tags": []
   },
   "outputs": [
    {
     "name": "stdout",
     "output_type": "stream",
     "text": [
      "{'0': 'HARJUMAA', '1': 'HIIUMAA', '2': 'IDA-VIRUMAA', '3': 'JÄRVAMAA', '4': 'JÕGEVAMAA', '5': 'LÄÄNE-VIRUMAA', '6': 'LÄÄNEMAA', '7': 'PÄRNUMAA', '8': 'PÕLVAMAA', '9': 'RAPLAMAA', '10': 'SAAREMAA', '11': 'TARTUMAA', '12': 'UNKNOWN', '13': 'VALGAMAA', '14': 'VILJANDIMAA', '15': 'VÕRUMAA'}\n"
     ]
    }
   ],
   "source": [
    "#### load the JSON file\n",
    "# open the JSON file for reading\n",
    "# with statement ensures the file is properly closed after its suite finishes\n",
    "with open('/kaggle/input/predict-energy-behavior-of-prosumers/county_id_to_name_map.json') as f:\n",
    "    # load the JSON data into a Python dictionary\n",
    "    county_codes = json.load(f)\n",
    "\n",
    "print(county_codes)"
   ]
  },
  {
   "cell_type": "code",
   "execution_count": 4,
   "id": "a61a8507",
   "metadata": {
    "execution": {
     "iopub.execute_input": "2024-01-11T11:04:59.978189Z",
     "iopub.status.busy": "2024-01-11T11:04:59.977534Z",
     "iopub.status.idle": "2024-01-11T11:04:59.984406Z",
     "shell.execute_reply": "2024-01-11T11:04:59.983146Z"
    },
    "papermill": {
     "duration": 0.014875,
     "end_time": "2024-01-11T11:04:59.986735",
     "exception": false,
     "start_time": "2024-01-11T11:04:59.971860",
     "status": "completed"
    },
    "tags": []
   },
   "outputs": [
    {
     "name": "stdout",
     "output_type": "stream",
     "text": [
      "{'harju': '0', 'hiiu': '1', 'ida-viru': '2', 'järv': '3', 'jõgev': '4', 'lääne-viru': '5', 'lääne': '6', 'pärnu': '7', 'põlv': '8', 'rapl': '9', 'saare': '10', 'tartu': '11', 'unknown': '12', 'valg': '13', 'viljandi': '14', 'võru': '15'}\n"
     ]
    }
   ],
   "source": [
    "#### clean the JSON file\n",
    "# initialize an empty dictionary\n",
    "parsed_counties = {}\n",
    "\n",
    "# loop through each key-value pair in the original dictionary\n",
    "for code, name in county_codes.items():\n",
    "    # process the name, make it lowercase and remove trailing 'maa'\n",
    "    processed_name = name.lower().rstrip('maa')\n",
    "    # assign the new name to the code in the new dictionary\n",
    "    parsed_counties[processed_name] = code\n",
    "    \n",
    "print(parsed_counties)"
   ]
  },
  {
   "cell_type": "code",
   "execution_count": 5,
   "id": "19d1ea3e",
   "metadata": {
    "execution": {
     "iopub.execute_input": "2024-01-11T11:04:59.996486Z",
     "iopub.status.busy": "2024-01-11T11:04:59.996072Z",
     "iopub.status.idle": "2024-01-11T11:05:56.381485Z",
     "shell.execute_reply": "2024-01-11T11:05:56.380123Z"
    },
    "papermill": {
     "duration": 56.39426,
     "end_time": "2024-01-11T11:05:56.385019",
     "exception": false,
     "start_time": "2024-01-11T11:04:59.990759",
     "status": "completed"
    },
    "tags": []
   },
   "outputs": [
    {
     "name": "stdout",
     "output_type": "stream",
     "text": [
      "county: 'saare', county code: 10 (57.6, 23.2)\n",
      "county: 'võru', county code: 15 (57.6, 26.7)\n",
      "county: 'võru', county code: 15 (57.6, 27.2)\n",
      "county: 'saare', county code: 10 (57.9, 21.7)\n",
      "county: 'saare', county code: 10 (57.9, 22.2)\n",
      "county: 'saare', county code: 10 (57.9, 23.2)\n",
      "county: 'pärnu', county code: 7 (57.9, 23.7)\n",
      "county: 'pärnu', county code: 7 (57.9, 24.2)\n",
      "county: 'valg', county code: 13 (57.9, 26.2)\n",
      "county: 'võru', county code: 15 (57.9, 26.7)\n",
      "county: 'võru', county code: 15 (57.9, 27.2)\n",
      "county: 'võru', county code: 15 (57.9, 27.7)\n",
      "county: 'saare', county code: 10 (58.2, 21.7)\n",
      "county: 'saare', county code: 10 (58.2, 22.2)\n",
      "county: 'saare', county code: 10 (58.2, 22.7)\n",
      "county: 'saare', county code: 10 (58.2, 23.2)\n",
      "county: 'pärnu', county code: 7 (58.2, 23.7)\n",
      "county: 'pärnu', county code: 7 (58.2, 24.2)\n",
      "county: 'pärnu', county code: 7 (58.2, 24.7)\n",
      "county: 'pärnu', county code: 7 (58.2, 25.2)\n",
      "county: 'viljandi', county code: 14 (58.2, 25.7)\n",
      "county: 'tartu', county code: 11 (58.2, 26.2)\n",
      "county: 'tartu', county code: 11 (58.2, 26.7)\n",
      "county: 'põlv', county code: 8 (58.2, 27.2)\n",
      "county: 'saare', county code: 10 (58.5, 21.7)\n",
      "county: 'saare', county code: 10 (58.5, 22.2)\n",
      "county: 'saare', county code: 10 (58.5, 22.7)\n",
      "county: 'saare', county code: 10 (58.5, 23.2)\n",
      "county: 'pärnu', county code: 7 (58.5, 23.7)\n",
      "county: 'pärnu', county code: 7 (58.5, 24.2)\n",
      "county: 'pärnu', county code: 7 (58.5, 24.7)\n",
      "county: 'viljandi', county code: 14 (58.5, 25.2)\n",
      "county: 'viljandi', county code: 14 (58.5, 25.7)\n",
      "county: 'jõgev', county code: 4 (58.5, 26.2)\n",
      "county: 'tartu', county code: 11 (58.5, 26.7)\n",
      "county: 'tartu', county code: 11 (58.5, 27.2)\n",
      "county: 'hiiu', county code: 1 (58.8, 21.7)\n",
      "county: 'hiiu', county code: 1 (58.8, 22.2)\n",
      "county: 'hiiu', county code: 1 (58.8, 22.7)\n",
      "county: 'hiiu', county code: 1 (58.8, 23.2)\n",
      "county: 'lääne', county code: 6 (58.8, 23.7)\n",
      "county: 'rapl', county code: 9 (58.8, 24.2)\n",
      "county: 'rapl', county code: 9 (58.8, 24.7)\n",
      "county: 'järv', county code: 3 (58.8, 25.2)\n",
      "county: 'järv', county code: 3 (58.8, 25.7)\n",
      "county: 'jõgev', county code: 4 (58.8, 26.2)\n",
      "county: 'jõgev', county code: 4 (58.8, 26.7)\n",
      "county: 'jõgev', county code: 4 (58.8, 27.2)\n",
      "county: 'hiiu', county code: 1 (59.1, 22.2)\n",
      "county: 'hiiu', county code: 1 (59.1, 22.7)\n",
      "county: 'lääne', county code: 6 (59.1, 23.2)\n",
      "county: 'lääne', county code: 6 (59.1, 23.7)\n",
      "county: 'harju', county code: 0 (59.1, 24.2)\n",
      "county: 'rapl', county code: 9 (59.1, 24.7)\n",
      "county: 'harju', county code: 0 (59.1, 25.2)\n",
      "county: 'järv', county code: 3 (59.1, 25.7)\n",
      "county: 'lääne-viru', county code: 5 (59.1, 26.2)\n",
      "county: 'lääne-viru', county code: 5 (59.1, 26.7)\n",
      "county: 'ida-viru', county code: 2 (59.1, 27.2)\n",
      "county: 'ida-viru', county code: 2 (59.1, 27.7)\n",
      "county: 'lääne', county code: 6 (59.4, 23.2)\n",
      "county: 'harju', county code: 0 (59.4, 23.7)\n",
      "county: 'harju', county code: 0 (59.4, 24.2)\n",
      "county: 'harju', county code: 0 (59.4, 24.7)\n",
      "county: 'harju', county code: 0 (59.4, 25.2)\n",
      "county: 'harju', county code: 0 (59.4, 25.7)\n",
      "county: 'lääne-viru', county code: 5 (59.4, 26.2)\n",
      "county: 'lääne-viru', county code: 5 (59.4, 26.7)\n",
      "county: 'ida-viru', county code: 2 (59.4, 27.2)\n",
      "county: 'ida-viru', county code: 2 (59.4, 27.7)\n",
      "county: 'harju', county code: 0 (59.7, 24.7)\n",
      "county: 'harju', county code: 0 (59.7, 25.2)\n",
      "county: 'harju', county code: 0 (59.7, 25.7)\n",
      "county: 'lääne-viru', county code: 5 (59.7, 26.2)\n",
      "county: 'lääne-viru', county code: 5 (59.7, 26.7)\n"
     ]
    }
   ],
   "source": [
    "#### map codes and locations\n",
    "# a dictionary that maps full country names to their shortened versions\n",
    "name_mapping = {\n",
    "    \"valga\": \"valg\",\n",
    "    \"põlva\": \"põlv\",\n",
    "    \"jõgeva\": \"jõgev\",\n",
    "    \"rapla\": \"rapl\",\n",
    "    \"järva\": \"järv\"\n",
    "}\n",
    "\n",
    "# initialize the geocoder\n",
    "geoLoc = Nominatim(user_agent='GetLoc')\n",
    "\n",
    "# loop through each row with unique latitude and longitude values\n",
    "for coords in files['forecast_weather'][['latitude', 'longitude']].drop_duplicates().itertuples(index=False):\n",
    "    # extract latitude and longitude from the current row\n",
    "    lat, lon = coords[0], coords[1]\n",
    "    \n",
    "    # use the geocoder to get the location information for the current coordinates\n",
    "    locname = geoLoc.reverse((lat, lon))\n",
    "    \n",
    "    # access raw JSON file which is in python dictionary format,\n",
    "    # using get() to access key in the dictionary\n",
    "    if locname and locname.raw.get('address', {}).get('country') == \"Eesti\":\n",
    "        county_name = locname.raw['address'].get('county', '').split()[0].lower()\n",
    "        # use a name mapping dictionary or the original county name if not found\n",
    "        county_name_mapped = name_mapping.get(county_name, county_name)\n",
    "        # output the county information\n",
    "        print(f\"county: '{county_name_mapped}', county code:\", parsed_counties[county_name_mapped], (lat, lon))"
   ]
  },
  {
   "cell_type": "code",
   "execution_count": 6,
   "id": "e57e3c20",
   "metadata": {
    "execution": {
     "iopub.execute_input": "2024-01-11T11:05:56.405410Z",
     "iopub.status.busy": "2024-01-11T11:05:56.404983Z",
     "iopub.status.idle": "2024-01-11T11:06:53.139194Z",
     "shell.execute_reply": "2024-01-11T11:06:53.137799Z"
    },
    "papermill": {
     "duration": 56.748903,
     "end_time": "2024-01-11T11:06:53.143207",
     "exception": false,
     "start_time": "2024-01-11T11:05:56.394304",
     "status": "completed"
    },
    "tags": []
   },
   "outputs": [],
   "source": [
    "#### save the data\n",
    "# create a new dictionary with the parsed county names as keys\n",
    "# and empty lists as values\n",
    "county_data = {v: [] for v in parsed_counties.values()}\n",
    "\n",
    "# loop through each row with unique latitude and longitude values\n",
    "for coords in files['forecast_weather'][['latitude', 'longitude']].drop_duplicates().itertuples(index=False):\n",
    "    # extract latitude and longitude from the current row\n",
    "    lat, lon = coords[0], coords[1]\n",
    "    # use the geocoder to get the location information for the current coordinates\n",
    "    locname = geoLoc.reverse((lat, lon))\n",
    "    # access raw JSON file which is in python dictionary format,\n",
    "    # using get() to access key in the dictionary\n",
    "    if locname and locname.raw.get('address', {}).get('country') == \"Eesti\":\n",
    "        county_name = locname.raw['address'].get('county', '').split()[0].lower()\n",
    "        # use a name mapping dictionary or the original county name if not found\n",
    "        # get(key, default), get the value of key, otherwise using default value\n",
    "        county_name = name_mapping.get(county_name, county_name)\n",
    "        # output the county information\n",
    "        county_data[parsed_counties[county_name]].append((lat, lon))"
   ]
  },
  {
   "cell_type": "code",
   "execution_count": 7,
   "id": "0293376e",
   "metadata": {
    "execution": {
     "iopub.execute_input": "2024-01-11T11:06:53.164417Z",
     "iopub.status.busy": "2024-01-11T11:06:53.163941Z",
     "iopub.status.idle": "2024-01-11T11:06:53.170201Z",
     "shell.execute_reply": "2024-01-11T11:06:53.169191Z"
    },
    "papermill": {
     "duration": 0.020823,
     "end_time": "2024-01-11T11:06:53.173469",
     "exception": false,
     "start_time": "2024-01-11T11:06:53.152646",
     "status": "completed"
    },
    "tags": []
   },
   "outputs": [
    {
     "name": "stdout",
     "output_type": "stream",
     "text": [
      "{'0': [(59.1, 24.2), (59.1, 25.2), (59.4, 23.7), (59.4, 24.2), (59.4, 24.7), (59.4, 25.2), (59.4, 25.7), (59.7, 24.7), (59.7, 25.2), (59.7, 25.7)], '1': [(58.8, 21.7), (58.8, 22.2), (58.8, 22.7), (58.8, 23.2), (59.1, 22.2), (59.1, 22.7)], '2': [(59.1, 27.2), (59.1, 27.7), (59.4, 27.2), (59.4, 27.7)], '3': [(58.8, 25.2), (58.8, 25.7), (59.1, 25.7)], '4': [(58.5, 26.2), (58.8, 26.2), (58.8, 26.7), (58.8, 27.2)], '5': [(59.1, 26.2), (59.1, 26.7), (59.4, 26.2), (59.4, 26.7), (59.7, 26.2), (59.7, 26.7)], '6': [(58.8, 23.7), (59.1, 23.2), (59.1, 23.7), (59.4, 23.2)], '7': [(57.9, 23.7), (57.9, 24.2), (58.2, 23.7), (58.2, 24.2), (58.2, 24.7), (58.2, 25.2), (58.5, 23.7), (58.5, 24.2), (58.5, 24.7)], '8': [(58.2, 27.2)], '9': [(58.8, 24.2), (58.8, 24.7), (59.1, 24.7)], '10': [(57.6, 23.2), (57.9, 21.7), (57.9, 22.2), (57.9, 23.2), (58.2, 21.7), (58.2, 22.2), (58.2, 22.7), (58.2, 23.2), (58.5, 21.7), (58.5, 22.2), (58.5, 22.7), (58.5, 23.2)], '11': [(58.2, 26.2), (58.2, 26.7), (58.5, 26.7), (58.5, 27.2)], '12': [], '13': [(57.9, 26.2)], '14': [(58.2, 25.7), (58.5, 25.2), (58.5, 25.7)], '15': [(57.6, 26.7), (57.6, 27.2), (57.9, 26.7), (57.9, 27.2), (57.9, 27.7)]}\n"
     ]
    }
   ],
   "source": [
    "print(county_data)\n",
    "\n",
    "# the key '0' has a value that is a list of 10 tuples,\n",
    "# each tuple contains 2 elements (latitute, longitude)."
   ]
  },
  {
   "cell_type": "code",
   "execution_count": 8,
   "id": "987af022",
   "metadata": {
    "execution": {
     "iopub.execute_input": "2024-01-11T11:06:53.196557Z",
     "iopub.status.busy": "2024-01-11T11:06:53.195809Z",
     "iopub.status.idle": "2024-01-11T11:06:53.204541Z",
     "shell.execute_reply": "2024-01-11T11:06:53.202986Z"
    },
    "papermill": {
     "duration": 0.023431,
     "end_time": "2024-01-11T11:06:53.207144",
     "exception": false,
     "start_time": "2024-01-11T11:06:53.183713",
     "status": "completed"
    },
    "tags": []
   },
   "outputs": [],
   "source": [
    "df_data = {\"county\": [], \"latitude\": [], \"longitude\": []}\n",
    "\n",
    "\n",
    "# loop through the county_data\n",
    "for key, value in county_data.items():\n",
    "    # the key is the county code, the value is the list of coordinates (tuples)\n",
    "    # extend() is used to add multiple elements to the end of a list\n",
    "    # extend the 'county' list with the county code 'k' repeated 'len(v)' times\n",
    "    df_data[\"county\"].extend([key] * len(value))\n",
    "    \n",
    "    # extend the 'latitude' and 'longitude' lists with the respective coordinates\n",
    "    # use list comprehension to create latitude column\n",
    "    df_data[\"latitude\"].extend([lat for lat, _ in value])\n",
    "    # use list comprehension to create longitude column\n",
    "    df_data[\"longitude\"].extend([lon for _, lon in value])\n"
   ]
  },
  {
   "cell_type": "code",
   "execution_count": 9,
   "id": "5daa3098",
   "metadata": {
    "execution": {
     "iopub.execute_input": "2024-01-11T11:06:53.226998Z",
     "iopub.status.busy": "2024-01-11T11:06:53.226603Z",
     "iopub.status.idle": "2024-01-11T11:06:53.232035Z",
     "shell.execute_reply": "2024-01-11T11:06:53.231178Z"
    },
    "papermill": {
     "duration": 0.017857,
     "end_time": "2024-01-11T11:06:53.234178",
     "exception": false,
     "start_time": "2024-01-11T11:06:53.216321",
     "status": "completed"
    },
    "tags": []
   },
   "outputs": [
    {
     "name": "stdout",
     "output_type": "stream",
     "text": [
      "{'county': ['0', '0', '0', '0', '0', '0', '0', '0', '0', '0', '1', '1', '1', '1', '1', '1', '2', '2', '2', '2', '3', '3', '3', '4', '4', '4', '4', '5', '5', '5', '5', '5', '5', '6', '6', '6', '6', '7', '7', '7', '7', '7', '7', '7', '7', '7', '8', '9', '9', '9', '10', '10', '10', '10', '10', '10', '10', '10', '10', '10', '10', '10', '11', '11', '11', '11', '13', '14', '14', '14', '15', '15', '15', '15', '15'], 'latitude': [59.1, 59.1, 59.4, 59.4, 59.4, 59.4, 59.4, 59.7, 59.7, 59.7, 58.8, 58.8, 58.8, 58.8, 59.1, 59.1, 59.1, 59.1, 59.4, 59.4, 58.8, 58.8, 59.1, 58.5, 58.8, 58.8, 58.8, 59.1, 59.1, 59.4, 59.4, 59.7, 59.7, 58.8, 59.1, 59.1, 59.4, 57.9, 57.9, 58.2, 58.2, 58.2, 58.2, 58.5, 58.5, 58.5, 58.2, 58.8, 58.8, 59.1, 57.6, 57.9, 57.9, 57.9, 58.2, 58.2, 58.2, 58.2, 58.5, 58.5, 58.5, 58.5, 58.2, 58.2, 58.5, 58.5, 57.9, 58.2, 58.5, 58.5, 57.6, 57.6, 57.9, 57.9, 57.9], 'longitude': [24.2, 25.2, 23.7, 24.2, 24.7, 25.2, 25.7, 24.7, 25.2, 25.7, 21.7, 22.2, 22.7, 23.2, 22.2, 22.7, 27.2, 27.7, 27.2, 27.7, 25.2, 25.7, 25.7, 26.2, 26.2, 26.7, 27.2, 26.2, 26.7, 26.2, 26.7, 26.2, 26.7, 23.7, 23.2, 23.7, 23.2, 23.7, 24.2, 23.7, 24.2, 24.7, 25.2, 23.7, 24.2, 24.7, 27.2, 24.2, 24.7, 24.7, 23.2, 21.7, 22.2, 23.2, 21.7, 22.2, 22.7, 23.2, 21.7, 22.2, 22.7, 23.2, 26.2, 26.7, 26.7, 27.2, 26.2, 25.7, 25.2, 25.7, 26.7, 27.2, 26.7, 27.2, 27.7]}\n"
     ]
    }
   ],
   "source": [
    "print(df_data)"
   ]
  },
  {
   "cell_type": "code",
   "execution_count": 10,
   "id": "4550d7f7",
   "metadata": {
    "execution": {
     "iopub.execute_input": "2024-01-11T11:06:53.253351Z",
     "iopub.status.busy": "2024-01-11T11:06:53.252942Z",
     "iopub.status.idle": "2024-01-11T11:06:53.265794Z",
     "shell.execute_reply": "2024-01-11T11:06:53.264542Z"
    },
    "papermill": {
     "duration": 0.025654,
     "end_time": "2024-01-11T11:06:53.268670",
     "exception": false,
     "start_time": "2024-01-11T11:06:53.243016",
     "status": "completed"
    },
    "tags": []
   },
   "outputs": [],
   "source": [
    "pd.DataFrame(df_data).to_csv(\"/kaggle/working/county_lon_lats.csv\")"
   ]
  }
 ],
 "metadata": {
  "kaggle": {
   "accelerator": "none",
   "dataSources": [
    {
     "datasetId": 4278088,
     "sourceId": 7364268,
     "sourceType": "datasetVersion"
    }
   ],
   "dockerImageVersionId": 30626,
   "isGpuEnabled": false,
   "isInternetEnabled": true,
   "language": "python",
   "sourceType": "notebook"
  },
  "kernelspec": {
   "display_name": "Python 3",
   "language": "python",
   "name": "python3"
  },
  "language_info": {
   "codemirror_mode": {
    "name": "ipython",
    "version": 3
   },
   "file_extension": ".py",
   "mimetype": "text/x-python",
   "name": "python",
   "nbconvert_exporter": "python",
   "pygments_lexer": "ipython3",
   "version": "3.10.12"
  },
  "papermill": {
   "default_parameters": {},
   "duration": 149.340979,
   "end_time": "2024-01-11T11:06:53.901490",
   "environment_variables": {},
   "exception": null,
   "input_path": "__notebook__.ipynb",
   "output_path": "__notebook__.ipynb",
   "parameters": {},
   "start_time": "2024-01-11T11:04:24.560511",
   "version": "2.4.0"
  }
 },
 "nbformat": 4,
 "nbformat_minor": 5
}
