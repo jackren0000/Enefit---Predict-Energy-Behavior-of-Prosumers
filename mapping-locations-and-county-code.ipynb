{
 "cells": [
  {
   "cell_type": "markdown",
   "id": "d0ad7656",
   "metadata": {
    "papermill": {
     "duration": 0.002953,
     "end_time": "2024-01-11T05:49:07.562456",
     "exception": false,
     "start_time": "2024-01-11T05:49:07.559503",
     "status": "completed"
    },
    "tags": []
   },
   "source": [
    "### This file maps the locations listed in forecast_weather.csv to their corresponding counties."
   ]
  },
  {
   "cell_type": "code",
   "execution_count": 1,
   "id": "cb973507",
   "metadata": {
    "_cell_guid": "b1076dfc-b9ad-4769-8c92-a6c4dae69d19",
    "_uuid": "8f2839f25d086af736a60e9eeb907d3b93b6e0e5",
    "execution": {
     "iopub.execute_input": "2024-01-11T05:49:07.570111Z",
     "iopub.status.busy": "2024-01-11T05:49:07.569543Z",
     "iopub.status.idle": "2024-01-11T05:49:08.643525Z",
     "shell.execute_reply": "2024-01-11T05:49:08.642009Z"
    },
    "papermill": {
     "duration": 1.082046,
     "end_time": "2024-01-11T05:49:08.647249",
     "exception": false,
     "start_time": "2024-01-11T05:49:07.565203",
     "status": "completed"
    },
    "tags": []
   },
   "outputs": [],
   "source": [
    "#### import libraries\n",
    "import pandas as pd\n",
    "from pathlib import Path\n",
    "import json\n",
    "# geopy is a Python library for locating the coordinates of addresses\n",
    "# import Nominatim class from geopy library to use for geocoding \n",
    "# addresses into latitude and longitude.\n",
    "from geopy.geocoders import Nominatim"
   ]
  },
  {
   "cell_type": "code",
   "execution_count": 2,
   "id": "0564e4ef",
   "metadata": {
    "execution": {
     "iopub.execute_input": "2024-01-11T05:49:08.654772Z",
     "iopub.status.busy": "2024-01-11T05:49:08.654209Z",
     "iopub.status.idle": "2024-01-11T05:49:37.758858Z",
     "shell.execute_reply": "2024-01-11T05:49:37.757476Z"
    },
    "papermill": {
     "duration": 29.11124,
     "end_time": "2024-01-11T05:49:37.761213",
     "exception": false,
     "start_time": "2024-01-11T05:49:08.649973",
     "status": "completed"
    },
    "tags": []
   },
   "outputs": [
    {
     "name": "stdout",
     "output_type": "stream",
     "text": [
      "dict_keys(['client', 'gas_prices', 'electricity_prices', 'weather_station_to_county_mapping', 'historical_weather', 'train', 'forecast_weather'])\n"
     ]
    }
   ],
   "source": [
    "#### load all CSV files\n",
    "folder_path = '/kaggle/input/predict-energy-behavior-of-prosumers'\n",
    "# look for all files in the folder ending with \"\".csv\"\n",
    "csv_files = Path(folder_path).glob(\"*.csv\")\n",
    "\n",
    "# initialize an empty dictionary to store the DataFrames\n",
    "files = {}\n",
    "\n",
    "# loop through each CSV file found\n",
    "for csv_file in csv_files:\n",
    "    # create a variable name based on the file name (without the folder path and the \".csv\" part)\n",
    "    variable_name = csv_file.stem\n",
    "    \n",
    "    # read the CSV file and assign its DataFrame to the dictionary with the key\n",
    "    files[variable_name] = pd.read_csv(csv_file)\n",
    "    \n",
    "print(files.keys())"
   ]
  },
  {
   "cell_type": "code",
   "execution_count": 3,
   "id": "91f7e4c2",
   "metadata": {
    "execution": {
     "iopub.execute_input": "2024-01-11T05:49:37.768535Z",
     "iopub.status.busy": "2024-01-11T05:49:37.768158Z",
     "iopub.status.idle": "2024-01-11T05:49:37.780986Z",
     "shell.execute_reply": "2024-01-11T05:49:37.779764Z"
    },
    "papermill": {
     "duration": 0.019418,
     "end_time": "2024-01-11T05:49:37.783654",
     "exception": false,
     "start_time": "2024-01-11T05:49:37.764236",
     "status": "completed"
    },
    "tags": []
   },
   "outputs": [
    {
     "name": "stdout",
     "output_type": "stream",
     "text": [
      "{'0': 'HARJUMAA', '1': 'HIIUMAA', '2': 'IDA-VIRUMAA', '3': 'JÄRVAMAA', '4': 'JÕGEVAMAA', '5': 'LÄÄNE-VIRUMAA', '6': 'LÄÄNEMAA', '7': 'PÄRNUMAA', '8': 'PÕLVAMAA', '9': 'RAPLAMAA', '10': 'SAAREMAA', '11': 'TARTUMAA', '12': 'UNKNOWN', '13': 'VALGAMAA', '14': 'VILJANDIMAA', '15': 'VÕRUMAA'}\n"
     ]
    }
   ],
   "source": [
    "#### load the JSON file\n",
    "# open the JSON file for reading\n",
    "# with statement ensures the file is properly closed after its suite finishes\n",
    "with open('/kaggle/input/predict-energy-behavior-of-prosumers/county_id_to_name_map.json') as f:\n",
    "    # load the JSON data into a Python dictionary\n",
    "    county_codes = json.load(f)\n",
    "\n",
    "print(county_codes)"
   ]
  },
  {
   "cell_type": "code",
   "execution_count": 4,
   "id": "c71938e9",
   "metadata": {
    "execution": {
     "iopub.execute_input": "2024-01-11T05:49:37.791120Z",
     "iopub.status.busy": "2024-01-11T05:49:37.790714Z",
     "iopub.status.idle": "2024-01-11T05:49:37.797295Z",
     "shell.execute_reply": "2024-01-11T05:49:37.795963Z"
    },
    "papermill": {
     "duration": 0.013225,
     "end_time": "2024-01-11T05:49:37.799792",
     "exception": false,
     "start_time": "2024-01-11T05:49:37.786567",
     "status": "completed"
    },
    "tags": []
   },
   "outputs": [
    {
     "name": "stdout",
     "output_type": "stream",
     "text": [
      "{'harju': '0', 'hiiu': '1', 'ida-viru': '2', 'järv': '3', 'jõgev': '4', 'lääne-viru': '5', 'lääne': '6', 'pärnu': '7', 'põlv': '8', 'rapl': '9', 'saare': '10', 'tartu': '11', 'unknown': '12', 'valg': '13', 'viljandi': '14', 'võru': '15'}\n"
     ]
    }
   ],
   "source": [
    "#### clean the JSON file\n",
    "# initialize an empty dictionary\n",
    "parsed_counties = {}\n",
    "\n",
    "# loop through each key-value pair in the original dictionary\n",
    "for code, name in county_codes.items():\n",
    "    # process the name, make it lowercase and remove trailing 'maa'\n",
    "    processed_name = name.lower().rstrip('maa')\n",
    "    # assign the new name to the code in the new dictionary\n",
    "    parsed_counties[processed_name] = code\n",
    "    \n",
    "print(parsed_counties)"
   ]
  },
  {
   "cell_type": "code",
   "execution_count": 5,
   "id": "3e21cda8",
   "metadata": {
    "execution": {
     "iopub.execute_input": "2024-01-11T05:49:37.807654Z",
     "iopub.status.busy": "2024-01-11T05:49:37.807247Z",
     "iopub.status.idle": "2024-01-11T05:50:35.711947Z",
     "shell.execute_reply": "2024-01-11T05:50:35.710689Z"
    },
    "papermill": {
     "duration": 57.9126,
     "end_time": "2024-01-11T05:50:35.715561",
     "exception": false,
     "start_time": "2024-01-11T05:49:37.802961",
     "status": "completed"
    },
    "tags": []
   },
   "outputs": [
    {
     "name": "stdout",
     "output_type": "stream",
     "text": [
      "county: 'saare', county code: 10 (57.6, 23.2)\n",
      "county: 'võru', county code: 15 (57.6, 26.7)\n",
      "county: 'võru', county code: 15 (57.6, 27.2)\n",
      "county: 'saare', county code: 10 (57.9, 21.7)\n",
      "county: 'saare', county code: 10 (57.9, 22.2)\n",
      "county: 'saare', county code: 10 (57.9, 23.2)\n",
      "county: 'pärnu', county code: 7 (57.9, 23.7)\n",
      "county: 'pärnu', county code: 7 (57.9, 24.2)\n",
      "county: 'valg', county code: 13 (57.9, 26.2)\n",
      "county: 'võru', county code: 15 (57.9, 26.7)\n",
      "county: 'võru', county code: 15 (57.9, 27.2)\n",
      "county: 'võru', county code: 15 (57.9, 27.7)\n",
      "county: 'saare', county code: 10 (58.2, 21.7)\n",
      "county: 'saare', county code: 10 (58.2, 22.2)\n",
      "county: 'saare', county code: 10 (58.2, 22.7)\n",
      "county: 'saare', county code: 10 (58.2, 23.2)\n",
      "county: 'pärnu', county code: 7 (58.2, 23.7)\n",
      "county: 'pärnu', county code: 7 (58.2, 24.2)\n",
      "county: 'pärnu', county code: 7 (58.2, 24.7)\n",
      "county: 'pärnu', county code: 7 (58.2, 25.2)\n",
      "county: 'viljandi', county code: 14 (58.2, 25.7)\n",
      "county: 'tartu', county code: 11 (58.2, 26.2)\n",
      "county: 'tartu', county code: 11 (58.2, 26.7)\n",
      "county: 'põlv', county code: 8 (58.2, 27.2)\n",
      "county: 'saare', county code: 10 (58.5, 21.7)\n",
      "county: 'saare', county code: 10 (58.5, 22.2)\n",
      "county: 'saare', county code: 10 (58.5, 22.7)\n",
      "county: 'saare', county code: 10 (58.5, 23.2)\n",
      "county: 'pärnu', county code: 7 (58.5, 23.7)\n",
      "county: 'pärnu', county code: 7 (58.5, 24.2)\n",
      "county: 'pärnu', county code: 7 (58.5, 24.7)\n",
      "county: 'viljandi', county code: 14 (58.5, 25.2)\n",
      "county: 'viljandi', county code: 14 (58.5, 25.7)\n",
      "county: 'jõgev', county code: 4 (58.5, 26.2)\n",
      "county: 'tartu', county code: 11 (58.5, 26.7)\n",
      "county: 'tartu', county code: 11 (58.5, 27.2)\n",
      "county: 'hiiu', county code: 1 (58.8, 21.7)\n",
      "county: 'hiiu', county code: 1 (58.8, 22.2)\n",
      "county: 'hiiu', county code: 1 (58.8, 22.7)\n",
      "county: 'hiiu', county code: 1 (58.8, 23.2)\n",
      "county: 'lääne', county code: 6 (58.8, 23.7)\n",
      "county: 'rapl', county code: 9 (58.8, 24.2)\n",
      "county: 'rapl', county code: 9 (58.8, 24.7)\n",
      "county: 'järv', county code: 3 (58.8, 25.2)\n",
      "county: 'järv', county code: 3 (58.8, 25.7)\n",
      "county: 'jõgev', county code: 4 (58.8, 26.2)\n",
      "county: 'jõgev', county code: 4 (58.8, 26.7)\n",
      "county: 'jõgev', county code: 4 (58.8, 27.2)\n",
      "county: 'hiiu', county code: 1 (59.1, 22.2)\n",
      "county: 'hiiu', county code: 1 (59.1, 22.7)\n",
      "county: 'lääne', county code: 6 (59.1, 23.2)\n",
      "county: 'lääne', county code: 6 (59.1, 23.7)\n",
      "county: 'harju', county code: 0 (59.1, 24.2)\n",
      "county: 'rapl', county code: 9 (59.1, 24.7)\n",
      "county: 'harju', county code: 0 (59.1, 25.2)\n",
      "county: 'järv', county code: 3 (59.1, 25.7)\n",
      "county: 'lääne-viru', county code: 5 (59.1, 26.2)\n",
      "county: 'lääne-viru', county code: 5 (59.1, 26.7)\n",
      "county: 'ida-viru', county code: 2 (59.1, 27.2)\n",
      "county: 'ida-viru', county code: 2 (59.1, 27.7)\n",
      "county: 'lääne', county code: 6 (59.4, 23.2)\n",
      "county: 'harju', county code: 0 (59.4, 23.7)\n",
      "county: 'harju', county code: 0 (59.4, 24.2)\n",
      "county: 'harju', county code: 0 (59.4, 24.7)\n",
      "county: 'harju', county code: 0 (59.4, 25.2)\n",
      "county: 'harju', county code: 0 (59.4, 25.7)\n",
      "county: 'lääne-viru', county code: 5 (59.4, 26.2)\n",
      "county: 'lääne-viru', county code: 5 (59.4, 26.7)\n",
      "county: 'ida-viru', county code: 2 (59.4, 27.2)\n",
      "county: 'ida-viru', county code: 2 (59.4, 27.7)\n",
      "county: 'harju', county code: 0 (59.7, 24.7)\n",
      "county: 'harju', county code: 0 (59.7, 25.2)\n",
      "county: 'harju', county code: 0 (59.7, 25.7)\n",
      "county: 'lääne-viru', county code: 5 (59.7, 26.2)\n",
      "county: 'lääne-viru', county code: 5 (59.7, 26.7)\n"
     ]
    }
   ],
   "source": [
    "#### map codes and locations\n",
    "# a dictionary that maps full country names to their shortened versions\n",
    "name_mapping = {\n",
    "    \"valga\": \"valg\",\n",
    "    \"põlva\": \"põlv\",\n",
    "    \"jõgeva\": \"jõgev\",\n",
    "    \"rapla\": \"rapl\",\n",
    "    \"järva\": \"järv\"\n",
    "}\n",
    "\n",
    "# initialize the geocoder\n",
    "geoLoc = Nominatim(user_agent='GetLoc')\n",
    "\n",
    "# loop through each row with unique latitude and longitude values\n",
    "for coords in files['forecast_weather'][['latitude', 'longitude']].drop_duplicates().itertuples(index=False):\n",
    "    # extract latitude and longitude from the current row\n",
    "    lat, lon = coords[0], coords[1]\n",
    "    \n",
    "    # use the geocoder to get the location information for the current coordinates\n",
    "    locname = geoLoc.reverse((lat, lon))\n",
    "    \n",
    "    # access raw JSON file which is in python dictionary format,\n",
    "    # using get() to access key in the dictionary\n",
    "    if locname and locname.raw.get('address', {}).get('country') == \"Eesti\":\n",
    "        county_name = locname.raw['address'].get('county', '').split()[0].lower()\n",
    "        # use a name mapping dictionary or the original county name if not found\n",
    "        county_name_mapped = name_mapping.get(county_name, county_name)\n",
    "        # output the county information\n",
    "        print(f\"county: '{county_name_mapped}', county code:\", parsed_counties[county_name_mapped], (lat, lon))"
   ]
  }
 ],
 "metadata": {
  "kaggle": {
   "accelerator": "none",
   "dataSources": [
    {
     "datasetId": 4278088,
     "sourceId": 7364268,
     "sourceType": "datasetVersion"
    }
   ],
   "dockerImageVersionId": 30626,
   "isGpuEnabled": false,
   "isInternetEnabled": true,
   "language": "python",
   "sourceType": "notebook"
  },
  "kernelspec": {
   "display_name": "Python 3",
   "language": "python",
   "name": "python3"
  },
  "language_info": {
   "codemirror_mode": {
    "name": "ipython",
    "version": 3
   },
   "file_extension": ".py",
   "mimetype": "text/x-python",
   "name": "python",
   "nbconvert_exporter": "python",
   "pygments_lexer": "ipython3",
   "version": "3.10.12"
  },
  "papermill": {
   "default_parameters": {},
   "duration": 92.252202,
   "end_time": "2024-01-11T05:50:36.346115",
   "environment_variables": {},
   "exception": null,
   "input_path": "__notebook__.ipynb",
   "output_path": "__notebook__.ipynb",
   "parameters": {},
   "start_time": "2024-01-11T05:49:04.093913",
   "version": "2.4.0"
  }
 },
 "nbformat": 4,
 "nbformat_minor": 5
}
