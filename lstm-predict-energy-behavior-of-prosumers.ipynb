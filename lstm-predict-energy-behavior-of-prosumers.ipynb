{
 "cells": [
  {
   "cell_type": "code",
   "execution_count": 1,
   "id": "e86275df",
   "metadata": {
    "_cell_guid": "b1076dfc-b9ad-4769-8c92-a6c4dae69d19",
    "_uuid": "8f2839f25d086af736a60e9eeb907d3b93b6e0e5",
    "execution": {
     "iopub.execute_input": "2024-01-18T02:38:58.942763Z",
     "iopub.status.busy": "2024-01-18T02:38:58.941922Z",
     "iopub.status.idle": "2024-01-18T02:39:13.198912Z",
     "shell.execute_reply": "2024-01-18T02:39:13.198016Z"
    },
    "papermill": {
     "duration": 14.269377,
     "end_time": "2024-01-18T02:39:13.201321",
     "exception": false,
     "start_time": "2024-01-18T02:38:58.931944",
     "status": "completed"
    },
    "tags": []
   },
   "outputs": [
    {
     "name": "stderr",
     "output_type": "stream",
     "text": [
      "/opt/conda/lib/python3.10/site-packages/scipy/__init__.py:146: UserWarning: A NumPy version >=1.16.5 and <1.23.0 is required for this version of SciPy (detected version 1.24.3\n",
      "  warnings.warn(f\"A NumPy version >={np_minversion} and <{np_maxversion}\"\n"
     ]
    }
   ],
   "source": [
    "#### load the libraries\n",
    "import pandas as pd\n",
    "import numpy as np\n",
    "import os\n",
    "from matplotlib import pyplot\n",
    "from sklearn.metrics import mean_absolute_error\n",
    "from keras.models import Sequential, load_model\n",
    "from keras.layers import LSTM, Dropout, Dense\n",
    "from keras.callbacks import EarlyStopping\n",
    "from sklearn.model_selection import train_test_split"
   ]
  },
  {
   "cell_type": "markdown",
   "id": "bb297881",
   "metadata": {
    "papermill": {
     "duration": 0.007413,
     "end_time": "2024-01-18T02:39:13.216756",
     "exception": false,
     "start_time": "2024-01-18T02:39:13.209343",
     "status": "completed"
    },
    "tags": []
   },
   "source": [
    "### Data Collection"
   ]
  },
  {
   "cell_type": "code",
   "execution_count": 2,
   "id": "70ec6661",
   "metadata": {
    "execution": {
     "iopub.execute_input": "2024-01-18T02:39:13.233510Z",
     "iopub.status.busy": "2024-01-18T02:39:13.232966Z",
     "iopub.status.idle": "2024-01-18T02:39:13.237344Z",
     "shell.execute_reply": "2024-01-18T02:39:13.236444Z"
    },
    "papermill": {
     "duration": 0.015105,
     "end_time": "2024-01-18T02:39:13.239451",
     "exception": false,
     "start_time": "2024-01-18T02:39:13.224346",
     "status": "completed"
    },
    "tags": []
   },
   "outputs": [],
   "source": [
    "#### update data directory path\n",
    "DATA_DIR = '/kaggle/input/predict-energy-behavior-of-prosumers'"
   ]
  },
  {
   "cell_type": "code",
   "execution_count": 3,
   "id": "81112f11",
   "metadata": {
    "execution": {
     "iopub.execute_input": "2024-01-18T02:39:13.255915Z",
     "iopub.status.busy": "2024-01-18T02:39:13.255645Z",
     "iopub.status.idle": "2024-01-18T02:39:15.792080Z",
     "shell.execute_reply": "2024-01-18T02:39:15.790998Z"
    },
    "papermill": {
     "duration": 2.547221,
     "end_time": "2024-01-18T02:39:15.794421",
     "exception": false,
     "start_time": "2024-01-18T02:39:13.247200",
     "status": "completed"
    },
    "tags": []
   },
   "outputs": [],
   "source": [
    "#### read the CSV files into DataFrames\n",
    "train = pd.read_csv(os.path.join(DATA_DIR, \"train.csv\"))"
   ]
  },
  {
   "cell_type": "markdown",
   "id": "c0e3f14b",
   "metadata": {
    "papermill": {
     "duration": 0.006995,
     "end_time": "2024-01-18T02:39:15.809346",
     "exception": false,
     "start_time": "2024-01-18T02:39:15.802351",
     "status": "completed"
    },
    "tags": []
   },
   "source": [
    "### Data Exploration"
   ]
  },
  {
   "cell_type": "code",
   "execution_count": 4,
   "id": "98335d5c",
   "metadata": {
    "execution": {
     "iopub.execute_input": "2024-01-18T02:39:15.825204Z",
     "iopub.status.busy": "2024-01-18T02:39:15.824902Z",
     "iopub.status.idle": "2024-01-18T02:39:15.855479Z",
     "shell.execute_reply": "2024-01-18T02:39:15.854589Z"
    },
    "papermill": {
     "duration": 0.040863,
     "end_time": "2024-01-18T02:39:15.857527",
     "exception": false,
     "start_time": "2024-01-18T02:39:15.816664",
     "status": "completed"
    },
    "tags": []
   },
   "outputs": [
    {
     "name": "stdout",
     "output_type": "stream",
     "text": [
      "<class 'pandas.core.frame.DataFrame'>\n",
      "RangeIndex: 2018352 entries, 0 to 2018351\n",
      "Data columns (total 9 columns):\n",
      " #   Column              Dtype  \n",
      "---  ------              -----  \n",
      " 0   county              int64  \n",
      " 1   is_business         int64  \n",
      " 2   product_type        int64  \n",
      " 3   target              float64\n",
      " 4   is_consumption      int64  \n",
      " 5   datetime            object \n",
      " 6   data_block_id       int64  \n",
      " 7   row_id              int64  \n",
      " 8   prediction_unit_id  int64  \n",
      "dtypes: float64(1), int64(7), object(1)\n",
      "memory usage: 138.6+ MB\n"
     ]
    }
   ],
   "source": [
    "train.info()"
   ]
  },
  {
   "cell_type": "code",
   "execution_count": 5,
   "id": "bf841169",
   "metadata": {
    "execution": {
     "iopub.execute_input": "2024-01-18T02:39:15.874220Z",
     "iopub.status.busy": "2024-01-18T02:39:15.873952Z",
     "iopub.status.idle": "2024-01-18T02:39:15.890961Z",
     "shell.execute_reply": "2024-01-18T02:39:15.889959Z"
    },
    "papermill": {
     "duration": 0.027536,
     "end_time": "2024-01-18T02:39:15.893149",
     "exception": false,
     "start_time": "2024-01-18T02:39:15.865613",
     "status": "completed"
    },
    "tags": []
   },
   "outputs": [
    {
     "data": {
      "text/html": [
       "<div>\n",
       "<style scoped>\n",
       "    .dataframe tbody tr th:only-of-type {\n",
       "        vertical-align: middle;\n",
       "    }\n",
       "\n",
       "    .dataframe tbody tr th {\n",
       "        vertical-align: top;\n",
       "    }\n",
       "\n",
       "    .dataframe thead th {\n",
       "        text-align: right;\n",
       "    }\n",
       "</style>\n",
       "<table border=\"1\" class=\"dataframe\">\n",
       "  <thead>\n",
       "    <tr style=\"text-align: right;\">\n",
       "      <th></th>\n",
       "      <th>county</th>\n",
       "      <th>is_business</th>\n",
       "      <th>product_type</th>\n",
       "      <th>target</th>\n",
       "      <th>is_consumption</th>\n",
       "      <th>datetime</th>\n",
       "      <th>data_block_id</th>\n",
       "      <th>row_id</th>\n",
       "      <th>prediction_unit_id</th>\n",
       "    </tr>\n",
       "  </thead>\n",
       "  <tbody>\n",
       "    <tr>\n",
       "      <th>0</th>\n",
       "      <td>0</td>\n",
       "      <td>0</td>\n",
       "      <td>1</td>\n",
       "      <td>0.713</td>\n",
       "      <td>0</td>\n",
       "      <td>2021-09-01 00:00:00</td>\n",
       "      <td>0</td>\n",
       "      <td>0</td>\n",
       "      <td>0</td>\n",
       "    </tr>\n",
       "    <tr>\n",
       "      <th>1</th>\n",
       "      <td>0</td>\n",
       "      <td>0</td>\n",
       "      <td>1</td>\n",
       "      <td>96.590</td>\n",
       "      <td>1</td>\n",
       "      <td>2021-09-01 00:00:00</td>\n",
       "      <td>0</td>\n",
       "      <td>1</td>\n",
       "      <td>0</td>\n",
       "    </tr>\n",
       "    <tr>\n",
       "      <th>2</th>\n",
       "      <td>0</td>\n",
       "      <td>0</td>\n",
       "      <td>2</td>\n",
       "      <td>0.000</td>\n",
       "      <td>0</td>\n",
       "      <td>2021-09-01 00:00:00</td>\n",
       "      <td>0</td>\n",
       "      <td>2</td>\n",
       "      <td>1</td>\n",
       "    </tr>\n",
       "    <tr>\n",
       "      <th>3</th>\n",
       "      <td>0</td>\n",
       "      <td>0</td>\n",
       "      <td>2</td>\n",
       "      <td>17.314</td>\n",
       "      <td>1</td>\n",
       "      <td>2021-09-01 00:00:00</td>\n",
       "      <td>0</td>\n",
       "      <td>3</td>\n",
       "      <td>1</td>\n",
       "    </tr>\n",
       "    <tr>\n",
       "      <th>4</th>\n",
       "      <td>0</td>\n",
       "      <td>0</td>\n",
       "      <td>3</td>\n",
       "      <td>2.904</td>\n",
       "      <td>0</td>\n",
       "      <td>2021-09-01 00:00:00</td>\n",
       "      <td>0</td>\n",
       "      <td>4</td>\n",
       "      <td>2</td>\n",
       "    </tr>\n",
       "  </tbody>\n",
       "</table>\n",
       "</div>"
      ],
      "text/plain": [
       "   county  is_business  product_type  target  is_consumption  \\\n",
       "0       0            0             1   0.713               0   \n",
       "1       0            0             1  96.590               1   \n",
       "2       0            0             2   0.000               0   \n",
       "3       0            0             2  17.314               1   \n",
       "4       0            0             3   2.904               0   \n",
       "\n",
       "              datetime  data_block_id  row_id  prediction_unit_id  \n",
       "0  2021-09-01 00:00:00              0       0                   0  \n",
       "1  2021-09-01 00:00:00              0       1                   0  \n",
       "2  2021-09-01 00:00:00              0       2                   1  \n",
       "3  2021-09-01 00:00:00              0       3                   1  \n",
       "4  2021-09-01 00:00:00              0       4                   2  "
      ]
     },
     "execution_count": 5,
     "metadata": {},
     "output_type": "execute_result"
    }
   ],
   "source": [
    "train.head()"
   ]
  },
  {
   "cell_type": "code",
   "execution_count": 6,
   "id": "abdc862d",
   "metadata": {
    "execution": {
     "iopub.execute_input": "2024-01-18T02:39:15.911899Z",
     "iopub.status.busy": "2024-01-18T02:39:15.911221Z",
     "iopub.status.idle": "2024-01-18T02:39:16.100950Z",
     "shell.execute_reply": "2024-01-18T02:39:16.099995Z"
    },
    "papermill": {
     "duration": 0.2005,
     "end_time": "2024-01-18T02:39:16.103105",
     "exception": false,
     "start_time": "2024-01-18T02:39:15.902605",
     "status": "completed"
    },
    "tags": []
   },
   "outputs": [
    {
     "data": {
      "text/plain": [
       "array(['2021-09-01 00:00:00', '2021-09-01 01:00:00',\n",
       "       '2021-09-01 02:00:00', ..., '2023-05-31 21:00:00',\n",
       "       '2023-05-31 22:00:00', '2023-05-31 23:00:00'], dtype=object)"
      ]
     },
     "execution_count": 6,
     "metadata": {},
     "output_type": "execute_result"
    }
   ],
   "source": [
    "# display datetime range\n",
    "train['datetime'].unique()"
   ]
  },
  {
   "cell_type": "markdown",
   "id": "daf77adb",
   "metadata": {
    "papermill": {
     "duration": 0.00752,
     "end_time": "2024-01-18T02:39:16.118833",
     "exception": false,
     "start_time": "2024-01-18T02:39:16.111313",
     "status": "completed"
    },
    "tags": []
   },
   "source": [
    "Note that in the `train.csv` dataset, the datetime change begins with the hour, followed by the day, and then the month.\n",
    "\n",
    "Here is the pseudocode of `train.csv` dataset:"
   ]
  },
  {
   "cell_type": "code",
   "execution_count": 7,
   "id": "9af287e1",
   "metadata": {
    "execution": {
     "iopub.execute_input": "2024-01-18T02:39:16.136008Z",
     "iopub.status.busy": "2024-01-18T02:39:16.135269Z",
     "iopub.status.idle": "2024-01-18T02:39:16.139445Z",
     "shell.execute_reply": "2024-01-18T02:39:16.138619Z"
    },
    "papermill": {
     "duration": 0.014872,
     "end_time": "2024-01-18T02:39:16.141308",
     "exception": false,
     "start_time": "2024-01-18T02:39:16.126436",
     "status": "completed"
    },
    "tags": []
   },
   "outputs": [],
   "source": [
    "\n",
    "################## The pseudocode of the train dataset ##################\n",
    "#for year in range(2021, 2024):  \n",
    "#    for month in range(1, 13):  # Adjusted to correctly range from 1 to 12  \n",
    "#        for hour in range(24):  \n",
    "#           for county in range(15):  \n",
    "#                for is_business in range(2):  # Adjusted to correctly range from 0 to 1  \n",
    "#                    for product in range(4):  \n",
    "#                        print(target)  \n",
    "######################################################################"
   ]
  },
  {
   "cell_type": "markdown",
   "id": "601a5b49",
   "metadata": {
    "papermill": {
     "duration": 0.007629,
     "end_time": "2024-01-18T02:39:16.156935",
     "exception": false,
     "start_time": "2024-01-18T02:39:16.149306",
     "status": "completed"
    },
    "tags": []
   },
   "source": [
    "### Data Transformation"
   ]
  },
  {
   "cell_type": "code",
   "execution_count": 8,
   "id": "e5ade25e",
   "metadata": {
    "execution": {
     "iopub.execute_input": "2024-01-18T02:39:16.173771Z",
     "iopub.status.busy": "2024-01-18T02:39:16.173310Z",
     "iopub.status.idle": "2024-01-18T02:39:16.510811Z",
     "shell.execute_reply": "2024-01-18T02:39:16.509747Z"
    },
    "papermill": {
     "duration": 0.348502,
     "end_time": "2024-01-18T02:39:16.513265",
     "exception": false,
     "start_time": "2024-01-18T02:39:16.164763",
     "status": "completed"
    },
    "tags": []
   },
   "outputs": [],
   "source": [
    "train['datetime'] = pd.to_datetime(train['datetime'])"
   ]
  },
  {
   "cell_type": "code",
   "execution_count": 9,
   "id": "726069c2",
   "metadata": {
    "execution": {
     "iopub.execute_input": "2024-01-18T02:39:16.530515Z",
     "iopub.status.busy": "2024-01-18T02:39:16.530250Z",
     "iopub.status.idle": "2024-01-18T02:39:16.539494Z",
     "shell.execute_reply": "2024-01-18T02:39:16.538623Z"
    },
    "papermill": {
     "duration": 0.019948,
     "end_time": "2024-01-18T02:39:16.541475",
     "exception": false,
     "start_time": "2024-01-18T02:39:16.521527",
     "status": "completed"
    },
    "tags": []
   },
   "outputs": [
    {
     "name": "stdout",
     "output_type": "stream",
     "text": [
      "<class 'pandas.core.frame.DataFrame'>\n",
      "RangeIndex: 2018352 entries, 0 to 2018351\n",
      "Data columns (total 9 columns):\n",
      " #   Column              Dtype         \n",
      "---  ------              -----         \n",
      " 0   county              int64         \n",
      " 1   is_business         int64         \n",
      " 2   product_type        int64         \n",
      " 3   target              float64       \n",
      " 4   is_consumption      int64         \n",
      " 5   datetime            datetime64[ns]\n",
      " 6   data_block_id       int64         \n",
      " 7   row_id              int64         \n",
      " 8   prediction_unit_id  int64         \n",
      "dtypes: datetime64[ns](1), float64(1), int64(7)\n",
      "memory usage: 138.6 MB\n"
     ]
    }
   ],
   "source": [
    "# 'datetime' column is changed to datetime64[ns]\n",
    "train.info()"
   ]
  },
  {
   "cell_type": "code",
   "execution_count": 10,
   "id": "f8e7527c",
   "metadata": {
    "execution": {
     "iopub.execute_input": "2024-01-18T02:39:16.558733Z",
     "iopub.status.busy": "2024-01-18T02:39:16.558061Z",
     "iopub.status.idle": "2024-01-18T02:39:16.570557Z",
     "shell.execute_reply": "2024-01-18T02:39:16.569726Z"
    },
    "papermill": {
     "duration": 0.02308,
     "end_time": "2024-01-18T02:39:16.572433",
     "exception": false,
     "start_time": "2024-01-18T02:39:16.549353",
     "status": "completed"
    },
    "tags": []
   },
   "outputs": [
    {
     "data": {
      "text/html": [
       "<div>\n",
       "<style scoped>\n",
       "    .dataframe tbody tr th:only-of-type {\n",
       "        vertical-align: middle;\n",
       "    }\n",
       "\n",
       "    .dataframe tbody tr th {\n",
       "        vertical-align: top;\n",
       "    }\n",
       "\n",
       "    .dataframe thead th {\n",
       "        text-align: right;\n",
       "    }\n",
       "</style>\n",
       "<table border=\"1\" class=\"dataframe\">\n",
       "  <thead>\n",
       "    <tr style=\"text-align: right;\">\n",
       "      <th></th>\n",
       "      <th>county</th>\n",
       "      <th>is_business</th>\n",
       "      <th>product_type</th>\n",
       "      <th>target</th>\n",
       "      <th>is_consumption</th>\n",
       "      <th>datetime</th>\n",
       "      <th>data_block_id</th>\n",
       "      <th>row_id</th>\n",
       "      <th>prediction_unit_id</th>\n",
       "    </tr>\n",
       "  </thead>\n",
       "  <tbody>\n",
       "    <tr>\n",
       "      <th>0</th>\n",
       "      <td>0</td>\n",
       "      <td>0</td>\n",
       "      <td>1</td>\n",
       "      <td>0.713</td>\n",
       "      <td>0</td>\n",
       "      <td>2021-09-01</td>\n",
       "      <td>0</td>\n",
       "      <td>0</td>\n",
       "      <td>0</td>\n",
       "    </tr>\n",
       "    <tr>\n",
       "      <th>1</th>\n",
       "      <td>0</td>\n",
       "      <td>0</td>\n",
       "      <td>1</td>\n",
       "      <td>96.590</td>\n",
       "      <td>1</td>\n",
       "      <td>2021-09-01</td>\n",
       "      <td>0</td>\n",
       "      <td>1</td>\n",
       "      <td>0</td>\n",
       "    </tr>\n",
       "    <tr>\n",
       "      <th>2</th>\n",
       "      <td>0</td>\n",
       "      <td>0</td>\n",
       "      <td>2</td>\n",
       "      <td>0.000</td>\n",
       "      <td>0</td>\n",
       "      <td>2021-09-01</td>\n",
       "      <td>0</td>\n",
       "      <td>2</td>\n",
       "      <td>1</td>\n",
       "    </tr>\n",
       "    <tr>\n",
       "      <th>3</th>\n",
       "      <td>0</td>\n",
       "      <td>0</td>\n",
       "      <td>2</td>\n",
       "      <td>17.314</td>\n",
       "      <td>1</td>\n",
       "      <td>2021-09-01</td>\n",
       "      <td>0</td>\n",
       "      <td>3</td>\n",
       "      <td>1</td>\n",
       "    </tr>\n",
       "    <tr>\n",
       "      <th>4</th>\n",
       "      <td>0</td>\n",
       "      <td>0</td>\n",
       "      <td>3</td>\n",
       "      <td>2.904</td>\n",
       "      <td>0</td>\n",
       "      <td>2021-09-01</td>\n",
       "      <td>0</td>\n",
       "      <td>4</td>\n",
       "      <td>2</td>\n",
       "    </tr>\n",
       "  </tbody>\n",
       "</table>\n",
       "</div>"
      ],
      "text/plain": [
       "   county  is_business  product_type  target  is_consumption   datetime  \\\n",
       "0       0            0             1   0.713               0 2021-09-01   \n",
       "1       0            0             1  96.590               1 2021-09-01   \n",
       "2       0            0             2   0.000               0 2021-09-01   \n",
       "3       0            0             2  17.314               1 2021-09-01   \n",
       "4       0            0             3   2.904               0 2021-09-01   \n",
       "\n",
       "   data_block_id  row_id  prediction_unit_id  \n",
       "0              0       0                   0  \n",
       "1              0       1                   0  \n",
       "2              0       2                   1  \n",
       "3              0       3                   1  \n",
       "4              0       4                   2  "
      ]
     },
     "execution_count": 10,
     "metadata": {},
     "output_type": "execute_result"
    }
   ],
   "source": [
    "train.head()"
   ]
  },
  {
   "cell_type": "code",
   "execution_count": 11,
   "id": "1ae612ff",
   "metadata": {
    "execution": {
     "iopub.execute_input": "2024-01-18T02:39:16.589718Z",
     "iopub.status.busy": "2024-01-18T02:39:16.589440Z",
     "iopub.status.idle": "2024-01-18T02:39:16.607906Z",
     "shell.execute_reply": "2024-01-18T02:39:16.607058Z"
    },
    "papermill": {
     "duration": 0.029317,
     "end_time": "2024-01-18T02:39:16.609838",
     "exception": false,
     "start_time": "2024-01-18T02:39:16.580521",
     "status": "completed"
    },
    "tags": []
   },
   "outputs": [
    {
     "data": {
      "text/plain": [
       "<DatetimeArray>\n",
       "['2021-09-01 00:00:00', '2021-09-01 01:00:00', '2021-09-01 02:00:00',\n",
       " '2021-09-01 03:00:00', '2021-09-01 04:00:00', '2021-09-01 05:00:00',\n",
       " '2021-09-01 06:00:00', '2021-09-01 07:00:00', '2021-09-01 08:00:00',\n",
       " '2021-09-01 09:00:00',\n",
       " ...\n",
       " '2023-05-31 14:00:00', '2023-05-31 15:00:00', '2023-05-31 16:00:00',\n",
       " '2023-05-31 17:00:00', '2023-05-31 18:00:00', '2023-05-31 19:00:00',\n",
       " '2023-05-31 20:00:00', '2023-05-31 21:00:00', '2023-05-31 22:00:00',\n",
       " '2023-05-31 23:00:00']\n",
       "Length: 15312, dtype: datetime64[ns]"
      ]
     },
     "execution_count": 11,
     "metadata": {},
     "output_type": "execute_result"
    }
   ],
   "source": [
    "# display datetime range\n",
    "train['datetime'].unique()"
   ]
  },
  {
   "cell_type": "code",
   "execution_count": 12,
   "id": "d3d58b2a",
   "metadata": {
    "execution": {
     "iopub.execute_input": "2024-01-18T02:39:16.627875Z",
     "iopub.status.busy": "2024-01-18T02:39:16.627376Z",
     "iopub.status.idle": "2024-01-18T02:39:16.779276Z",
     "shell.execute_reply": "2024-01-18T02:39:16.778180Z"
    },
    "papermill": {
     "duration": 0.163544,
     "end_time": "2024-01-18T02:39:16.781851",
     "exception": false,
     "start_time": "2024-01-18T02:39:16.618307",
     "status": "completed"
    },
    "tags": []
   },
   "outputs": [
    {
     "data": {
      "text/html": [
       "<div>\n",
       "<style scoped>\n",
       "    .dataframe tbody tr th:only-of-type {\n",
       "        vertical-align: middle;\n",
       "    }\n",
       "\n",
       "    .dataframe tbody tr th {\n",
       "        vertical-align: top;\n",
       "    }\n",
       "\n",
       "    .dataframe thead th {\n",
       "        text-align: right;\n",
       "    }\n",
       "</style>\n",
       "<table border=\"1\" class=\"dataframe\">\n",
       "  <thead>\n",
       "    <tr style=\"text-align: right;\">\n",
       "      <th></th>\n",
       "      <th>county</th>\n",
       "      <th>is_business</th>\n",
       "      <th>product_type</th>\n",
       "      <th>target</th>\n",
       "      <th>is_consumption</th>\n",
       "      <th>data_block_id</th>\n",
       "      <th>row_id</th>\n",
       "      <th>prediction_unit_id</th>\n",
       "    </tr>\n",
       "    <tr>\n",
       "      <th>datetime</th>\n",
       "      <th></th>\n",
       "      <th></th>\n",
       "      <th></th>\n",
       "      <th></th>\n",
       "      <th></th>\n",
       "      <th></th>\n",
       "      <th></th>\n",
       "      <th></th>\n",
       "    </tr>\n",
       "  </thead>\n",
       "  <tbody>\n",
       "    <tr>\n",
       "      <th>2021-09-01</th>\n",
       "      <td>0</td>\n",
       "      <td>0</td>\n",
       "      <td>1</td>\n",
       "      <td>0.713</td>\n",
       "      <td>0</td>\n",
       "      <td>0</td>\n",
       "      <td>0</td>\n",
       "      <td>0</td>\n",
       "    </tr>\n",
       "    <tr>\n",
       "      <th>2021-09-01</th>\n",
       "      <td>0</td>\n",
       "      <td>0</td>\n",
       "      <td>1</td>\n",
       "      <td>96.590</td>\n",
       "      <td>1</td>\n",
       "      <td>0</td>\n",
       "      <td>1</td>\n",
       "      <td>0</td>\n",
       "    </tr>\n",
       "    <tr>\n",
       "      <th>2021-09-01</th>\n",
       "      <td>0</td>\n",
       "      <td>0</td>\n",
       "      <td>2</td>\n",
       "      <td>0.000</td>\n",
       "      <td>0</td>\n",
       "      <td>0</td>\n",
       "      <td>2</td>\n",
       "      <td>1</td>\n",
       "    </tr>\n",
       "    <tr>\n",
       "      <th>2021-09-01</th>\n",
       "      <td>0</td>\n",
       "      <td>0</td>\n",
       "      <td>2</td>\n",
       "      <td>17.314</td>\n",
       "      <td>1</td>\n",
       "      <td>0</td>\n",
       "      <td>3</td>\n",
       "      <td>1</td>\n",
       "    </tr>\n",
       "    <tr>\n",
       "      <th>2021-09-01</th>\n",
       "      <td>0</td>\n",
       "      <td>0</td>\n",
       "      <td>3</td>\n",
       "      <td>2.904</td>\n",
       "      <td>0</td>\n",
       "      <td>0</td>\n",
       "      <td>4</td>\n",
       "      <td>2</td>\n",
       "    </tr>\n",
       "  </tbody>\n",
       "</table>\n",
       "</div>"
      ],
      "text/plain": [
       "            county  is_business  product_type  target  is_consumption  \\\n",
       "datetime                                                                \n",
       "2021-09-01       0            0             1   0.713               0   \n",
       "2021-09-01       0            0             1  96.590               1   \n",
       "2021-09-01       0            0             2   0.000               0   \n",
       "2021-09-01       0            0             2  17.314               1   \n",
       "2021-09-01       0            0             3   2.904               0   \n",
       "\n",
       "            data_block_id  row_id  prediction_unit_id  \n",
       "datetime                                               \n",
       "2021-09-01              0       0                   0  \n",
       "2021-09-01              0       1                   0  \n",
       "2021-09-01              0       2                   1  \n",
       "2021-09-01              0       3                   1  \n",
       "2021-09-01              0       4                   2  "
      ]
     },
     "execution_count": 12,
     "metadata": {},
     "output_type": "execute_result"
    }
   ],
   "source": [
    "# set index as ascending datetime\n",
    "train.set_index('datetime', inplace=True)\n",
    "train.sort_index()\n",
    "train['target'].fillna(value=0, inplace=True)\n",
    "# train.dropna(axis=0, inplace=True)\n",
    "train.head()"
   ]
  },
  {
   "cell_type": "code",
   "execution_count": 13,
   "id": "6ecd2a08",
   "metadata": {
    "execution": {
     "iopub.execute_input": "2024-01-18T02:39:16.802327Z",
     "iopub.status.busy": "2024-01-18T02:39:16.802011Z",
     "iopub.status.idle": "2024-01-18T02:39:17.152520Z",
     "shell.execute_reply": "2024-01-18T02:39:17.151474Z"
    },
    "papermill": {
     "duration": 0.362655,
     "end_time": "2024-01-18T02:39:17.154509",
     "exception": false,
     "start_time": "2024-01-18T02:39:16.791854",
     "status": "completed"
    },
    "tags": []
   },
   "outputs": [
    {
     "name": "stdout",
     "output_type": "stream",
     "text": [
      "X_train shape: (1412846, 1, 5)\n",
      "y_train shape: (1412846,)\n",
      "X_test shape: (605506, 1, 5)\n",
      "y_test shape: (605506,)\n"
     ]
    }
   ],
   "source": [
    "# drop non-feature columns from the dataset\n",
    "X = train.drop(['target', 'row_id', 'data_block_id'], axis=1)\n",
    "# isolate the target variable\n",
    "y = train['target']\n",
    "\n",
    "# split the dataset into 70% training and 30% testing sets\n",
    "X_train, X_test, y_train, y_test = train_test_split(X, y, test_size=0.3, random_state=42)\n",
    "\n",
    "# reshape features for LSTM: [samples, timesteps, features]\n",
    "X_train = np.array(X_train).reshape((X_train.shape[0], 1, X_train.shape[1]))\n",
    "X_test = np.array(X_test).reshape((X_test.shape[0], 1, X_test.shape[1]))\n",
    "\n",
    "# print the shapes of the train and test data\n",
    "print(f\"X_train shape: {X_train.shape}\")\n",
    "print(f\"y_train shape: {y_train.shape}\")\n",
    "print(f\"X_test shape: {X_test.shape}\")\n",
    "print(f\"y_test shape: {y_test.shape}\")"
   ]
  },
  {
   "cell_type": "markdown",
   "id": "3d2d46cb",
   "metadata": {
    "papermill": {
     "duration": 0.008249,
     "end_time": "2024-01-18T02:39:17.171567",
     "exception": false,
     "start_time": "2024-01-18T02:39:17.163318",
     "status": "completed"
    },
    "tags": []
   },
   "source": [
    "### Data Modeling"
   ]
  },
  {
   "cell_type": "markdown",
   "id": "9382c36e",
   "metadata": {
    "papermill": {
     "duration": 0.008441,
     "end_time": "2024-01-18T02:39:17.188735",
     "exception": false,
     "start_time": "2024-01-18T02:39:17.180294",
     "status": "completed"
    },
    "tags": []
   },
   "source": [
    "#### Model 1"
   ]
  },
  {
   "cell_type": "code",
   "execution_count": 14,
   "id": "45bfe92d",
   "metadata": {
    "execution": {
     "iopub.execute_input": "2024-01-18T02:39:17.207505Z",
     "iopub.status.busy": "2024-01-18T02:39:17.207168Z",
     "iopub.status.idle": "2024-01-18T02:39:21.800702Z",
     "shell.execute_reply": "2024-01-18T02:39:21.799558Z"
    },
    "papermill": {
     "duration": 4.608986,
     "end_time": "2024-01-18T02:39:21.806233",
     "exception": false,
     "start_time": "2024-01-18T02:39:17.197247",
     "status": "completed"
    },
    "tags": []
   },
   "outputs": [
    {
     "name": "stdout",
     "output_type": "stream",
     "text": [
      "Model: \"sequential\"\n",
      "_________________________________________________________________\n",
      " Layer (type)                Output Shape              Param #   \n",
      "=================================================================\n",
      " lstm (LSTM)                 (None, 1, 1024)           4218880   \n",
      "                                                                 \n",
      " dropout (Dropout)           (None, 1, 1024)           0         \n",
      "                                                                 \n",
      " lstm_1 (LSTM)               (None, 1, 1024)           8392704   \n",
      "                                                                 \n",
      " dropout_1 (Dropout)         (None, 1, 1024)           0         \n",
      "                                                                 \n",
      " lstm_2 (LSTM)               (None, 1024)              8392704   \n",
      "                                                                 \n",
      " dropout_2 (Dropout)         (None, 1024)              0         \n",
      "                                                                 \n",
      " dense (Dense)               (None, 1)                 1025      \n",
      "                                                                 \n",
      "=================================================================\n",
      "Total params: 21005313 (80.13 MB)\n",
      "Trainable params: 21005313 (80.13 MB)\n",
      "Non-trainable params: 0 (0.00 Byte)\n",
      "_________________________________________________________________\n"
     ]
    }
   ],
   "source": [
    "# define the LSTM model\n",
    "lst_model = Sequential()\n",
    "\n",
    "# first LSTM layer with dropout\n",
    "lst_model.add(LSTM(\n",
    "    units=1024,\n",
    "    return_sequences=True,\n",
    "    activation='swish',\n",
    "    input_shape=(X_train.shape[1], X_train.shape[2]),\n",
    "))\n",
    "lst_model.add(Dropout(0.2))\n",
    "\n",
    "# second LSTM layer with dropout\n",
    "lst_model.add(LSTM(\n",
    "    units=1024,\n",
    "    return_sequences=True,\n",
    "    activation='swish'\n",
    "))\n",
    "lst_model.add(Dropout(0.2))\n",
    "\n",
    "# third LSTM layer with dropout, returning only the last output\n",
    "lst_model.add(LSTM(\n",
    "    units=1024,\n",
    "    return_sequences=False,\n",
    "    activation='swish'\n",
    "))\n",
    "lst_model.add(Dropout(0.2))\n",
    "\n",
    "# dense layer for output\n",
    "lst_model.add(Dense(units=1))\n",
    "\n",
    "# compile the model\n",
    "lst_model.compile(optimizer='adam', loss='mean_absolute_error')\n",
    "\n",
    "# print the model summary\n",
    "lst_model.summary()"
   ]
  },
  {
   "cell_type": "code",
   "execution_count": 15,
   "id": "ff7e463e",
   "metadata": {
    "execution": {
     "iopub.execute_input": "2024-01-18T02:39:21.828916Z",
     "iopub.status.busy": "2024-01-18T02:39:21.828626Z",
     "iopub.status.idle": "2024-01-18T02:48:59.507198Z",
     "shell.execute_reply": "2024-01-18T02:48:59.506172Z"
    },
    "papermill": {
     "duration": 577.702231,
     "end_time": "2024-01-18T02:48:59.519346",
     "exception": false,
     "start_time": "2024-01-18T02:39:21.817115",
     "status": "completed"
    },
    "tags": []
   },
   "outputs": [
    {
     "name": "stdout",
     "output_type": "stream",
     "text": [
      "Epoch 1/100\n",
      "1380/1380 - 67s - loss: 184.8303 - val_loss: 151.9915 - 67s/epoch - 49ms/step\n",
      "Epoch 2/100\n",
      "1380/1380 - 64s - loss: 145.6404 - val_loss: 130.4620 - 64s/epoch - 46ms/step\n",
      "Epoch 3/100\n",
      "1380/1380 - 64s - loss: 137.1894 - val_loss: 129.1006 - 64s/epoch - 46ms/step\n",
      "Epoch 4/100\n",
      "1380/1380 - 64s - loss: 133.7388 - val_loss: 128.2595 - 64s/epoch - 46ms/step\n",
      "Epoch 5/100\n",
      "1380/1380 - 64s - loss: 132.4064 - val_loss: 130.6793 - 64s/epoch - 46ms/step\n",
      "Epoch 6/100\n",
      "1380/1380 - 64s - loss: 131.7563 - val_loss: 128.7879 - 64s/epoch - 46ms/step\n",
      "Epoch 7/100\n",
      "1380/1380 - 64s - loss: 131.3576 - val_loss: 128.9569 - 64s/epoch - 46ms/step\n",
      "Epoch 8/100\n",
      "1380/1380 - 64s - loss: 130.8578 - val_loss: 128.3190 - 64s/epoch - 46ms/step\n",
      "Epoch 9/100\n",
      "1380/1380 - 64s - loss: 130.7255 - val_loss: 129.0964 - 64s/epoch - 46ms/step\n",
      "Epoch 9: early stopping\n"
     ]
    }
   ],
   "source": [
    "# set up the EarlyStopping callback to monitor the validation loss\n",
    "earlyStop = EarlyStopping(\n",
    "    monitor=\"val_loss\", \n",
    "    verbose=2,          # verbose mode will print out extra information\n",
    "    mode='min',         # the training will stop when the quantity monitored has stopped decreasing\n",
    "    patience=5          # number of epochs with no improvement after which training will be stopped\n",
    ")\n",
    "\n",
    "# fit the LSTM model to the training data\n",
    "history = lst_model.fit(\n",
    "    X_train, y_train,                       # training data and labels\n",
    "    epochs=100,                             # maximum number of epochs to run\n",
    "    batch_size=1024,                        # batch size for training\n",
    "    validation_data=(X_test, y_test),       # validation data for evaluating the model\n",
    "    callbacks=[earlyStop],                  # list of callbacks, in this case just EarlyStopping\n",
    "    verbose=2,                              # verbose mode will print out extra information per epoch\n",
    "    shuffle=False                           # don't shuffle the data, usually important in time series\n",
    ")"
   ]
  },
  {
   "cell_type": "markdown",
   "id": "a81c14ba",
   "metadata": {
    "papermill": {
     "duration": 0.011575,
     "end_time": "2024-01-18T02:48:59.542691",
     "exception": false,
     "start_time": "2024-01-18T02:48:59.531116",
     "status": "completed"
    },
    "tags": []
   },
   "source": [
    "The early stopping callback stopped the training process because the validation loss did not decrease for several epochs, despite potential improvements in training loss. This divergence between training and validation performance is a classic sign of overfitting."
   ]
  },
  {
   "cell_type": "markdown",
   "id": "9c1a026d",
   "metadata": {
    "papermill": {
     "duration": 0.011501,
     "end_time": "2024-01-18T02:48:59.565810",
     "exception": false,
     "start_time": "2024-01-18T02:48:59.554309",
     "status": "completed"
    },
    "tags": []
   },
   "source": [
    "#### Model 2"
   ]
  },
  {
   "cell_type": "markdown",
   "id": "b8904424",
   "metadata": {
    "papermill": {
     "duration": 0.011505,
     "end_time": "2024-01-18T02:48:59.588909",
     "exception": false,
     "start_time": "2024-01-18T02:48:59.577404",
     "status": "completed"
    },
    "tags": []
   },
   "source": [
    "reduce the overfitting by"
   ]
  },
  {
   "cell_type": "code",
   "execution_count": 16,
   "id": "1a82b116",
   "metadata": {
    "execution": {
     "iopub.execute_input": "2024-01-18T02:48:59.613670Z",
     "iopub.status.busy": "2024-01-18T02:48:59.613356Z",
     "iopub.status.idle": "2024-01-18T02:48:59.749690Z",
     "shell.execute_reply": "2024-01-18T02:48:59.748899Z"
    },
    "papermill": {
     "duration": 0.151252,
     "end_time": "2024-01-18T02:48:59.752010",
     "exception": false,
     "start_time": "2024-01-18T02:48:59.600758",
     "status": "completed"
    },
    "tags": []
   },
   "outputs": [],
   "source": [
    "from tensorflow.keras.optimizers import Adam"
   ]
  },
  {
   "cell_type": "code",
   "execution_count": 17,
   "id": "b47a2e77",
   "metadata": {
    "execution": {
     "iopub.execute_input": "2024-01-18T02:48:59.779922Z",
     "iopub.status.busy": "2024-01-18T02:48:59.779614Z",
     "iopub.status.idle": "2024-01-18T02:49:01.985860Z",
     "shell.execute_reply": "2024-01-18T02:49:01.984900Z"
    },
    "papermill": {
     "duration": 2.223013,
     "end_time": "2024-01-18T02:49:01.989361",
     "exception": false,
     "start_time": "2024-01-18T02:48:59.766348",
     "status": "completed"
    },
    "tags": []
   },
   "outputs": [
    {
     "name": "stdout",
     "output_type": "stream",
     "text": [
      "Model: \"sequential_1\"\n",
      "_________________________________________________________________\n",
      " Layer (type)                Output Shape              Param #   \n",
      "=================================================================\n",
      " lstm_3 (LSTM)               (None, 1, 1024)           4218880   \n",
      "                                                                 \n",
      " dropout_3 (Dropout)         (None, 1, 1024)           0         \n",
      "                                                                 \n",
      " lstm_4 (LSTM)               (None, 1024)              8392704   \n",
      "                                                                 \n",
      " dropout_4 (Dropout)         (None, 1024)              0         \n",
      "                                                                 \n",
      " dense_1 (Dense)             (None, 1)                 1025      \n",
      "                                                                 \n",
      "=================================================================\n",
      "Total params: 12612609 (48.11 MB)\n",
      "Trainable params: 12612609 (48.11 MB)\n",
      "Non-trainable params: 0 (0.00 Byte)\n",
      "_________________________________________________________________\n"
     ]
    }
   ],
   "source": [
    "# define the LSTM model\n",
    "lst_model_2 = Sequential()\n",
    "\n",
    "# first LSTM layer with dropout\n",
    "lst_model_2.add(LSTM(\n",
    "    units=1024,\n",
    "    return_sequences=True,\n",
    "    activation='swish',\n",
    "    input_shape=(X_train.shape[1], X_train.shape[2]),\n",
    "))\n",
    "lst_model_2.add(Dropout(0.3))\n",
    "\n",
    "# second LSTM layer with dropout\n",
    "lst_model_2.add(LSTM(\n",
    "    units=1024,\n",
    "    return_sequences=False,\n",
    "    activation='swish'\n",
    "))\n",
    "lst_model_2.add(Dropout(0.3))\n",
    "\n",
    "# dense layer for output\n",
    "lst_model_2.add(Dense(units=1))\n",
    "\n",
    "# initialize the Adam optimizer with a custom learning rate\n",
    "custom_learning_rate = 0.02\n",
    "adam_optimizer = Adam(learning_rate=custom_learning_rate)\n",
    "\n",
    "# compile the model with the custom optimizer\n",
    "lst_model_2.compile(optimizer=adam_optimizer, loss='mean_absolute_error')\n",
    "\n",
    "# print the model summary\n",
    "lst_model_2.summary()"
   ]
  },
  {
   "cell_type": "code",
   "execution_count": 18,
   "id": "5182c802",
   "metadata": {
    "execution": {
     "iopub.execute_input": "2024-01-18T02:49:02.016904Z",
     "iopub.status.busy": "2024-01-18T02:49:02.016634Z",
     "iopub.status.idle": "2024-01-18T02:57:48.836174Z",
     "shell.execute_reply": "2024-01-18T02:57:48.835227Z"
    },
    "papermill": {
     "duration": 526.850096,
     "end_time": "2024-01-18T02:57:48.852766",
     "exception": false,
     "start_time": "2024-01-18T02:49:02.002670",
     "status": "completed"
    },
    "tags": []
   },
   "outputs": [
    {
     "name": "stdout",
     "output_type": "stream",
     "text": [
      "Epoch 1/100\n",
      "690/690 - 42s - loss: 173.1839 - val_loss: 148.9331 - 42s/epoch - 61ms/step\n",
      "Epoch 2/100\n",
      "690/690 - 37s - loss: 159.1522 - val_loss: 137.3373 - 37s/epoch - 54ms/step\n",
      "Epoch 3/100\n",
      "690/690 - 37s - loss: 146.3663 - val_loss: 135.2917 - 37s/epoch - 54ms/step\n",
      "Epoch 4/100\n",
      "690/690 - 37s - loss: 143.6358 - val_loss: 140.6883 - 37s/epoch - 54ms/step\n",
      "Epoch 5/100\n",
      "690/690 - 37s - loss: 143.0775 - val_loss: 136.2490 - 37s/epoch - 54ms/step\n",
      "Epoch 6/100\n",
      "690/690 - 37s - loss: 142.4927 - val_loss: 133.2635 - 37s/epoch - 54ms/step\n",
      "Epoch 7/100\n",
      "690/690 - 37s - loss: 142.9490 - val_loss: 135.6977 - 37s/epoch - 54ms/step\n",
      "Epoch 8/100\n",
      "690/690 - 37s - loss: 140.7601 - val_loss: 131.0321 - 37s/epoch - 54ms/step\n",
      "Epoch 9/100\n",
      "690/690 - 37s - loss: 140.3795 - val_loss: 130.9897 - 37s/epoch - 54ms/step\n",
      "Epoch 10/100\n",
      "690/690 - 37s - loss: 138.8741 - val_loss: 131.8532 - 37s/epoch - 54ms/step\n",
      "Epoch 11/100\n",
      "690/690 - 37s - loss: 142.1758 - val_loss: 133.7669 - 37s/epoch - 54ms/step\n",
      "Epoch 12/100\n",
      "690/690 - 37s - loss: 140.9376 - val_loss: 135.0010 - 37s/epoch - 54ms/step\n",
      "Epoch 13/100\n",
      "690/690 - 37s - loss: 139.8613 - val_loss: 132.4343 - 37s/epoch - 54ms/step\n",
      "Epoch 14/100\n",
      "690/690 - 37s - loss: 139.2489 - val_loss: 137.1606 - 37s/epoch - 54ms/step\n",
      "Epoch 14: early stopping\n"
     ]
    }
   ],
   "source": [
    "# fit the LSTM model to the training data\n",
    "history_2 = lst_model_2.fit(\n",
    "    X_train, y_train,                       # training data and labels\n",
    "    epochs=100,                             # maximum number of epochs to run\n",
    "    batch_size=2048,                         # batch size for training\n",
    "    validation_data=(X_test, y_test),       # validation data for evaluating the model\n",
    "    callbacks=[earlyStop],                  # list of callbacks, in this case just EarlyStopping\n",
    "    verbose=2,                              # verbose mode will print out extra information per epoch\n",
    "    shuffle=False                           # don't shuffle the data, usually important in time series\n",
    ")"
   ]
  },
  {
   "cell_type": "code",
   "execution_count": 19,
   "id": "1d760997",
   "metadata": {
    "execution": {
     "iopub.execute_input": "2024-01-18T02:57:48.884827Z",
     "iopub.status.busy": "2024-01-18T02:57:48.884475Z",
     "iopub.status.idle": "2024-01-18T02:57:48.888291Z",
     "shell.execute_reply": "2024-01-18T02:57:48.887422Z"
    },
    "papermill": {
     "duration": 0.022092,
     "end_time": "2024-01-18T02:57:48.890183",
     "exception": false,
     "start_time": "2024-01-18T02:57:48.868091",
     "status": "completed"
    },
    "tags": []
   },
   "outputs": [],
   "source": [
    "# mae = mean_absolute_error(lst_model.predict(test_X), test_y)\n",
    "# print('Test MAE: %.3f' % mae)"
   ]
  },
  {
   "cell_type": "code",
   "execution_count": 20,
   "id": "3d84e7b4",
   "metadata": {
    "execution": {
     "iopub.execute_input": "2024-01-18T02:57:48.924229Z",
     "iopub.status.busy": "2024-01-18T02:57:48.923601Z",
     "iopub.status.idle": "2024-01-18T02:57:48.927435Z",
     "shell.execute_reply": "2024-01-18T02:57:48.926575Z"
    },
    "papermill": {
     "duration": 0.022558,
     "end_time": "2024-01-18T02:57:48.929335",
     "exception": false,
     "start_time": "2024-01-18T02:57:48.906777",
     "status": "completed"
    },
    "tags": []
   },
   "outputs": [],
   "source": [
    "# save model\n",
    "# lst_model.save('lstm.h5')"
   ]
  },
  {
   "cell_type": "markdown",
   "id": "35ebd3f7",
   "metadata": {
    "papermill": {
     "duration": 0.015454,
     "end_time": "2024-01-18T02:57:48.960370",
     "exception": false,
     "start_time": "2024-01-18T02:57:48.944916",
     "status": "completed"
    },
    "tags": []
   },
   "source": [
    "### Submission"
   ]
  }
 ],
 "metadata": {
  "kaggle": {
   "accelerator": "nvidiaTeslaT4",
   "dataSources": [
    {
     "datasetId": 4278088,
     "sourceId": 7364268,
     "sourceType": "datasetVersion"
    }
   ],
   "dockerImageVersionId": 30635,
   "isGpuEnabled": true,
   "isInternetEnabled": true,
   "language": "python",
   "sourceType": "notebook"
  },
  "kernelspec": {
   "display_name": "Python 3",
   "language": "python",
   "name": "python3"
  },
  "language_info": {
   "codemirror_mode": {
    "name": "ipython",
    "version": 3
   },
   "file_extension": ".py",
   "mimetype": "text/x-python",
   "name": "python",
   "nbconvert_exporter": "python",
   "pygments_lexer": "ipython3",
   "version": "3.10.12"
  },
  "papermill": {
   "default_parameters": {},
   "duration": 1136.41281,
   "end_time": "2024-01-18T02:57:51.697897",
   "environment_variables": {},
   "exception": null,
   "input_path": "__notebook__.ipynb",
   "output_path": "__notebook__.ipynb",
   "parameters": {},
   "start_time": "2024-01-18T02:38:55.285087",
   "version": "2.4.0"
  }
 },
 "nbformat": 4,
 "nbformat_minor": 5
}
