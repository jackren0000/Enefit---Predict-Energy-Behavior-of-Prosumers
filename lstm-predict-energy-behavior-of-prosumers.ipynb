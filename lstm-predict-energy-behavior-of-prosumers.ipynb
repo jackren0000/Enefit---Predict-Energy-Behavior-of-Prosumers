{
 "cells": [
  {
   "cell_type": "code",
   "execution_count": 1,
   "id": "b7e4d40d",
   "metadata": {
    "_cell_guid": "b1076dfc-b9ad-4769-8c92-a6c4dae69d19",
    "_uuid": "8f2839f25d086af736a60e9eeb907d3b93b6e0e5",
    "execution": {
     "iopub.execute_input": "2024-01-16T05:53:07.539874Z",
     "iopub.status.busy": "2024-01-16T05:53:07.539378Z",
     "iopub.status.idle": "2024-01-16T05:53:25.364975Z",
     "shell.execute_reply": "2024-01-16T05:53:25.363316Z"
    },
    "papermill": {
     "duration": 17.836226,
     "end_time": "2024-01-16T05:53:25.368153",
     "exception": false,
     "start_time": "2024-01-16T05:53:07.531927",
     "status": "completed"
    },
    "tags": []
   },
   "outputs": [],
   "source": [
    "#### load the libraries\n",
    "import pandas as pd\n",
    "import numpy as np\n",
    "import os\n",
    "from matplotlib import pyplot\n",
    "from sklearn.metrics import mean_absolute_error\n",
    "from keras.models import Sequential, load_model\n",
    "from keras.layers import LSTM, Dropout, Dense\n",
    "from keras.callbacks import EarlyStopping"
   ]
  },
  {
   "cell_type": "markdown",
   "id": "89ac602c",
   "metadata": {
    "papermill": {
     "duration": 0.004059,
     "end_time": "2024-01-16T05:53:25.377393",
     "exception": false,
     "start_time": "2024-01-16T05:53:25.373334",
     "status": "completed"
    },
    "tags": []
   },
   "source": [
    "### Data Collection"
   ]
  },
  {
   "cell_type": "code",
   "execution_count": 2,
   "id": "2bcde32f",
   "metadata": {
    "execution": {
     "iopub.execute_input": "2024-01-16T05:53:25.388868Z",
     "iopub.status.busy": "2024-01-16T05:53:25.387924Z",
     "iopub.status.idle": "2024-01-16T05:53:25.393141Z",
     "shell.execute_reply": "2024-01-16T05:53:25.391942Z"
    },
    "papermill": {
     "duration": 0.013998,
     "end_time": "2024-01-16T05:53:25.395661",
     "exception": false,
     "start_time": "2024-01-16T05:53:25.381663",
     "status": "completed"
    },
    "tags": []
   },
   "outputs": [],
   "source": [
    "#### update data directory path\n",
    "DATA_DIR = '/kaggle/input/predict-energy-behavior-of-prosumers'"
   ]
  },
  {
   "cell_type": "code",
   "execution_count": 3,
   "id": "daee9e8a",
   "metadata": {
    "execution": {
     "iopub.execute_input": "2024-01-16T05:53:25.407543Z",
     "iopub.status.busy": "2024-01-16T05:53:25.406995Z",
     "iopub.status.idle": "2024-01-16T05:53:28.098046Z",
     "shell.execute_reply": "2024-01-16T05:53:28.096599Z"
    },
    "papermill": {
     "duration": 2.701277,
     "end_time": "2024-01-16T05:53:28.101334",
     "exception": false,
     "start_time": "2024-01-16T05:53:25.400057",
     "status": "completed"
    },
    "tags": []
   },
   "outputs": [],
   "source": [
    "#### read the CSV files into DataFrames\n",
    "train = pd.read_csv(os.path.join(DATA_DIR, \"train.csv\"))"
   ]
  },
  {
   "cell_type": "markdown",
   "id": "f4e03243",
   "metadata": {
    "papermill": {
     "duration": 0.004086,
     "end_time": "2024-01-16T05:53:28.110103",
     "exception": false,
     "start_time": "2024-01-16T05:53:28.106017",
     "status": "completed"
    },
    "tags": []
   },
   "source": [
    "### Data Exploration"
   ]
  },
  {
   "cell_type": "code",
   "execution_count": 4,
   "id": "411ff413",
   "metadata": {
    "execution": {
     "iopub.execute_input": "2024-01-16T05:53:28.120488Z",
     "iopub.status.busy": "2024-01-16T05:53:28.120033Z",
     "iopub.status.idle": "2024-01-16T05:53:28.160518Z",
     "shell.execute_reply": "2024-01-16T05:53:28.159099Z"
    },
    "papermill": {
     "duration": 0.049045,
     "end_time": "2024-01-16T05:53:28.163347",
     "exception": false,
     "start_time": "2024-01-16T05:53:28.114302",
     "status": "completed"
    },
    "tags": []
   },
   "outputs": [
    {
     "name": "stdout",
     "output_type": "stream",
     "text": [
      "<class 'pandas.core.frame.DataFrame'>\n",
      "RangeIndex: 2018352 entries, 0 to 2018351\n",
      "Data columns (total 9 columns):\n",
      " #   Column              Dtype  \n",
      "---  ------              -----  \n",
      " 0   county              int64  \n",
      " 1   is_business         int64  \n",
      " 2   product_type        int64  \n",
      " 3   target              float64\n",
      " 4   is_consumption      int64  \n",
      " 5   datetime            object \n",
      " 6   data_block_id       int64  \n",
      " 7   row_id              int64  \n",
      " 8   prediction_unit_id  int64  \n",
      "dtypes: float64(1), int64(7), object(1)\n",
      "memory usage: 138.6+ MB\n"
     ]
    }
   ],
   "source": [
    "train.info()"
   ]
  },
  {
   "cell_type": "code",
   "execution_count": 5,
   "id": "466597a7",
   "metadata": {
    "execution": {
     "iopub.execute_input": "2024-01-16T05:53:28.176173Z",
     "iopub.status.busy": "2024-01-16T05:53:28.174680Z",
     "iopub.status.idle": "2024-01-16T05:53:28.200651Z",
     "shell.execute_reply": "2024-01-16T05:53:28.199662Z"
    },
    "papermill": {
     "duration": 0.035152,
     "end_time": "2024-01-16T05:53:28.203264",
     "exception": false,
     "start_time": "2024-01-16T05:53:28.168112",
     "status": "completed"
    },
    "tags": []
   },
   "outputs": [
    {
     "data": {
      "text/html": [
       "<div>\n",
       "<style scoped>\n",
       "    .dataframe tbody tr th:only-of-type {\n",
       "        vertical-align: middle;\n",
       "    }\n",
       "\n",
       "    .dataframe tbody tr th {\n",
       "        vertical-align: top;\n",
       "    }\n",
       "\n",
       "    .dataframe thead th {\n",
       "        text-align: right;\n",
       "    }\n",
       "</style>\n",
       "<table border=\"1\" class=\"dataframe\">\n",
       "  <thead>\n",
       "    <tr style=\"text-align: right;\">\n",
       "      <th></th>\n",
       "      <th>county</th>\n",
       "      <th>is_business</th>\n",
       "      <th>product_type</th>\n",
       "      <th>target</th>\n",
       "      <th>is_consumption</th>\n",
       "      <th>datetime</th>\n",
       "      <th>data_block_id</th>\n",
       "      <th>row_id</th>\n",
       "      <th>prediction_unit_id</th>\n",
       "    </tr>\n",
       "  </thead>\n",
       "  <tbody>\n",
       "    <tr>\n",
       "      <th>0</th>\n",
       "      <td>0</td>\n",
       "      <td>0</td>\n",
       "      <td>1</td>\n",
       "      <td>0.713</td>\n",
       "      <td>0</td>\n",
       "      <td>2021-09-01 00:00:00</td>\n",
       "      <td>0</td>\n",
       "      <td>0</td>\n",
       "      <td>0</td>\n",
       "    </tr>\n",
       "    <tr>\n",
       "      <th>1</th>\n",
       "      <td>0</td>\n",
       "      <td>0</td>\n",
       "      <td>1</td>\n",
       "      <td>96.590</td>\n",
       "      <td>1</td>\n",
       "      <td>2021-09-01 00:00:00</td>\n",
       "      <td>0</td>\n",
       "      <td>1</td>\n",
       "      <td>0</td>\n",
       "    </tr>\n",
       "    <tr>\n",
       "      <th>2</th>\n",
       "      <td>0</td>\n",
       "      <td>0</td>\n",
       "      <td>2</td>\n",
       "      <td>0.000</td>\n",
       "      <td>0</td>\n",
       "      <td>2021-09-01 00:00:00</td>\n",
       "      <td>0</td>\n",
       "      <td>2</td>\n",
       "      <td>1</td>\n",
       "    </tr>\n",
       "    <tr>\n",
       "      <th>3</th>\n",
       "      <td>0</td>\n",
       "      <td>0</td>\n",
       "      <td>2</td>\n",
       "      <td>17.314</td>\n",
       "      <td>1</td>\n",
       "      <td>2021-09-01 00:00:00</td>\n",
       "      <td>0</td>\n",
       "      <td>3</td>\n",
       "      <td>1</td>\n",
       "    </tr>\n",
       "    <tr>\n",
       "      <th>4</th>\n",
       "      <td>0</td>\n",
       "      <td>0</td>\n",
       "      <td>3</td>\n",
       "      <td>2.904</td>\n",
       "      <td>0</td>\n",
       "      <td>2021-09-01 00:00:00</td>\n",
       "      <td>0</td>\n",
       "      <td>4</td>\n",
       "      <td>2</td>\n",
       "    </tr>\n",
       "  </tbody>\n",
       "</table>\n",
       "</div>"
      ],
      "text/plain": [
       "   county  is_business  product_type  target  is_consumption  \\\n",
       "0       0            0             1   0.713               0   \n",
       "1       0            0             1  96.590               1   \n",
       "2       0            0             2   0.000               0   \n",
       "3       0            0             2  17.314               1   \n",
       "4       0            0             3   2.904               0   \n",
       "\n",
       "              datetime  data_block_id  row_id  prediction_unit_id  \n",
       "0  2021-09-01 00:00:00              0       0                   0  \n",
       "1  2021-09-01 00:00:00              0       1                   0  \n",
       "2  2021-09-01 00:00:00              0       2                   1  \n",
       "3  2021-09-01 00:00:00              0       3                   1  \n",
       "4  2021-09-01 00:00:00              0       4                   2  "
      ]
     },
     "execution_count": 5,
     "metadata": {},
     "output_type": "execute_result"
    }
   ],
   "source": [
    "train.head()"
   ]
  },
  {
   "cell_type": "code",
   "execution_count": 6,
   "id": "5aac7153",
   "metadata": {
    "execution": {
     "iopub.execute_input": "2024-01-16T05:53:28.217006Z",
     "iopub.status.busy": "2024-01-16T05:53:28.215998Z",
     "iopub.status.idle": "2024-01-16T05:53:28.400524Z",
     "shell.execute_reply": "2024-01-16T05:53:28.398412Z"
    },
    "papermill": {
     "duration": 0.194375,
     "end_time": "2024-01-16T05:53:28.403998",
     "exception": false,
     "start_time": "2024-01-16T05:53:28.209623",
     "status": "completed"
    },
    "tags": []
   },
   "outputs": [
    {
     "data": {
      "text/plain": [
       "array(['2021-09-01 00:00:00', '2021-09-01 01:00:00',\n",
       "       '2021-09-01 02:00:00', ..., '2023-05-31 21:00:00',\n",
       "       '2023-05-31 22:00:00', '2023-05-31 23:00:00'], dtype=object)"
      ]
     },
     "execution_count": 6,
     "metadata": {},
     "output_type": "execute_result"
    }
   ],
   "source": [
    "# display datetime range\n",
    "train['datetime'].unique()"
   ]
  },
  {
   "cell_type": "markdown",
   "id": "7f39ecab",
   "metadata": {
    "papermill": {
     "duration": 0.004859,
     "end_time": "2024-01-16T05:53:28.414184",
     "exception": false,
     "start_time": "2024-01-16T05:53:28.409325",
     "status": "completed"
    },
    "tags": []
   },
   "source": [
    "Note that in the `train.csv` dataset, the datetime change begins with the hour, followed by the day, and then the month.\n",
    "\n",
    "Here is the pseudocode of `train.csv` dataset:"
   ]
  },
  {
   "cell_type": "code",
   "execution_count": 7,
   "id": "e52b52af",
   "metadata": {
    "execution": {
     "iopub.execute_input": "2024-01-16T05:53:28.428061Z",
     "iopub.status.busy": "2024-01-16T05:53:28.426521Z",
     "iopub.status.idle": "2024-01-16T05:53:28.433292Z",
     "shell.execute_reply": "2024-01-16T05:53:28.432324Z"
    },
    "papermill": {
     "duration": 0.016691,
     "end_time": "2024-01-16T05:53:28.435862",
     "exception": false,
     "start_time": "2024-01-16T05:53:28.419171",
     "status": "completed"
    },
    "tags": []
   },
   "outputs": [],
   "source": [
    "\n",
    "################## The pseudocode of the train dataset ##################\n",
    "#for year in range(2021, 2024):  \n",
    "#    for month in range(1, 13):  # Adjusted to correctly range from 1 to 12  \n",
    "#        for hour in range(24):  \n",
    "#           for county in range(15):  \n",
    "#                for is_business in range(2):  # Adjusted to correctly range from 0 to 1  \n",
    "#                    for product in range(4):  \n",
    "#                        print(target)  \n",
    "######################################################################"
   ]
  },
  {
   "cell_type": "markdown",
   "id": "53b018a4",
   "metadata": {
    "papermill": {
     "duration": 0.004561,
     "end_time": "2024-01-16T05:53:28.445450",
     "exception": false,
     "start_time": "2024-01-16T05:53:28.440889",
     "status": "completed"
    },
    "tags": []
   },
   "source": [
    "### Data Transformation"
   ]
  },
  {
   "cell_type": "code",
   "execution_count": 8,
   "id": "6096fe04",
   "metadata": {
    "execution": {
     "iopub.execute_input": "2024-01-16T05:53:28.457218Z",
     "iopub.status.busy": "2024-01-16T05:53:28.456400Z",
     "iopub.status.idle": "2024-01-16T05:53:28.732788Z",
     "shell.execute_reply": "2024-01-16T05:53:28.731101Z"
    },
    "papermill": {
     "duration": 0.285543,
     "end_time": "2024-01-16T05:53:28.735748",
     "exception": false,
     "start_time": "2024-01-16T05:53:28.450205",
     "status": "completed"
    },
    "tags": []
   },
   "outputs": [],
   "source": [
    "train['datetime'] = pd.to_datetime(train['datetime'])"
   ]
  },
  {
   "cell_type": "code",
   "execution_count": 9,
   "id": "b26ed4ce",
   "metadata": {
    "execution": {
     "iopub.execute_input": "2024-01-16T05:53:28.748038Z",
     "iopub.status.busy": "2024-01-16T05:53:28.747546Z",
     "iopub.status.idle": "2024-01-16T05:53:28.759965Z",
     "shell.execute_reply": "2024-01-16T05:53:28.758726Z"
    },
    "papermill": {
     "duration": 0.022482,
     "end_time": "2024-01-16T05:53:28.763211",
     "exception": false,
     "start_time": "2024-01-16T05:53:28.740729",
     "status": "completed"
    },
    "tags": []
   },
   "outputs": [
    {
     "name": "stdout",
     "output_type": "stream",
     "text": [
      "<class 'pandas.core.frame.DataFrame'>\n",
      "RangeIndex: 2018352 entries, 0 to 2018351\n",
      "Data columns (total 9 columns):\n",
      " #   Column              Dtype         \n",
      "---  ------              -----         \n",
      " 0   county              int64         \n",
      " 1   is_business         int64         \n",
      " 2   product_type        int64         \n",
      " 3   target              float64       \n",
      " 4   is_consumption      int64         \n",
      " 5   datetime            datetime64[ns]\n",
      " 6   data_block_id       int64         \n",
      " 7   row_id              int64         \n",
      " 8   prediction_unit_id  int64         \n",
      "dtypes: datetime64[ns](1), float64(1), int64(7)\n",
      "memory usage: 138.6 MB\n"
     ]
    }
   ],
   "source": [
    "# 'datetime' column is changed to datetime64[ns]\n",
    "train.info()"
   ]
  },
  {
   "cell_type": "code",
   "execution_count": 10,
   "id": "5d0cda2b",
   "metadata": {
    "execution": {
     "iopub.execute_input": "2024-01-16T05:53:28.776128Z",
     "iopub.status.busy": "2024-01-16T05:53:28.775639Z",
     "iopub.status.idle": "2024-01-16T05:53:28.791488Z",
     "shell.execute_reply": "2024-01-16T05:53:28.789889Z"
    },
    "papermill": {
     "duration": 0.024902,
     "end_time": "2024-01-16T05:53:28.793953",
     "exception": false,
     "start_time": "2024-01-16T05:53:28.769051",
     "status": "completed"
    },
    "tags": []
   },
   "outputs": [
    {
     "data": {
      "text/html": [
       "<div>\n",
       "<style scoped>\n",
       "    .dataframe tbody tr th:only-of-type {\n",
       "        vertical-align: middle;\n",
       "    }\n",
       "\n",
       "    .dataframe tbody tr th {\n",
       "        vertical-align: top;\n",
       "    }\n",
       "\n",
       "    .dataframe thead th {\n",
       "        text-align: right;\n",
       "    }\n",
       "</style>\n",
       "<table border=\"1\" class=\"dataframe\">\n",
       "  <thead>\n",
       "    <tr style=\"text-align: right;\">\n",
       "      <th></th>\n",
       "      <th>county</th>\n",
       "      <th>is_business</th>\n",
       "      <th>product_type</th>\n",
       "      <th>target</th>\n",
       "      <th>is_consumption</th>\n",
       "      <th>datetime</th>\n",
       "      <th>data_block_id</th>\n",
       "      <th>row_id</th>\n",
       "      <th>prediction_unit_id</th>\n",
       "    </tr>\n",
       "  </thead>\n",
       "  <tbody>\n",
       "    <tr>\n",
       "      <th>0</th>\n",
       "      <td>0</td>\n",
       "      <td>0</td>\n",
       "      <td>1</td>\n",
       "      <td>0.713</td>\n",
       "      <td>0</td>\n",
       "      <td>2021-09-01</td>\n",
       "      <td>0</td>\n",
       "      <td>0</td>\n",
       "      <td>0</td>\n",
       "    </tr>\n",
       "    <tr>\n",
       "      <th>1</th>\n",
       "      <td>0</td>\n",
       "      <td>0</td>\n",
       "      <td>1</td>\n",
       "      <td>96.590</td>\n",
       "      <td>1</td>\n",
       "      <td>2021-09-01</td>\n",
       "      <td>0</td>\n",
       "      <td>1</td>\n",
       "      <td>0</td>\n",
       "    </tr>\n",
       "    <tr>\n",
       "      <th>2</th>\n",
       "      <td>0</td>\n",
       "      <td>0</td>\n",
       "      <td>2</td>\n",
       "      <td>0.000</td>\n",
       "      <td>0</td>\n",
       "      <td>2021-09-01</td>\n",
       "      <td>0</td>\n",
       "      <td>2</td>\n",
       "      <td>1</td>\n",
       "    </tr>\n",
       "    <tr>\n",
       "      <th>3</th>\n",
       "      <td>0</td>\n",
       "      <td>0</td>\n",
       "      <td>2</td>\n",
       "      <td>17.314</td>\n",
       "      <td>1</td>\n",
       "      <td>2021-09-01</td>\n",
       "      <td>0</td>\n",
       "      <td>3</td>\n",
       "      <td>1</td>\n",
       "    </tr>\n",
       "    <tr>\n",
       "      <th>4</th>\n",
       "      <td>0</td>\n",
       "      <td>0</td>\n",
       "      <td>3</td>\n",
       "      <td>2.904</td>\n",
       "      <td>0</td>\n",
       "      <td>2021-09-01</td>\n",
       "      <td>0</td>\n",
       "      <td>4</td>\n",
       "      <td>2</td>\n",
       "    </tr>\n",
       "  </tbody>\n",
       "</table>\n",
       "</div>"
      ],
      "text/plain": [
       "   county  is_business  product_type  target  is_consumption   datetime  \\\n",
       "0       0            0             1   0.713               0 2021-09-01   \n",
       "1       0            0             1  96.590               1 2021-09-01   \n",
       "2       0            0             2   0.000               0 2021-09-01   \n",
       "3       0            0             2  17.314               1 2021-09-01   \n",
       "4       0            0             3   2.904               0 2021-09-01   \n",
       "\n",
       "   data_block_id  row_id  prediction_unit_id  \n",
       "0              0       0                   0  \n",
       "1              0       1                   0  \n",
       "2              0       2                   1  \n",
       "3              0       3                   1  \n",
       "4              0       4                   2  "
      ]
     },
     "execution_count": 10,
     "metadata": {},
     "output_type": "execute_result"
    }
   ],
   "source": [
    "train.head()"
   ]
  },
  {
   "cell_type": "code",
   "execution_count": 11,
   "id": "50de53ec",
   "metadata": {
    "execution": {
     "iopub.execute_input": "2024-01-16T05:53:28.807310Z",
     "iopub.status.busy": "2024-01-16T05:53:28.806787Z",
     "iopub.status.idle": "2024-01-16T05:53:28.832548Z",
     "shell.execute_reply": "2024-01-16T05:53:28.831058Z"
    },
    "papermill": {
     "duration": 0.035939,
     "end_time": "2024-01-16T05:53:28.835194",
     "exception": false,
     "start_time": "2024-01-16T05:53:28.799255",
     "status": "completed"
    },
    "tags": []
   },
   "outputs": [
    {
     "data": {
      "text/plain": [
       "<DatetimeArray>\n",
       "['2021-09-01 00:00:00', '2021-09-01 01:00:00', '2021-09-01 02:00:00',\n",
       " '2021-09-01 03:00:00', '2021-09-01 04:00:00', '2021-09-01 05:00:00',\n",
       " '2021-09-01 06:00:00', '2021-09-01 07:00:00', '2021-09-01 08:00:00',\n",
       " '2021-09-01 09:00:00',\n",
       " ...\n",
       " '2023-05-31 14:00:00', '2023-05-31 15:00:00', '2023-05-31 16:00:00',\n",
       " '2023-05-31 17:00:00', '2023-05-31 18:00:00', '2023-05-31 19:00:00',\n",
       " '2023-05-31 20:00:00', '2023-05-31 21:00:00', '2023-05-31 22:00:00',\n",
       " '2023-05-31 23:00:00']\n",
       "Length: 15312, dtype: datetime64[ns]"
      ]
     },
     "execution_count": 11,
     "metadata": {},
     "output_type": "execute_result"
    }
   ],
   "source": [
    "# display datetime range\n",
    "train['datetime'].unique()"
   ]
  },
  {
   "cell_type": "code",
   "execution_count": 12,
   "id": "81015a56",
   "metadata": {
    "execution": {
     "iopub.execute_input": "2024-01-16T05:53:28.847554Z",
     "iopub.status.busy": "2024-01-16T05:53:28.847084Z",
     "iopub.status.idle": "2024-01-16T05:53:29.119877Z",
     "shell.execute_reply": "2024-01-16T05:53:29.118012Z"
    },
    "papermill": {
     "duration": 0.282474,
     "end_time": "2024-01-16T05:53:29.122978",
     "exception": false,
     "start_time": "2024-01-16T05:53:28.840504",
     "status": "completed"
    },
    "tags": []
   },
   "outputs": [
    {
     "data": {
      "text/html": [
       "<div>\n",
       "<style scoped>\n",
       "    .dataframe tbody tr th:only-of-type {\n",
       "        vertical-align: middle;\n",
       "    }\n",
       "\n",
       "    .dataframe tbody tr th {\n",
       "        vertical-align: top;\n",
       "    }\n",
       "\n",
       "    .dataframe thead th {\n",
       "        text-align: right;\n",
       "    }\n",
       "</style>\n",
       "<table border=\"1\" class=\"dataframe\">\n",
       "  <thead>\n",
       "    <tr style=\"text-align: right;\">\n",
       "      <th></th>\n",
       "      <th>county</th>\n",
       "      <th>is_business</th>\n",
       "      <th>product_type</th>\n",
       "      <th>target</th>\n",
       "      <th>is_consumption</th>\n",
       "      <th>data_block_id</th>\n",
       "      <th>row_id</th>\n",
       "      <th>prediction_unit_id</th>\n",
       "    </tr>\n",
       "    <tr>\n",
       "      <th>datetime</th>\n",
       "      <th></th>\n",
       "      <th></th>\n",
       "      <th></th>\n",
       "      <th></th>\n",
       "      <th></th>\n",
       "      <th></th>\n",
       "      <th></th>\n",
       "      <th></th>\n",
       "    </tr>\n",
       "  </thead>\n",
       "  <tbody>\n",
       "    <tr>\n",
       "      <th>2021-09-01</th>\n",
       "      <td>0</td>\n",
       "      <td>0</td>\n",
       "      <td>1</td>\n",
       "      <td>0.713</td>\n",
       "      <td>0</td>\n",
       "      <td>0</td>\n",
       "      <td>0</td>\n",
       "      <td>0</td>\n",
       "    </tr>\n",
       "    <tr>\n",
       "      <th>2021-09-01</th>\n",
       "      <td>0</td>\n",
       "      <td>0</td>\n",
       "      <td>1</td>\n",
       "      <td>96.590</td>\n",
       "      <td>1</td>\n",
       "      <td>0</td>\n",
       "      <td>1</td>\n",
       "      <td>0</td>\n",
       "    </tr>\n",
       "    <tr>\n",
       "      <th>2021-09-01</th>\n",
       "      <td>0</td>\n",
       "      <td>0</td>\n",
       "      <td>2</td>\n",
       "      <td>0.000</td>\n",
       "      <td>0</td>\n",
       "      <td>0</td>\n",
       "      <td>2</td>\n",
       "      <td>1</td>\n",
       "    </tr>\n",
       "    <tr>\n",
       "      <th>2021-09-01</th>\n",
       "      <td>0</td>\n",
       "      <td>0</td>\n",
       "      <td>2</td>\n",
       "      <td>17.314</td>\n",
       "      <td>1</td>\n",
       "      <td>0</td>\n",
       "      <td>3</td>\n",
       "      <td>1</td>\n",
       "    </tr>\n",
       "    <tr>\n",
       "      <th>2021-09-01</th>\n",
       "      <td>0</td>\n",
       "      <td>0</td>\n",
       "      <td>3</td>\n",
       "      <td>2.904</td>\n",
       "      <td>0</td>\n",
       "      <td>0</td>\n",
       "      <td>4</td>\n",
       "      <td>2</td>\n",
       "    </tr>\n",
       "  </tbody>\n",
       "</table>\n",
       "</div>"
      ],
      "text/plain": [
       "            county  is_business  product_type  target  is_consumption  \\\n",
       "datetime                                                                \n",
       "2021-09-01       0            0             1   0.713               0   \n",
       "2021-09-01       0            0             1  96.590               1   \n",
       "2021-09-01       0            0             2   0.000               0   \n",
       "2021-09-01       0            0             2  17.314               1   \n",
       "2021-09-01       0            0             3   2.904               0   \n",
       "\n",
       "            data_block_id  row_id  prediction_unit_id  \n",
       "datetime                                               \n",
       "2021-09-01              0       0                   0  \n",
       "2021-09-01              0       1                   0  \n",
       "2021-09-01              0       2                   1  \n",
       "2021-09-01              0       3                   1  \n",
       "2021-09-01              0       4                   2  "
      ]
     },
     "execution_count": 12,
     "metadata": {},
     "output_type": "execute_result"
    }
   ],
   "source": [
    "# set index as ascending datetime\n",
    "train.set_index('datetime', inplace=True)\n",
    "train.sort_index()\n",
    "train['target'].fillna(value=0, inplace=True)\n",
    "# train.dropna(axis=0, inplace=True)\n",
    "train.head()"
   ]
  }
 ],
 "metadata": {
  "kaggle": {
   "accelerator": "none",
   "dataSources": [
    {
     "datasetId": 4278088,
     "sourceId": 7364268,
     "sourceType": "datasetVersion"
    }
   ],
   "dockerImageVersionId": 30635,
   "isGpuEnabled": false,
   "isInternetEnabled": true,
   "language": "python",
   "sourceType": "notebook"
  },
  "kernelspec": {
   "display_name": "Python 3",
   "language": "python",
   "name": "python3"
  },
  "language_info": {
   "codemirror_mode": {
    "name": "ipython",
    "version": 3
   },
   "file_extension": ".py",
   "mimetype": "text/x-python",
   "name": "python",
   "nbconvert_exporter": "python",
   "pygments_lexer": "ipython3",
   "version": "3.10.12"
  },
  "papermill": {
   "default_parameters": {},
   "duration": 28.371667,
   "end_time": "2024-01-16T05:53:31.057592",
   "environment_variables": {},
   "exception": null,
   "input_path": "__notebook__.ipynb",
   "output_path": "__notebook__.ipynb",
   "parameters": {},
   "start_time": "2024-01-16T05:53:02.685925",
   "version": "2.4.0"
  }
 },
 "nbformat": 4,
 "nbformat_minor": 5
}
