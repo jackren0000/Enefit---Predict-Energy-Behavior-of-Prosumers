{
 "cells": [
  {
   "cell_type": "code",
   "execution_count": 1,
   "id": "a3bb5fbd",
   "metadata": {
    "_cell_guid": "b1076dfc-b9ad-4769-8c92-a6c4dae69d19",
    "_uuid": "8f2839f25d086af736a60e9eeb907d3b93b6e0e5",
    "execution": {
     "iopub.execute_input": "2024-01-16T06:38:42.545400Z",
     "iopub.status.busy": "2024-01-16T06:38:42.544874Z",
     "iopub.status.idle": "2024-01-16T06:38:54.277305Z",
     "shell.execute_reply": "2024-01-16T06:38:54.276324Z"
    },
    "papermill": {
     "duration": 11.741024,
     "end_time": "2024-01-16T06:38:54.279601",
     "exception": false,
     "start_time": "2024-01-16T06:38:42.538577",
     "status": "completed"
    },
    "tags": []
   },
   "outputs": [],
   "source": [
    "#### load the libraries\n",
    "import pandas as pd\n",
    "import numpy as np\n",
    "import os\n",
    "from matplotlib import pyplot\n",
    "from sklearn.metrics import mean_absolute_error\n",
    "from keras.models import Sequential, load_model\n",
    "from keras.layers import LSTM, Dropout, Dense\n",
    "from keras.callbacks import EarlyStopping\n",
    "from sklearn.model_selection import train_test_split"
   ]
  },
  {
   "cell_type": "markdown",
   "id": "d7e2b9b4",
   "metadata": {
    "papermill": {
     "duration": 0.003909,
     "end_time": "2024-01-16T06:38:54.288001",
     "exception": false,
     "start_time": "2024-01-16T06:38:54.284092",
     "status": "completed"
    },
    "tags": []
   },
   "source": [
    "### Data Collection"
   ]
  },
  {
   "cell_type": "code",
   "execution_count": 2,
   "id": "766e9786",
   "metadata": {
    "execution": {
     "iopub.execute_input": "2024-01-16T06:38:54.298015Z",
     "iopub.status.busy": "2024-01-16T06:38:54.297364Z",
     "iopub.status.idle": "2024-01-16T06:38:54.302050Z",
     "shell.execute_reply": "2024-01-16T06:38:54.300962Z"
    },
    "papermill": {
     "duration": 0.011733,
     "end_time": "2024-01-16T06:38:54.303746",
     "exception": false,
     "start_time": "2024-01-16T06:38:54.292013",
     "status": "completed"
    },
    "tags": []
   },
   "outputs": [],
   "source": [
    "#### update data directory path\n",
    "DATA_DIR = '/kaggle/input/predict-energy-behavior-of-prosumers'"
   ]
  },
  {
   "cell_type": "code",
   "execution_count": 3,
   "id": "01409e65",
   "metadata": {
    "execution": {
     "iopub.execute_input": "2024-01-16T06:38:54.314188Z",
     "iopub.status.busy": "2024-01-16T06:38:54.313855Z",
     "iopub.status.idle": "2024-01-16T06:38:56.313444Z",
     "shell.execute_reply": "2024-01-16T06:38:56.312469Z"
    },
    "papermill": {
     "duration": 2.007252,
     "end_time": "2024-01-16T06:38:56.315566",
     "exception": false,
     "start_time": "2024-01-16T06:38:54.308314",
     "status": "completed"
    },
    "tags": []
   },
   "outputs": [],
   "source": [
    "#### read the CSV files into DataFrames\n",
    "train = pd.read_csv(os.path.join(DATA_DIR, \"train.csv\"))"
   ]
  },
  {
   "cell_type": "markdown",
   "id": "37364a48",
   "metadata": {
    "papermill": {
     "duration": 0.003835,
     "end_time": "2024-01-16T06:38:56.323738",
     "exception": false,
     "start_time": "2024-01-16T06:38:56.319903",
     "status": "completed"
    },
    "tags": []
   },
   "source": [
    "### Data Exploration"
   ]
  },
  {
   "cell_type": "code",
   "execution_count": 4,
   "id": "8cdde48e",
   "metadata": {
    "execution": {
     "iopub.execute_input": "2024-01-16T06:38:56.333069Z",
     "iopub.status.busy": "2024-01-16T06:38:56.332732Z",
     "iopub.status.idle": "2024-01-16T06:38:56.362387Z",
     "shell.execute_reply": "2024-01-16T06:38:56.361593Z"
    },
    "papermill": {
     "duration": 0.036346,
     "end_time": "2024-01-16T06:38:56.364011",
     "exception": false,
     "start_time": "2024-01-16T06:38:56.327665",
     "status": "completed"
    },
    "tags": []
   },
   "outputs": [
    {
     "name": "stdout",
     "output_type": "stream",
     "text": [
      "<class 'pandas.core.frame.DataFrame'>\n",
      "RangeIndex: 2018352 entries, 0 to 2018351\n",
      "Data columns (total 9 columns):\n",
      " #   Column              Dtype  \n",
      "---  ------              -----  \n",
      " 0   county              int64  \n",
      " 1   is_business         int64  \n",
      " 2   product_type        int64  \n",
      " 3   target              float64\n",
      " 4   is_consumption      int64  \n",
      " 5   datetime            object \n",
      " 6   data_block_id       int64  \n",
      " 7   row_id              int64  \n",
      " 8   prediction_unit_id  int64  \n",
      "dtypes: float64(1), int64(7), object(1)\n",
      "memory usage: 138.6+ MB\n"
     ]
    }
   ],
   "source": [
    "train.info()"
   ]
  },
  {
   "cell_type": "code",
   "execution_count": 5,
   "id": "349a089e",
   "metadata": {
    "execution": {
     "iopub.execute_input": "2024-01-16T06:38:56.373816Z",
     "iopub.status.busy": "2024-01-16T06:38:56.373425Z",
     "iopub.status.idle": "2024-01-16T06:38:56.391664Z",
     "shell.execute_reply": "2024-01-16T06:38:56.390723Z"
    },
    "papermill": {
     "duration": 0.025695,
     "end_time": "2024-01-16T06:38:56.393913",
     "exception": false,
     "start_time": "2024-01-16T06:38:56.368218",
     "status": "completed"
    },
    "tags": []
   },
   "outputs": [
    {
     "data": {
      "text/html": [
       "<div>\n",
       "<style scoped>\n",
       "    .dataframe tbody tr th:only-of-type {\n",
       "        vertical-align: middle;\n",
       "    }\n",
       "\n",
       "    .dataframe tbody tr th {\n",
       "        vertical-align: top;\n",
       "    }\n",
       "\n",
       "    .dataframe thead th {\n",
       "        text-align: right;\n",
       "    }\n",
       "</style>\n",
       "<table border=\"1\" class=\"dataframe\">\n",
       "  <thead>\n",
       "    <tr style=\"text-align: right;\">\n",
       "      <th></th>\n",
       "      <th>county</th>\n",
       "      <th>is_business</th>\n",
       "      <th>product_type</th>\n",
       "      <th>target</th>\n",
       "      <th>is_consumption</th>\n",
       "      <th>datetime</th>\n",
       "      <th>data_block_id</th>\n",
       "      <th>row_id</th>\n",
       "      <th>prediction_unit_id</th>\n",
       "    </tr>\n",
       "  </thead>\n",
       "  <tbody>\n",
       "    <tr>\n",
       "      <th>0</th>\n",
       "      <td>0</td>\n",
       "      <td>0</td>\n",
       "      <td>1</td>\n",
       "      <td>0.713</td>\n",
       "      <td>0</td>\n",
       "      <td>2021-09-01 00:00:00</td>\n",
       "      <td>0</td>\n",
       "      <td>0</td>\n",
       "      <td>0</td>\n",
       "    </tr>\n",
       "    <tr>\n",
       "      <th>1</th>\n",
       "      <td>0</td>\n",
       "      <td>0</td>\n",
       "      <td>1</td>\n",
       "      <td>96.590</td>\n",
       "      <td>1</td>\n",
       "      <td>2021-09-01 00:00:00</td>\n",
       "      <td>0</td>\n",
       "      <td>1</td>\n",
       "      <td>0</td>\n",
       "    </tr>\n",
       "    <tr>\n",
       "      <th>2</th>\n",
       "      <td>0</td>\n",
       "      <td>0</td>\n",
       "      <td>2</td>\n",
       "      <td>0.000</td>\n",
       "      <td>0</td>\n",
       "      <td>2021-09-01 00:00:00</td>\n",
       "      <td>0</td>\n",
       "      <td>2</td>\n",
       "      <td>1</td>\n",
       "    </tr>\n",
       "    <tr>\n",
       "      <th>3</th>\n",
       "      <td>0</td>\n",
       "      <td>0</td>\n",
       "      <td>2</td>\n",
       "      <td>17.314</td>\n",
       "      <td>1</td>\n",
       "      <td>2021-09-01 00:00:00</td>\n",
       "      <td>0</td>\n",
       "      <td>3</td>\n",
       "      <td>1</td>\n",
       "    </tr>\n",
       "    <tr>\n",
       "      <th>4</th>\n",
       "      <td>0</td>\n",
       "      <td>0</td>\n",
       "      <td>3</td>\n",
       "      <td>2.904</td>\n",
       "      <td>0</td>\n",
       "      <td>2021-09-01 00:00:00</td>\n",
       "      <td>0</td>\n",
       "      <td>4</td>\n",
       "      <td>2</td>\n",
       "    </tr>\n",
       "  </tbody>\n",
       "</table>\n",
       "</div>"
      ],
      "text/plain": [
       "   county  is_business  product_type  target  is_consumption  \\\n",
       "0       0            0             1   0.713               0   \n",
       "1       0            0             1  96.590               1   \n",
       "2       0            0             2   0.000               0   \n",
       "3       0            0             2  17.314               1   \n",
       "4       0            0             3   2.904               0   \n",
       "\n",
       "              datetime  data_block_id  row_id  prediction_unit_id  \n",
       "0  2021-09-01 00:00:00              0       0                   0  \n",
       "1  2021-09-01 00:00:00              0       1                   0  \n",
       "2  2021-09-01 00:00:00              0       2                   1  \n",
       "3  2021-09-01 00:00:00              0       3                   1  \n",
       "4  2021-09-01 00:00:00              0       4                   2  "
      ]
     },
     "execution_count": 5,
     "metadata": {},
     "output_type": "execute_result"
    }
   ],
   "source": [
    "train.head()"
   ]
  },
  {
   "cell_type": "code",
   "execution_count": 6,
   "id": "6f91e9d1",
   "metadata": {
    "execution": {
     "iopub.execute_input": "2024-01-16T06:38:56.405683Z",
     "iopub.status.busy": "2024-01-16T06:38:56.405343Z",
     "iopub.status.idle": "2024-01-16T06:38:56.538328Z",
     "shell.execute_reply": "2024-01-16T06:38:56.537321Z"
    },
    "papermill": {
     "duration": 0.14095,
     "end_time": "2024-01-16T06:38:56.540132",
     "exception": false,
     "start_time": "2024-01-16T06:38:56.399182",
     "status": "completed"
    },
    "tags": []
   },
   "outputs": [
    {
     "data": {
      "text/plain": [
       "array(['2021-09-01 00:00:00', '2021-09-01 01:00:00',\n",
       "       '2021-09-01 02:00:00', ..., '2023-05-31 21:00:00',\n",
       "       '2023-05-31 22:00:00', '2023-05-31 23:00:00'], dtype=object)"
      ]
     },
     "execution_count": 6,
     "metadata": {},
     "output_type": "execute_result"
    }
   ],
   "source": [
    "# display datetime range\n",
    "train['datetime'].unique()"
   ]
  },
  {
   "cell_type": "markdown",
   "id": "5e662e03",
   "metadata": {
    "papermill": {
     "duration": 0.004387,
     "end_time": "2024-01-16T06:38:56.549262",
     "exception": false,
     "start_time": "2024-01-16T06:38:56.544875",
     "status": "completed"
    },
    "tags": []
   },
   "source": [
    "Note that in the `train.csv` dataset, the datetime change begins with the hour, followed by the day, and then the month.\n",
    "\n",
    "Here is the pseudocode of `train.csv` dataset:"
   ]
  },
  {
   "cell_type": "code",
   "execution_count": 7,
   "id": "c8568516",
   "metadata": {
    "execution": {
     "iopub.execute_input": "2024-01-16T06:38:56.559603Z",
     "iopub.status.busy": "2024-01-16T06:38:56.559195Z",
     "iopub.status.idle": "2024-01-16T06:38:56.563381Z",
     "shell.execute_reply": "2024-01-16T06:38:56.562515Z"
    },
    "papermill": {
     "duration": 0.011421,
     "end_time": "2024-01-16T06:38:56.565112",
     "exception": false,
     "start_time": "2024-01-16T06:38:56.553691",
     "status": "completed"
    },
    "tags": []
   },
   "outputs": [],
   "source": [
    "\n",
    "################## The pseudocode of the train dataset ##################\n",
    "#for year in range(2021, 2024):  \n",
    "#    for month in range(1, 13):  # Adjusted to correctly range from 1 to 12  \n",
    "#        for hour in range(24):  \n",
    "#           for county in range(15):  \n",
    "#                for is_business in range(2):  # Adjusted to correctly range from 0 to 1  \n",
    "#                    for product in range(4):  \n",
    "#                        print(target)  \n",
    "######################################################################"
   ]
  },
  {
   "cell_type": "markdown",
   "id": "a21421fc",
   "metadata": {
    "papermill": {
     "duration": 0.004214,
     "end_time": "2024-01-16T06:38:56.573784",
     "exception": false,
     "start_time": "2024-01-16T06:38:56.569570",
     "status": "completed"
    },
    "tags": []
   },
   "source": [
    "### Data Transformation"
   ]
  },
  {
   "cell_type": "code",
   "execution_count": 8,
   "id": "2767d7af",
   "metadata": {
    "execution": {
     "iopub.execute_input": "2024-01-16T06:38:56.584722Z",
     "iopub.status.busy": "2024-01-16T06:38:56.584402Z",
     "iopub.status.idle": "2024-01-16T06:38:56.786669Z",
     "shell.execute_reply": "2024-01-16T06:38:56.785780Z"
    },
    "papermill": {
     "duration": 0.210591,
     "end_time": "2024-01-16T06:38:56.788886",
     "exception": false,
     "start_time": "2024-01-16T06:38:56.578295",
     "status": "completed"
    },
    "tags": []
   },
   "outputs": [],
   "source": [
    "train['datetime'] = pd.to_datetime(train['datetime'])"
   ]
  },
  {
   "cell_type": "code",
   "execution_count": 9,
   "id": "2a665eb2",
   "metadata": {
    "execution": {
     "iopub.execute_input": "2024-01-16T06:38:56.799600Z",
     "iopub.status.busy": "2024-01-16T06:38:56.799268Z",
     "iopub.status.idle": "2024-01-16T06:38:56.809172Z",
     "shell.execute_reply": "2024-01-16T06:38:56.808092Z"
    },
    "papermill": {
     "duration": 0.017589,
     "end_time": "2024-01-16T06:38:56.811405",
     "exception": false,
     "start_time": "2024-01-16T06:38:56.793816",
     "status": "completed"
    },
    "tags": []
   },
   "outputs": [
    {
     "name": "stdout",
     "output_type": "stream",
     "text": [
      "<class 'pandas.core.frame.DataFrame'>\n",
      "RangeIndex: 2018352 entries, 0 to 2018351\n",
      "Data columns (total 9 columns):\n",
      " #   Column              Dtype         \n",
      "---  ------              -----         \n",
      " 0   county              int64         \n",
      " 1   is_business         int64         \n",
      " 2   product_type        int64         \n",
      " 3   target              float64       \n",
      " 4   is_consumption      int64         \n",
      " 5   datetime            datetime64[ns]\n",
      " 6   data_block_id       int64         \n",
      " 7   row_id              int64         \n",
      " 8   prediction_unit_id  int64         \n",
      "dtypes: datetime64[ns](1), float64(1), int64(7)\n",
      "memory usage: 138.6 MB\n"
     ]
    }
   ],
   "source": [
    "# 'datetime' column is changed to datetime64[ns]\n",
    "train.info()"
   ]
  },
  {
   "cell_type": "code",
   "execution_count": 10,
   "id": "f135c1c0",
   "metadata": {
    "execution": {
     "iopub.execute_input": "2024-01-16T06:38:56.822528Z",
     "iopub.status.busy": "2024-01-16T06:38:56.822220Z",
     "iopub.status.idle": "2024-01-16T06:38:56.835773Z",
     "shell.execute_reply": "2024-01-16T06:38:56.834708Z"
    },
    "papermill": {
     "duration": 0.021203,
     "end_time": "2024-01-16T06:38:56.837697",
     "exception": false,
     "start_time": "2024-01-16T06:38:56.816494",
     "status": "completed"
    },
    "tags": []
   },
   "outputs": [
    {
     "data": {
      "text/html": [
       "<div>\n",
       "<style scoped>\n",
       "    .dataframe tbody tr th:only-of-type {\n",
       "        vertical-align: middle;\n",
       "    }\n",
       "\n",
       "    .dataframe tbody tr th {\n",
       "        vertical-align: top;\n",
       "    }\n",
       "\n",
       "    .dataframe thead th {\n",
       "        text-align: right;\n",
       "    }\n",
       "</style>\n",
       "<table border=\"1\" class=\"dataframe\">\n",
       "  <thead>\n",
       "    <tr style=\"text-align: right;\">\n",
       "      <th></th>\n",
       "      <th>county</th>\n",
       "      <th>is_business</th>\n",
       "      <th>product_type</th>\n",
       "      <th>target</th>\n",
       "      <th>is_consumption</th>\n",
       "      <th>datetime</th>\n",
       "      <th>data_block_id</th>\n",
       "      <th>row_id</th>\n",
       "      <th>prediction_unit_id</th>\n",
       "    </tr>\n",
       "  </thead>\n",
       "  <tbody>\n",
       "    <tr>\n",
       "      <th>0</th>\n",
       "      <td>0</td>\n",
       "      <td>0</td>\n",
       "      <td>1</td>\n",
       "      <td>0.713</td>\n",
       "      <td>0</td>\n",
       "      <td>2021-09-01</td>\n",
       "      <td>0</td>\n",
       "      <td>0</td>\n",
       "      <td>0</td>\n",
       "    </tr>\n",
       "    <tr>\n",
       "      <th>1</th>\n",
       "      <td>0</td>\n",
       "      <td>0</td>\n",
       "      <td>1</td>\n",
       "      <td>96.590</td>\n",
       "      <td>1</td>\n",
       "      <td>2021-09-01</td>\n",
       "      <td>0</td>\n",
       "      <td>1</td>\n",
       "      <td>0</td>\n",
       "    </tr>\n",
       "    <tr>\n",
       "      <th>2</th>\n",
       "      <td>0</td>\n",
       "      <td>0</td>\n",
       "      <td>2</td>\n",
       "      <td>0.000</td>\n",
       "      <td>0</td>\n",
       "      <td>2021-09-01</td>\n",
       "      <td>0</td>\n",
       "      <td>2</td>\n",
       "      <td>1</td>\n",
       "    </tr>\n",
       "    <tr>\n",
       "      <th>3</th>\n",
       "      <td>0</td>\n",
       "      <td>0</td>\n",
       "      <td>2</td>\n",
       "      <td>17.314</td>\n",
       "      <td>1</td>\n",
       "      <td>2021-09-01</td>\n",
       "      <td>0</td>\n",
       "      <td>3</td>\n",
       "      <td>1</td>\n",
       "    </tr>\n",
       "    <tr>\n",
       "      <th>4</th>\n",
       "      <td>0</td>\n",
       "      <td>0</td>\n",
       "      <td>3</td>\n",
       "      <td>2.904</td>\n",
       "      <td>0</td>\n",
       "      <td>2021-09-01</td>\n",
       "      <td>0</td>\n",
       "      <td>4</td>\n",
       "      <td>2</td>\n",
       "    </tr>\n",
       "  </tbody>\n",
       "</table>\n",
       "</div>"
      ],
      "text/plain": [
       "   county  is_business  product_type  target  is_consumption   datetime  \\\n",
       "0       0            0             1   0.713               0 2021-09-01   \n",
       "1       0            0             1  96.590               1 2021-09-01   \n",
       "2       0            0             2   0.000               0 2021-09-01   \n",
       "3       0            0             2  17.314               1 2021-09-01   \n",
       "4       0            0             3   2.904               0 2021-09-01   \n",
       "\n",
       "   data_block_id  row_id  prediction_unit_id  \n",
       "0              0       0                   0  \n",
       "1              0       1                   0  \n",
       "2              0       2                   1  \n",
       "3              0       3                   1  \n",
       "4              0       4                   2  "
      ]
     },
     "execution_count": 10,
     "metadata": {},
     "output_type": "execute_result"
    }
   ],
   "source": [
    "train.head()"
   ]
  },
  {
   "cell_type": "code",
   "execution_count": 11,
   "id": "d9181aeb",
   "metadata": {
    "execution": {
     "iopub.execute_input": "2024-01-16T06:38:56.849454Z",
     "iopub.status.busy": "2024-01-16T06:38:56.848685Z",
     "iopub.status.idle": "2024-01-16T06:38:56.866486Z",
     "shell.execute_reply": "2024-01-16T06:38:56.865526Z"
    },
    "papermill": {
     "duration": 0.025349,
     "end_time": "2024-01-16T06:38:56.868230",
     "exception": false,
     "start_time": "2024-01-16T06:38:56.842881",
     "status": "completed"
    },
    "tags": []
   },
   "outputs": [
    {
     "data": {
      "text/plain": [
       "<DatetimeArray>\n",
       "['2021-09-01 00:00:00', '2021-09-01 01:00:00', '2021-09-01 02:00:00',\n",
       " '2021-09-01 03:00:00', '2021-09-01 04:00:00', '2021-09-01 05:00:00',\n",
       " '2021-09-01 06:00:00', '2021-09-01 07:00:00', '2021-09-01 08:00:00',\n",
       " '2021-09-01 09:00:00',\n",
       " ...\n",
       " '2023-05-31 14:00:00', '2023-05-31 15:00:00', '2023-05-31 16:00:00',\n",
       " '2023-05-31 17:00:00', '2023-05-31 18:00:00', '2023-05-31 19:00:00',\n",
       " '2023-05-31 20:00:00', '2023-05-31 21:00:00', '2023-05-31 22:00:00',\n",
       " '2023-05-31 23:00:00']\n",
       "Length: 15312, dtype: datetime64[ns]"
      ]
     },
     "execution_count": 11,
     "metadata": {},
     "output_type": "execute_result"
    }
   ],
   "source": [
    "# display datetime range\n",
    "train['datetime'].unique()"
   ]
  },
  {
   "cell_type": "code",
   "execution_count": 12,
   "id": "9e6c1976",
   "metadata": {
    "execution": {
     "iopub.execute_input": "2024-01-16T06:38:56.879936Z",
     "iopub.status.busy": "2024-01-16T06:38:56.879599Z",
     "iopub.status.idle": "2024-01-16T06:38:56.948189Z",
     "shell.execute_reply": "2024-01-16T06:38:56.947256Z"
    },
    "papermill": {
     "duration": 0.076557,
     "end_time": "2024-01-16T06:38:56.950247",
     "exception": false,
     "start_time": "2024-01-16T06:38:56.873690",
     "status": "completed"
    },
    "tags": []
   },
   "outputs": [
    {
     "data": {
      "text/html": [
       "<div>\n",
       "<style scoped>\n",
       "    .dataframe tbody tr th:only-of-type {\n",
       "        vertical-align: middle;\n",
       "    }\n",
       "\n",
       "    .dataframe tbody tr th {\n",
       "        vertical-align: top;\n",
       "    }\n",
       "\n",
       "    .dataframe thead th {\n",
       "        text-align: right;\n",
       "    }\n",
       "</style>\n",
       "<table border=\"1\" class=\"dataframe\">\n",
       "  <thead>\n",
       "    <tr style=\"text-align: right;\">\n",
       "      <th></th>\n",
       "      <th>county</th>\n",
       "      <th>is_business</th>\n",
       "      <th>product_type</th>\n",
       "      <th>target</th>\n",
       "      <th>is_consumption</th>\n",
       "      <th>data_block_id</th>\n",
       "      <th>row_id</th>\n",
       "      <th>prediction_unit_id</th>\n",
       "    </tr>\n",
       "    <tr>\n",
       "      <th>datetime</th>\n",
       "      <th></th>\n",
       "      <th></th>\n",
       "      <th></th>\n",
       "      <th></th>\n",
       "      <th></th>\n",
       "      <th></th>\n",
       "      <th></th>\n",
       "      <th></th>\n",
       "    </tr>\n",
       "  </thead>\n",
       "  <tbody>\n",
       "    <tr>\n",
       "      <th>2021-09-01</th>\n",
       "      <td>0</td>\n",
       "      <td>0</td>\n",
       "      <td>1</td>\n",
       "      <td>0.713</td>\n",
       "      <td>0</td>\n",
       "      <td>0</td>\n",
       "      <td>0</td>\n",
       "      <td>0</td>\n",
       "    </tr>\n",
       "    <tr>\n",
       "      <th>2021-09-01</th>\n",
       "      <td>0</td>\n",
       "      <td>0</td>\n",
       "      <td>1</td>\n",
       "      <td>96.590</td>\n",
       "      <td>1</td>\n",
       "      <td>0</td>\n",
       "      <td>1</td>\n",
       "      <td>0</td>\n",
       "    </tr>\n",
       "    <tr>\n",
       "      <th>2021-09-01</th>\n",
       "      <td>0</td>\n",
       "      <td>0</td>\n",
       "      <td>2</td>\n",
       "      <td>0.000</td>\n",
       "      <td>0</td>\n",
       "      <td>0</td>\n",
       "      <td>2</td>\n",
       "      <td>1</td>\n",
       "    </tr>\n",
       "    <tr>\n",
       "      <th>2021-09-01</th>\n",
       "      <td>0</td>\n",
       "      <td>0</td>\n",
       "      <td>2</td>\n",
       "      <td>17.314</td>\n",
       "      <td>1</td>\n",
       "      <td>0</td>\n",
       "      <td>3</td>\n",
       "      <td>1</td>\n",
       "    </tr>\n",
       "    <tr>\n",
       "      <th>2021-09-01</th>\n",
       "      <td>0</td>\n",
       "      <td>0</td>\n",
       "      <td>3</td>\n",
       "      <td>2.904</td>\n",
       "      <td>0</td>\n",
       "      <td>0</td>\n",
       "      <td>4</td>\n",
       "      <td>2</td>\n",
       "    </tr>\n",
       "  </tbody>\n",
       "</table>\n",
       "</div>"
      ],
      "text/plain": [
       "            county  is_business  product_type  target  is_consumption  \\\n",
       "datetime                                                                \n",
       "2021-09-01       0            0             1   0.713               0   \n",
       "2021-09-01       0            0             1  96.590               1   \n",
       "2021-09-01       0            0             2   0.000               0   \n",
       "2021-09-01       0            0             2  17.314               1   \n",
       "2021-09-01       0            0             3   2.904               0   \n",
       "\n",
       "            data_block_id  row_id  prediction_unit_id  \n",
       "datetime                                               \n",
       "2021-09-01              0       0                   0  \n",
       "2021-09-01              0       1                   0  \n",
       "2021-09-01              0       2                   1  \n",
       "2021-09-01              0       3                   1  \n",
       "2021-09-01              0       4                   2  "
      ]
     },
     "execution_count": 12,
     "metadata": {},
     "output_type": "execute_result"
    }
   ],
   "source": [
    "# set index as ascending datetime\n",
    "train.set_index('datetime', inplace=True)\n",
    "train.sort_index()\n",
    "train['target'].fillna(value=0, inplace=True)\n",
    "# train.dropna(axis=0, inplace=True)\n",
    "train.head()"
   ]
  },
  {
   "cell_type": "code",
   "execution_count": 13,
   "id": "25390c45",
   "metadata": {
    "execution": {
     "iopub.execute_input": "2024-01-16T06:38:56.961287Z",
     "iopub.status.busy": "2024-01-16T06:38:56.961023Z",
     "iopub.status.idle": "2024-01-16T06:38:57.260260Z",
     "shell.execute_reply": "2024-01-16T06:38:57.258857Z"
    },
    "papermill": {
     "duration": 0.306943,
     "end_time": "2024-01-16T06:38:57.262253",
     "exception": false,
     "start_time": "2024-01-16T06:38:56.955310",
     "status": "completed"
    },
    "tags": []
   },
   "outputs": [
    {
     "name": "stdout",
     "output_type": "stream",
     "text": [
      "X_train shape: (1412846, 1, 5)\n",
      "y_train shape: (1412846,)\n",
      "X_test shape: (605506, 1, 5)\n",
      "y_test shape: (605506,)\n"
     ]
    }
   ],
   "source": [
    "# drop non-feature columns from the dataset\n",
    "X = train.drop(['target', 'row_id', 'data_block_id'], axis=1)\n",
    "# isolate the target variable\n",
    "y = train['target']\n",
    "\n",
    "# split the dataset into 70% training and 30% testing sets\n",
    "X_train, X_test, y_train, y_test = train_test_split(X, y, test_size=0.3, random_state=42)\n",
    "\n",
    "# reshape features for LSTM: [samples, timesteps, features]\n",
    "X_train = np.array(X_train).reshape((X_train.shape[0], 1, X_train.shape[1]))\n",
    "X_test = np.array(X_test).reshape((X_test.shape[0], 1, X_test.shape[1]))\n",
    "\n",
    "# print the shapes of the train and test data\n",
    "print(f\"X_train shape: {X_train.shape}\")\n",
    "print(f\"y_train shape: {y_train.shape}\")\n",
    "print(f\"X_test shape: {X_test.shape}\")\n",
    "print(f\"y_test shape: {y_test.shape}\")"
   ]
  },
  {
   "cell_type": "markdown",
   "id": "45ca74f2",
   "metadata": {
    "papermill": {
     "duration": 0.005579,
     "end_time": "2024-01-16T06:38:57.274637",
     "exception": false,
     "start_time": "2024-01-16T06:38:57.269058",
     "status": "completed"
    },
    "tags": []
   },
   "source": [
    "### Data Modeling"
   ]
  },
  {
   "cell_type": "code",
   "execution_count": 14,
   "id": "bc5c2e89",
   "metadata": {
    "execution": {
     "iopub.execute_input": "2024-01-16T06:38:57.287492Z",
     "iopub.status.busy": "2024-01-16T06:38:57.287162Z",
     "iopub.status.idle": "2024-01-16T06:39:00.370506Z",
     "shell.execute_reply": "2024-01-16T06:39:00.369174Z"
    },
    "papermill": {
     "duration": 3.092794,
     "end_time": "2024-01-16T06:39:00.372890",
     "exception": false,
     "start_time": "2024-01-16T06:38:57.280096",
     "status": "completed"
    },
    "tags": []
   },
   "outputs": [
    {
     "name": "stdout",
     "output_type": "stream",
     "text": [
      "Model: \"sequential\"\n",
      "_________________________________________________________________\n",
      " Layer (type)                Output Shape              Param #   \n",
      "=================================================================\n",
      " lstm (LSTM)                 (None, 1, 1024)           4218880   \n",
      "                                                                 \n",
      " dropout (Dropout)           (None, 1, 1024)           0         \n",
      "                                                                 \n",
      " lstm_1 (LSTM)               (None, 1, 1024)           8392704   \n",
      "                                                                 \n",
      " dropout_1 (Dropout)         (None, 1, 1024)           0         \n",
      "                                                                 \n",
      " lstm_2 (LSTM)               (None, 1024)              8392704   \n",
      "                                                                 \n",
      " dropout_2 (Dropout)         (None, 1024)              0         \n",
      "                                                                 \n",
      " dense (Dense)               (None, 1)                 1025      \n",
      "                                                                 \n",
      "=================================================================\n",
      "Total params: 21005313 (80.13 MB)\n",
      "Trainable params: 21005313 (80.13 MB)\n",
      "Non-trainable params: 0 (0.00 Byte)\n",
      "_________________________________________________________________\n"
     ]
    }
   ],
   "source": [
    "# define the LSTM model\n",
    "lst_model = Sequential()\n",
    "\n",
    "# first LSTM layer with dropout\n",
    "lst_model.add(LSTM(\n",
    "    units=1024,\n",
    "    return_sequences=True,\n",
    "    activation='swish',\n",
    "    input_shape=(X_train.shape[1], X_train.shape[2]),\n",
    "))\n",
    "lst_model.add(Dropout(0.2))\n",
    "\n",
    "# second LSTM layer with dropout\n",
    "lst_model.add(LSTM(\n",
    "    units=1024,\n",
    "    return_sequences=True,\n",
    "    activation='swish'\n",
    "))\n",
    "lst_model.add(Dropout(0.2))\n",
    "\n",
    "# third LSTM layer with dropout, returning only the last output\n",
    "lst_model.add(LSTM(\n",
    "    units=1024,\n",
    "    return_sequences=False,\n",
    "    activation='swish'\n",
    "))\n",
    "lst_model.add(Dropout(0.2))\n",
    "\n",
    "# dense layer for output\n",
    "lst_model.add(Dense(units=1))\n",
    "\n",
    "# compile the model\n",
    "lst_model.compile(optimizer='adam', loss='mean_absolute_error')\n",
    "\n",
    "# print the model summary\n",
    "lst_model.summary()"
   ]
  },
  {
   "cell_type": "code",
   "execution_count": 15,
   "id": "3f7b82c7",
   "metadata": {
    "execution": {
     "iopub.execute_input": "2024-01-16T06:39:00.387378Z",
     "iopub.status.busy": "2024-01-16T06:39:00.387080Z",
     "iopub.status.idle": "2024-01-16T15:14:01.287607Z",
     "shell.execute_reply": "2024-01-16T15:14:01.286715Z"
    },
    "papermill": {
     "duration": 30900.917517,
     "end_time": "2024-01-16T15:14:01.297260",
     "exception": false,
     "start_time": "2024-01-16T06:39:00.379743",
     "status": "completed"
    },
    "tags": []
   },
   "outputs": [
    {
     "name": "stdout",
     "output_type": "stream",
     "text": [
      "Epoch 1/100\n",
      "1380/1380 - 1736s - loss: 184.7210 - val_loss: 150.9777 - 1736s/epoch - 1s/step\n",
      "Epoch 2/100\n",
      "1380/1380 - 1717s - loss: 145.1806 - val_loss: 129.8330 - 1717s/epoch - 1s/step\n",
      "Epoch 3/100\n",
      "1380/1380 - 1720s - loss: 141.3576 - val_loss: 128.8076 - 1720s/epoch - 1s/step\n",
      "Epoch 4/100\n",
      "1380/1380 - 1715s - loss: 136.1012 - val_loss: 128.3396 - 1715s/epoch - 1s/step\n",
      "Epoch 5/100\n",
      "1380/1380 - 1718s - loss: 134.5696 - val_loss: 128.3208 - 1718s/epoch - 1s/step\n",
      "Epoch 6/100\n",
      "1380/1380 - 1720s - loss: 134.2141 - val_loss: 128.2342 - 1720s/epoch - 1s/step\n",
      "Epoch 7/100\n",
      "1380/1380 - 1721s - loss: 132.7256 - val_loss: 133.2573 - 1721s/epoch - 1s/step\n",
      "Epoch 8/100\n",
      "1380/1380 - 1713s - loss: 131.9007 - val_loss: 128.9148 - 1713s/epoch - 1s/step\n",
      "Epoch 9/100\n",
      "1380/1380 - 1713s - loss: 132.1106 - val_loss: 128.1590 - 1713s/epoch - 1s/step\n",
      "Epoch 10/100\n",
      "1380/1380 - 1717s - loss: 131.5710 - val_loss: 128.5714 - 1717s/epoch - 1s/step\n",
      "Epoch 11/100\n",
      "1380/1380 - 1717s - loss: 131.6569 - val_loss: 128.1808 - 1717s/epoch - 1s/step\n",
      "Epoch 12/100\n",
      "1380/1380 - 1714s - loss: 131.0536 - val_loss: 128.2465 - 1714s/epoch - 1s/step\n",
      "Epoch 13/100\n",
      "1380/1380 - 1719s - loss: 131.2858 - val_loss: 127.7740 - 1719s/epoch - 1s/step\n",
      "Epoch 14/100\n",
      "1380/1380 - 1712s - loss: 130.9548 - val_loss: 128.2322 - 1712s/epoch - 1s/step\n",
      "Epoch 15/100\n",
      "1380/1380 - 1725s - loss: 130.7130 - val_loss: 128.1751 - 1725s/epoch - 1s/step\n",
      "Epoch 16/100\n",
      "1380/1380 - 1715s - loss: 130.7677 - val_loss: 128.0432 - 1715s/epoch - 1s/step\n",
      "Epoch 17/100\n",
      "1380/1380 - 1703s - loss: 131.1025 - val_loss: 128.6821 - 1703s/epoch - 1s/step\n",
      "Epoch 18/100\n",
      "1380/1380 - 1708s - loss: 130.5597 - val_loss: 128.4886 - 1708s/epoch - 1s/step\n",
      "Epoch 18: early stopping\n"
     ]
    }
   ],
   "source": [
    "# set up the EarlyStopping callback to monitor the validation loss\n",
    "earlyStop = EarlyStopping(\n",
    "    monitor=\"val_loss\", \n",
    "    verbose=2,          # verbose mode will print out extra information\n",
    "    mode='min',         # the training will stop when the quantity monitored has stopped decreasing\n",
    "    patience=5          # number of epochs with no improvement after which training will be stopped\n",
    ")\n",
    "\n",
    "# fit the LSTM model to the training data\n",
    "history = lst_model.fit(\n",
    "    X_train, y_train,                       # training data and labels\n",
    "    epochs=100,                             # maximum number of epochs to run\n",
    "    batch_size=1024,                        # batch size for training\n",
    "    validation_data=(X_test, y_test),       # validation data for evaluating the model\n",
    "    callbacks=[earlyStop],                  # list of callbacks, in this case just EarlyStopping\n",
    "    verbose=2,                              # verbose mode will print out extra information per epoch\n",
    "    shuffle=False                           # don't shuffle the data, usually important in time series\n",
    ")"
   ]
  },
  {
   "cell_type": "code",
   "execution_count": null,
   "id": "c8800aa5",
   "metadata": {
    "papermill": {
     "duration": 0.008191,
     "end_time": "2024-01-16T15:14:01.313843",
     "exception": false,
     "start_time": "2024-01-16T15:14:01.305652",
     "status": "completed"
    },
    "tags": []
   },
   "outputs": [],
   "source": []
  }
 ],
 "metadata": {
  "kaggle": {
   "accelerator": "none",
   "dataSources": [
    {
     "datasetId": 4278088,
     "sourceId": 7364268,
     "sourceType": "datasetVersion"
    }
   ],
   "dockerImageVersionId": 30635,
   "isGpuEnabled": false,
   "isInternetEnabled": true,
   "language": "python",
   "sourceType": "notebook"
  },
  "kernelspec": {
   "display_name": "Python 3",
   "language": "python",
   "name": "python3"
  },
  "language_info": {
   "codemirror_mode": {
    "name": "ipython",
    "version": 3
   },
   "file_extension": ".py",
   "mimetype": "text/x-python",
   "name": "python",
   "nbconvert_exporter": "python",
   "pygments_lexer": "ipython3",
   "version": "3.10.12"
  },
  "papermill": {
   "default_parameters": {},
   "duration": 30922.963477,
   "end_time": "2024-01-16T15:14:03.090135",
   "environment_variables": {},
   "exception": null,
   "input_path": "__notebook__.ipynb",
   "output_path": "__notebook__.ipynb",
   "parameters": {},
   "start_time": "2024-01-16T06:38:40.126658",
   "version": "2.4.0"
  }
 },
 "nbformat": 4,
 "nbformat_minor": 5
}
